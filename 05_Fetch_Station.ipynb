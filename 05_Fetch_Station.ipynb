{
 "cells": [
  {
   "cell_type": "markdown",
   "metadata": {},
   "source": [
    "# Fetch and export SNOTEL sites and daily time series data"
   ]
  },
  {
   "cell_type": "code",
   "execution_count": 1,
   "metadata": {},
   "outputs": [],
   "source": [
    "from collections import OrderedDict\n",
    "import numpy as np\n",
    "import pandas as pd\n",
    "import geopandas as gpd\n",
    "from shapely import geometry as sgeom\n",
    "import ulmo\n",
    "import json\n",
    "import requests"
   ]
  },
  {
   "cell_type": "code",
   "execution_count": 3,
   "metadata": {},
   "outputs": [],
   "source": [
    "#########################################################################\n",
    "############################ USER INPUTS ################################\n",
    "#########################################################################\n",
    "\n",
    "# DOMAIN\n",
    "# choose the modeling domain\n",
    "domain = 'BEAU'\n",
    "\n",
    "# PATHS\n",
    "dataPath = '/nfs/attic/dfh/2020_NPRB/data/snotel/'+domain+'/'\n",
    "\n",
    "\n",
    "# DATES\n",
    "st_dt = \"1988-09-01\"\n",
    "ed_dt = \"2019-08-31\"\n",
    "#########################################################################"
   ]
  },
  {
   "cell_type": "code",
   "execution_count": 3,
   "metadata": {},
   "outputs": [],
   "source": [
    "# functions to get SNOTEL stations as geodataframe\n",
    "def sites_asgdf(ulmo_getsites, stn_proj):\n",
    "    \"\"\" Convert ulmo.cuahsi.wof.get_sites response into a point GeoDataframe\n",
    "    \"\"\"\n",
    "    \n",
    "    # Note: Found one SNOTEL site that was missing the location key\n",
    "    sites_df = pd.DataFrame.from_records([\n",
    "        OrderedDict(code=s['code'], \n",
    "        longitude=float(s['location']['longitude']), \n",
    "        latitude=float(s['location']['latitude']), \n",
    "        name=s['name'], \n",
    "        elevation_m=s['elevation_m'])\n",
    "        for _,s in ulmo_getsites.items()\n",
    "        if 'location' in s\n",
    "    ])\n",
    "\n",
    "    sites_gdf = gpd.GeoDataFrame(\n",
    "        sites_df, \n",
    "        geometry=gpd.points_from_xy(sites_df['longitude'], sites_df['latitude']),\n",
    "        crs=stn_proj\n",
    "    )\n",
    "    return sites_gdf\n",
    "\n",
    "def get_snotel_stns(domain):\n",
    "    \n",
    "    #path to domains\n",
    "    domains_resp = requests.get(\"https://raw.githubusercontent.com/NPRB/02_preprocess_python/main/NPRB_domains.json\")\n",
    "    domains = domains_resp.json()\n",
    "\n",
    "    #Snotel bounding box\n",
    "    Bbox = domains[domain]['Bbox']\n",
    "\n",
    "    # Snotel projection\n",
    "    stn_proj = domains[domain]['stn_proj']\n",
    "    # model projection\n",
    "    mod_proj = domains[domain]['mod_proj']\n",
    "\n",
    "    # Convert the bounding box dictionary to a shapely Polygon geometry using sgeom.box\n",
    "    box_sgeom = sgeom.box(Bbox['lonmin'], Bbox['latmin'], Bbox['lonmax'], Bbox['latmax'])\n",
    "    box_gdf = gpd.GeoDataFrame(geometry=[box_sgeom], crs=stn_proj)\n",
    "    \n",
    "    # WaterML/WOF WSDL endpoint url \n",
    "    #snotel \n",
    "    wsdlurl = \"https://hydroportal.cuahsi.org/Snotel/cuahsi_1_1.asmx?WSDL\"\n",
    "\n",
    "    # get dictionary of snotel sites \n",
    "    sites = ulmo.cuahsi.wof.get_sites(wsdlurl,user_cache=True)\n",
    "\n",
    "    #turn sites to geodataframe \n",
    "    snotel_gdf = sites_asgdf(sites,stn_proj)\n",
    "    \n",
    "    #clip snotel sites to domain bounding box\n",
    "    gdf = gpd.sjoin(snotel_gdf, box_gdf, how=\"inner\")\n",
    "    gdf.drop(columns='index_right', inplace=True)\n",
    "    gdf.reset_index(drop=True, inplace=True)\n",
    "    \n",
    "    #scan (east coast)\n",
    "    wsdlurl_scan = \"https://hydroportal.cuahsi.org/Scan/cuahsi_1_1.asmx?WSDL\"\n",
    "    \n",
    "    # get dictionary of snotel sites \n",
    "    scan_sites = ulmo.cuahsi.wof.get_sites(wsdlurl_scan,user_cache=True)\n",
    "    \n",
    "    #turn sites to geodataframe \n",
    "    scan_gdf = sites_asgdf(scan_sites,stn_proj)\n",
    "    \n",
    "    #clip snotel sites to domain bounding box\n",
    "    gdf2 = gpd.sjoin(scan_gdf, box_gdf, how=\"inner\")\n",
    "    gdf2.drop(columns='index_right', inplace=True)\n",
    "    gdf2.reset_index(drop=True, inplace=True)\n",
    "    \n",
    "    # concatenate snotel and scan\n",
    "    frames = [gdf, gdf2]\n",
    "    gdfs = pd.concat(frames)\n",
    "\n",
    "    #add columns with projected coordinates \n",
    "    CSO_proj = gdfs.to_crs(mod_proj)\n",
    "    gdfs['easting'] = CSO_proj.geometry.x\n",
    "    gdfs['northing'] = CSO_proj.geometry.y\n",
    "    \n",
    "    return gdfs"
   ]
  },
  {
   "cell_type": "code",
   "execution_count": 4,
   "metadata": {},
   "outputs": [],
   "source": [
    "def fetch(sitecode, variablecode, start_date, end_date):\n",
    "    print(sitecode, variablecode, start_date, end_date)\n",
    "    values_df = None\n",
    "    #snotel \n",
    "    wsdlurl = \"https://hydroportal.cuahsi.org/Snotel/cuahsi_1_1.asmx?WSDL\"\n",
    "    try:\n",
    "        #Request data from the server\n",
    "        site_values = ulmo.cuahsi.wof.get_values(\n",
    "            wsdlurl, 'SNOTEL:'+sitecode, variablecode, start=start_date, end=end_date\n",
    "        )\n",
    "        #Convert to a Pandas DataFrame   \n",
    "        values_df = pd.DataFrame.from_dict(site_values['values'])\n",
    "        #Parse the datetime values to Pandas Timestamp objects\n",
    "        values_df['datetime'] = pd.to_datetime(values_df['datetime'])\n",
    "        #Set the DataFrame index to the Timestamps\n",
    "        values_df.set_index('datetime', inplace=True)\n",
    "        #Convert values to float and replace -9999 nodata values with NaN\n",
    "        values_df['value'] = pd.to_numeric(values_df['value']).replace(-9999, np.nan)\n",
    "        #Remove any records flagged with lower quality\n",
    "        values_df = values_df[values_df['quality_control_level_code'] == '1']\n",
    "    except:\n",
    "        print(\"Unable to fetch %s\" % variablecode)\n",
    "    \n",
    "    return values_df"
   ]
  },
  {
   "cell_type": "code",
   "execution_count": 5,
   "metadata": {},
   "outputs": [],
   "source": [
    "def fetch_scan(sitecode, variablecode, start_date, end_date):\n",
    "    print(sitecode, variablecode, start_date, end_date)\n",
    "    values_df = None\n",
    "    #scan\n",
    "    wsdlurl = \"https://hydroportal.cuahsi.org/Scan/cuahsi_1_1.asmx?WSDL\"\n",
    "    try:\n",
    "        #Request data from the server\n",
    "        site_values = ulmo.cuahsi.wof.get_values(\n",
    "            wsdlurl, 'SCAN:'+sitecode, variablecode, start=start_date, end=end_date\n",
    "        )\n",
    "        #Convert to a Pandas DataFrame   \n",
    "        values_df = pd.DataFrame.from_dict(site_values['values'])\n",
    "        #Parse the datetime values to Pandas Timestamp objects\n",
    "        values_df['datetime'] = pd.to_datetime(values_df['datetime'])\n",
    "        #Set the DataFrame index to the Timestamps\n",
    "        values_df.set_index('datetime', inplace=True)\n",
    "        #Convert values to float and replace -9999 nodata values with NaN\n",
    "        values_df['value'] = pd.to_numeric(values_df['value']).replace(-9999, np.nan)\n",
    "        #Remove any records flagged with lower quality\n",
    "        values_df = values_df[values_df['quality_control_level_code'] == '1']\n",
    "    except:\n",
    "        print(\"Unable to fetch %s\" % variablecode)\n",
    "    \n",
    "    return values_df"
   ]
  },
  {
   "cell_type": "code",
   "execution_count": 6,
   "metadata": {},
   "outputs": [],
   "source": [
    "# returns daily timeseries\n",
    "# https://www.wcc.nrcs.usda.gov/web_service/AWDB_Web_Service_Reference.htm#commonlyUsedElementCodes\n",
    "# 'WTEQ': swe [in]\n",
    "# 'SNWD': snow depth [in]\n",
    "# 'PRCP': precipitation increment [in]\n",
    "# 'PREC': precipitation accumulation [in]\n",
    "# 'TAVG': average air temp [F]\n",
    "# 'TMIN': minimum air temp [F]\n",
    "# 'TMAX': maximum air temp [F]\n",
    "# 'TOBS': observered air temp [F]\n",
    "def get_snotel_data(gdf,sd_dt, ed_dt,var,units='metric'):\n",
    "    '''\n",
    "    gdf - pandas geodataframe of SNOTEL sites\n",
    "    st_dt - start date string 'yyyy-mm-dd'\n",
    "    ed_dt - end date string 'yyyy-mm-dd'\n",
    "    var - snotel variable of interest \n",
    "    units - 'metric' (default) or 'imperial'\n",
    "    '''\n",
    "    stn_data = pd.DataFrame(index=pd.date_range(start=st_dt, end=ed_dt))\n",
    "    \n",
    "\n",
    "    for sitecode in gdf.code:\n",
    "        if sitecode[-4:] == 'SNTL':\n",
    "            try:\n",
    "                data = fetch(sitecode,'SNOTEL:'+var+'_D', start_date=st_dt, end_date=ed_dt)\n",
    "                #check for nan values\n",
    "    ### uncomment this if you want to drop stations with x % missing data\n",
    "    #             if len(data.value[np.isnan(data.value)]) > 0:\n",
    "    #                 #check if more than 10% of data is missing\n",
    "    #                 if len(data.value[np.isnan(data.value)])/len(data) > .15:\n",
    "    #                     print('More than 15% of days missing')\n",
    "    #                     gdf.drop(gdf.loc[gdf['code']==sitecode].index, inplace=True)\n",
    "    #                     continue\n",
    "                stn_data[sitecode] = data.value\n",
    "            except:\n",
    "                gdf.drop(gdf.loc[gdf['code']==sitecode].index, inplace=True)  \n",
    "                \n",
    "        if sitecode[-4:] == 'SCAN':\n",
    "            try:\n",
    "                data = fetch_scan(sitecode,'SCAN:'+var+'_D', start_date=st_dt, end_date=ed_dt)\n",
    "                stn_data[sitecode] = data.value\n",
    "            except:\n",
    "                gdf.drop(gdf.loc[gdf['code']==sitecode].index, inplace=True)  \n",
    "                \n",
    "    gdf.reset_index(drop=True, inplace=True)\n",
    "    if units == 'metric':\n",
    "        if (var == 'WTEQ') |(var == 'SNWD') |(var == 'PRCP') |(var == 'PREC'):\n",
    "            #convert SNOTEL units[in] to [m]\n",
    "            for sitecode in gdf.code:\n",
    "                stn_data[sitecode] = 0.0254 * stn_data[sitecode]\n",
    "        elif (var == 'TAVG') |(var == 'TMIN') |(var == 'TMAX') |(var == 'TOBS'):\n",
    "            #convert SNOTEL units[F] to [C]\n",
    "            for sitecode in gdf.code:\n",
    "                stn_data[sitecode] = (stn_data[sitecode] - 32) * 5/9\n",
    "    return gdf, stn_data"
   ]
  },
  {
   "cell_type": "code",
   "execution_count": 7,
   "metadata": {},
   "outputs": [
    {
     "name": "stdout",
     "output_type": "stream",
     "text": [
      "BEAU\n",
      "5\n",
      "0     957_AK_SNTL\n",
      "1     968_AK_SNTL\n",
      "2    1175_AK_SNTL\n",
      "3    1177_AK_SNTL\n",
      "4    1183_AK_SNTL\n",
      "Name: code, dtype: object\n",
      "BRIS\n",
      "19\n",
      "0    1062_AK_SNTL\n",
      "1    1086_AK_SNTL\n",
      "2    1036_AK_SNTL\n",
      "3    1072_AK_SNTL\n",
      "4     201_AK_SNTL\n",
      "5    1003_AK_SNTL\n",
      "6    1191_AK_SNTL\n",
      "7     987_AK_SNTL\n",
      "8     973_AK_SNTL\n",
      "9    1266_AK_SNTL\n",
      "0    1232_AK_SCAN\n",
      "1    2211_AK_SCAN\n",
      "2    2208_AK_SCAN\n",
      "3    1233_AK_SCAN\n",
      "4    2062_AK_SCAN\n",
      "5    2209_AK_SCAN\n",
      "6    2063_AK_SCAN\n",
      "7    2221_AK_SCAN\n",
      "8    1234_AK_SCAN\n",
      "Name: code, dtype: object\n",
      "CHUK\n",
      "7\n",
      "0    1036_AK_SNTL\n",
      "1    1175_AK_SNTL\n",
      "2     986_AK_SNTL\n",
      "3     973_AK_SNTL\n",
      "0    2213_AK_SCAN\n",
      "1    2211_AK_SCAN\n",
      "2    2221_AK_SCAN\n",
      "Name: code, dtype: object\n",
      "JUNE\n",
      "1\n",
      "0    1001_AK_SNTL\n",
      "Name: code, dtype: object\n",
      "KLAW\n",
      "0\n",
      "Series([], Name: code, dtype: object)\n",
      "SITK\n",
      "0\n",
      "Series([], Name: code, dtype: object)\n",
      "TAKU\n",
      "2\n",
      "0    1270_AK_SNTL\n",
      "1    1001_AK_SNTL\n",
      "Name: code, dtype: object\n",
      "YUKO\n",
      "54\n",
      "0     1267_AK_SNTL\n",
      "1     1189_AK_SNTL\n",
      "2     1070_AK_SNTL\n",
      "3      957_AK_SNTL\n",
      "4     1086_AK_SNTL\n",
      "5     1182_AK_SNTL\n",
      "6     1093_AK_SNTL\n",
      "7      958_AK_SNTL\n",
      "8      959_AK_SNTL\n",
      "9      960_AK_SNTL\n",
      "10    1071_AK_SNTL\n",
      "11    1092_AK_SNTL\n",
      "12    1174_AK_SNTL\n",
      "13    1268_AK_SNTL\n",
      "14     961_AK_SNTL\n",
      "15     962_AK_SNTL\n",
      "16     956_AK_SNTL\n",
      "17     963_AK_SNTL\n",
      "18     964_AK_SNTL\n",
      "19    1091_AK_SNTL\n",
      "20     946_AK_SNTL\n",
      "21    1275_AK_SNTL\n",
      "22    1036_AK_SNTL\n",
      "23    1072_AK_SNTL\n",
      "24    1175_AK_SNTL\n",
      "25     966_AK_SNTL\n",
      "26     947_AK_SNTL\n",
      "27    1096_AK_SNTL\n",
      "28    1094_AK_SNTL\n",
      "29     949_AK_SNTL\n",
      "30    1035_AK_SNTL\n",
      "31    1103_AK_SNTL\n",
      "32    1073_AK_SNTL\n",
      "33     948_AK_SNTL\n",
      "34     950_AK_SNTL\n",
      "35     986_AK_SNTL\n",
      "36    1002_AK_SNTL\n",
      "37    1178_AK_SNTL\n",
      "38     973_AK_SNTL\n",
      "39    1095_AK_SNTL\n",
      "40     955_AK_SNTL\n",
      "41     967_AK_SNTL\n",
      "42    1266_AK_SNTL\n",
      "43     951_AK_SNTL\n",
      "44    1089_AK_SNTL\n",
      "45     954_AK_SNTL\n",
      "46     952_AK_SNTL\n",
      "47    1090_AK_SNTL\n",
      "48    1055_AK_SNTL\n",
      "0     2213_AK_SCAN\n",
      "1     2211_AK_SCAN\n",
      "2     2208_AK_SCAN\n",
      "3     2212_AK_SCAN\n",
      "4     2221_AK_SCAN\n",
      "Name: code, dtype: object\n"
     ]
    },
    {
     "data": {
      "image/png": "[encoded data removed]",
      "text/plain": [
       "<Figure size 432x288 with 1 Axes>"
      ]
     },
     "metadata": {
      "needs_background": "light"
     },
     "output_type": "display_data"
    },
    {
     "data": {
      "image/png": "[encoded data removed]",
      "text/plain": [
       "<Figure size 432x288 with 1 Axes>"
      ]
     },
     "metadata": {
      "needs_background": "light"
     },
     "output_type": "display_data"
    },
    {
     "data": {
      "image/png": "[encoded data removed]",
      "text/plain": [
       "<Figure size 432x288 with 1 Axes>"
      ]
     },
     "metadata": {
      "needs_background": "light"
     },
     "output_type": "display_data"
    },
    {
     "data": {
      "image/png": "[encoded data removed]",
      "text/plain": [
       "<Figure size 432x288 with 1 Axes>"
      ]
     },
     "metadata": {
      "needs_background": "light"
     },
     "output_type": "display_data"
    },
    {
     "data": {
      "image/png": "[encoded data removed]",
      "text/plain": [
       "<Figure size 432x288 with 1 Axes>"
      ]
     },
     "metadata": {
      "needs_background": "light"
     },
     "output_type": "display_data"
    },
    {
     "data": {
      "image/png": "[encoded data removed]",
      "text/plain": [
       "<Figure size 432x288 with 1 Axes>"
      ]
     },
     "metadata": {
      "needs_background": "light"
     },
     "output_type": "display_data"
    }
   ],
   "source": [
    "import matplotlib.pyplot as plt\n",
    "# run all AK domains\n",
    "domain_list = ['BEAU','BRIS','CHUK','JUNE','KLAW','SITK','TAKU','YUKO']\n",
    "\n",
    "for domain in domain_list:\n",
    "    print(domain)\n",
    "    #get geodataframe of all SNOTEL sites in the domain\n",
    "    snotel_gdf = get_snotel_stns(domain)\n",
    "    print(len(snotel_gdf))\n",
    "    print(snotel_gdf.code)\n",
    "    if len(snotel_gdf)>0:\n",
    "        fig, ax = plt.subplots()\n",
    "        snotel_gdf.plot(ax=ax)"
   ]
  },
  {
   "cell_type": "code",
   "execution_count": 8,
   "metadata": {},
   "outputs": [
    {
     "name": "stdout",
     "output_type": "stream",
     "text": [
      "0    1001_AK_SNTL\n",
      "Name: code, dtype: object\n",
      "1001_AK_SNTL SNOTEL:WTEQ_D 1988-09-01 2019-08-31\n"
     ]
    }
   ],
   "source": [
    "# domain = 'JUNE'\n",
    "# #get geodataframe of all SNOTEL sites in the domain\n",
    "# snotel_gdf = get_snotel_stns(domain)\n",
    "# print(snotel_gdf.code)\n",
    "\n",
    "# #get xy coordinates of stations in gdf \n",
    "\n",
    "# #get SWE timeseries \n",
    "# domain_gdf, swe = get_snotel_data(snotel_gdf,st_dt,ed_dt,'WTEQ')"
   ]
  },
  {
   "cell_type": "markdown",
   "metadata": {},
   "source": [
    "# Execute Functions"
   ]
  },
  {
   "cell_type": "code",
   "execution_count": 16,
   "metadata": {},
   "outputs": [
    {
     "name": "stdout",
     "output_type": "stream",
     "text": [
      "2069_NH_SCAN SNOTEL:WTEQ_D 2011-10-01 2016-09-30\n",
      "2069_NH_SCAN SNOTEL:SNWD_D 2011-10-01 2016-09-30\n",
      "2069_NH_SCAN SNOTEL:PRCP_D 2011-10-01 2016-09-30\n",
      "2069_NH_SCAN SNOTEL:TAVG_D 2011-10-01 2016-09-30\n",
      "2069_NH_SCAN SNOTEL:TMIN_D 2011-10-01 2016-09-30\n",
      "2069_NH_SCAN SNOTEL:TMAX_D 2011-10-01 2016-09-30\n"
     ]
    }
   ],
   "source": [
    "#get geodataframe of all SNOTEL sites in the domain\n",
    "snotel_gdf = get_snotel_stns(domain)\n",
    "\n",
    "#get SWE timeseries \n",
    "domain_gdf, swe = get_snotel_data(snotel_gdf,st_dt,ed_dt,'WTEQ')\n",
    "#get snow depth timeseries \n",
    "domain_gdf, hs = get_snotel_data(snotel_gdf,st_dt,ed_dt,'SNWD')\n",
    "#get precipitation timeseries \n",
    "domain_gdf, pr = get_snotel_data(snotel_gdf,st_dt,ed_dt,'PRCP')\n",
    "#get av temp timeseries \n",
    "domain_gdf, tav = get_snotel_data(snotel_gdf,st_dt, ed_dt,'TAVG')\n",
    "#get min temp timeseries \n",
    "domain_gdf, tmn = get_snotel_data(snotel_gdf,st_dt, ed_dt,'TMIN')\n",
    "#get max temp timeseries \n",
    "domain_gdf, tmx = get_snotel_data(snotel_gdf,st_dt, ed_dt,'TMAX')"
   ]
  },
  {
   "cell_type": "markdown",
   "metadata": {},
   "source": [
    "# Save Data"
   ]
  },
  {
   "cell_type": "code",
   "execution_count": 17,
   "metadata": {},
   "outputs": [],
   "source": [
    "# save geojson\n",
    "out = dataPath + 'CSO_SNOTEL_sites_'+domain+'.geojson'\n",
    "domain_gdf.to_file(out, driver='GeoJSON')\n",
    "\n",
    "#save swe\n",
    "out = dataPath + 'SNOTEL_data_SWEDmeters'+st_dt+'_'+ed_dt+'.csv'\n",
    "swe.to_csv(out)\n",
    "\n",
    "#save hs\n",
    "out = dataPath + 'SNOTEL_data_HSmeters'+st_dt+'_'+ed_dt+'.csv'\n",
    "hs.to_csv(out)\n",
    "\n",
    "#save pr\n",
    "out = dataPath + 'SNOTEL_data_PRmeters'+st_dt+'_'+ed_dt+'.csv'\n",
    "pr.to_csv(out)\n",
    "\n",
    "#save tav\n",
    "out = dataPath + 'SNOTEL_data_TAVGcelsius'+st_dt+'_'+ed_dt+'.csv'\n",
    "tav.to_csv(out)\n",
    "\n",
    "#save tmn\n",
    "out = dataPath + 'SNOTEL_data_TMINcelsius'+st_dt+'_'+ed_dt+'.csv'\n",
    "tmn.to_csv(out)\n",
    "\n",
    "#save tmx\n",
    "out = dataPath + 'SNOTEL_data_TMAXcelsius'+st_dt+'_'+ed_dt+'.csv'\n",
    "tmx.to_csv(out)"
   ]
  },
  {
   "cell_type": "code",
   "execution_count": null,
   "metadata": {},
   "outputs": [],
   "source": [
    "# Outfile path\n",
    "outpath = '/nfs/attic/dfh/2020_NPRB/results/calibration/'+domain+'/prep_files/'"
   ]
  },
  {
   "cell_type": "markdown",
   "metadata": {},
   "source": [
    "# run all domains"
   ]
  },
  {
   "cell_type": "code",
   "execution_count": 10,
   "metadata": {},
   "outputs": [
    {
     "name": "stdout",
     "output_type": "stream",
     "text": [
      "BEAU\n",
      "957_AK_SNTL SNOTEL:WTEQ_D 1988-09-01 2019-08-31\n"
     ]
    },
    {
     "name": "stderr",
     "output_type": "stream",
     "text": [
      "<suds.sax.document.Document object at 0x7f0709b17f28>\n"
     ]
    },
    {
     "name": "stdout",
     "output_type": "stream",
     "text": [
      "Unable to fetch SNOTEL:WTEQ_D\n",
      "968_AK_SNTL SNOTEL:WTEQ_D 1988-09-01 2019-08-31\n"
     ]
    },
    {
     "name": "stderr",
     "output_type": "stream",
     "text": [
      "<suds.sax.document.Document object at 0x7f0709b0f550>\n"
     ]
    },
    {
     "name": "stdout",
     "output_type": "stream",
     "text": [
      "Unable to fetch SNOTEL:WTEQ_D\n",
      "1175_AK_SNTL SNOTEL:WTEQ_D 1988-09-01 2019-08-31\n",
      "1177_AK_SNTL SNOTEL:WTEQ_D 1988-09-01 2019-08-31\n"
     ]
    },
    {
     "name": "stderr",
     "output_type": "stream",
     "text": [
      "<suds.sax.document.Document object at 0x7f071a60bba8>\n"
     ]
    },
    {
     "name": "stdout",
     "output_type": "stream",
     "text": [
      "Unable to fetch SNOTEL:WTEQ_D\n",
      "1183_AK_SNTL SNOTEL:WTEQ_D 1988-09-01 2019-08-31\n"
     ]
    },
    {
     "name": "stderr",
     "output_type": "stream",
     "text": [
      "<suds.sax.document.Document object at 0x7f071a6118d0>\n"
     ]
    },
    {
     "name": "stdout",
     "output_type": "stream",
     "text": [
      "Unable to fetch SNOTEL:WTEQ_D\n",
      "1175_AK_SNTL SNOTEL:SNWD_D 1988-09-01 2019-08-31\n",
      "1175_AK_SNTL SNOTEL:PRCP_D 1988-09-01 2019-08-31\n",
      "1175_AK_SNTL SNOTEL:TAVG_D 1988-09-01 2019-08-31\n",
      "1175_AK_SNTL SNOTEL:TMIN_D 1988-09-01 2019-08-31\n",
      "1175_AK_SNTL SNOTEL:TMAX_D 1988-09-01 2019-08-31\n",
      "BRIS\n",
      "1062_AK_SNTL SNOTEL:WTEQ_D 1988-09-01 2019-08-31\n",
      "1086_AK_SNTL SNOTEL:WTEQ_D 1988-09-01 2019-08-31\n"
     ]
    },
    {
     "name": "stderr",
     "output_type": "stream",
     "text": [
      "<suds.sax.document.Document object at 0x7f0709c779e8>\n"
     ]
    },
    {
     "name": "stdout",
     "output_type": "stream",
     "text": [
      "Unable to fetch SNOTEL:WTEQ_D\n",
      "1036_AK_SNTL SNOTEL:WTEQ_D 1988-09-01 2019-08-31\n"
     ]
    },
    {
     "name": "stderr",
     "output_type": "stream",
     "text": [
      "<suds.sax.document.Document object at 0x7f072296a2e8>\n"
     ]
    },
    {
     "name": "stdout",
     "output_type": "stream",
     "text": [
      "Unable to fetch SNOTEL:WTEQ_D\n",
      "1072_AK_SNTL SNOTEL:WTEQ_D 1988-09-01 2019-08-31\n"
     ]
    },
    {
     "name": "stderr",
     "output_type": "stream",
     "text": [
      "<suds.sax.document.Document object at 0x7f07232ad9e8>\n"
     ]
    },
    {
     "name": "stdout",
     "output_type": "stream",
     "text": [
      "Unable to fetch SNOTEL:WTEQ_D\n",
      "201_AK_SNTL SNOTEL:WTEQ_D 1988-09-01 2019-08-31\n"
     ]
    },
    {
     "name": "stderr",
     "output_type": "stream",
     "text": [
      "<suds.sax.document.Document object at 0x7f0709e1a048>\n"
     ]
    },
    {
     "name": "stdout",
     "output_type": "stream",
     "text": [
      "Unable to fetch SNOTEL:WTEQ_D\n",
      "1003_AK_SNTL SNOTEL:WTEQ_D 1988-09-01 2019-08-31\n",
      "1191_AK_SNTL SNOTEL:WTEQ_D 1988-09-01 2019-08-31\n"
     ]
    },
    {
     "name": "stderr",
     "output_type": "stream",
     "text": [
      "<suds.sax.document.Document object at 0x7f072296a240>\n"
     ]
    },
    {
     "name": "stdout",
     "output_type": "stream",
     "text": [
      "Unable to fetch SNOTEL:WTEQ_D\n",
      "987_AK_SNTL SNOTEL:WTEQ_D 1988-09-01 2019-08-31\n",
      "973_AK_SNTL SNOTEL:WTEQ_D 1988-09-01 2019-08-31\n"
     ]
    },
    {
     "name": "stderr",
     "output_type": "stream",
     "text": [
      "<suds.sax.document.Document object at 0x7f072296a550>\n"
     ]
    },
    {
     "name": "stdout",
     "output_type": "stream",
     "text": [
      "Unable to fetch SNOTEL:WTEQ_D\n",
      "1266_AK_SNTL SNOTEL:WTEQ_D 1988-09-01 2019-08-31\n",
      "1232_AK_SCAN SCAN:WTEQ_D 1988-09-01 2019-08-31\n"
     ]
    },
    {
     "name": "stderr",
     "output_type": "stream",
     "text": [
      "<suds.sax.document.Document object at 0x7f07099750b8>\n"
     ]
    },
    {
     "name": "stdout",
     "output_type": "stream",
     "text": [
      "Unable to fetch SCAN:WTEQ_D\n",
      "2211_AK_SCAN SCAN:WTEQ_D 1988-09-01 2019-08-31\n"
     ]
    },
    {
     "name": "stderr",
     "output_type": "stream",
     "text": [
      "<suds.sax.document.Document object at 0x7f0722874780>\n"
     ]
    },
    {
     "name": "stdout",
     "output_type": "stream",
     "text": [
      "Unable to fetch SCAN:WTEQ_D\n",
      "2208_AK_SCAN SCAN:WTEQ_D 1988-09-01 2019-08-31\n"
     ]
    },
    {
     "name": "stderr",
     "output_type": "stream",
     "text": [
      "<suds.sax.document.Document object at 0x7f0722850518>\n"
     ]
    },
    {
     "name": "stdout",
     "output_type": "stream",
     "text": [
      "Unable to fetch SCAN:WTEQ_D\n",
      "1233_AK_SCAN SCAN:WTEQ_D 1988-09-01 2019-08-31\n"
     ]
    },
    {
     "name": "stderr",
     "output_type": "stream",
     "text": [
      "<suds.sax.document.Document object at 0x7f072288e240>\n"
     ]
    },
    {
     "name": "stdout",
     "output_type": "stream",
     "text": [
      "Unable to fetch SCAN:WTEQ_D\n",
      "2062_AK_SCAN SCAN:WTEQ_D 1988-09-01 2019-08-31\n"
     ]
    },
    {
     "name": "stderr",
     "output_type": "stream",
     "text": [
      "<suds.sax.document.Document object at 0x7f071a57fdd8>\n"
     ]
    },
    {
     "name": "stdout",
     "output_type": "stream",
     "text": [
      "Unable to fetch SCAN:WTEQ_D\n",
      "2209_AK_SCAN SCAN:WTEQ_D 1988-09-01 2019-08-31\n"
     ]
    },
    {
     "name": "stderr",
     "output_type": "stream",
     "text": [
      "<suds.sax.document.Document object at 0x7f071a578588>\n"
     ]
    },
    {
     "name": "stdout",
     "output_type": "stream",
     "text": [
      "Unable to fetch SCAN:WTEQ_D\n",
      "2063_AK_SCAN SCAN:WTEQ_D 1988-09-01 2019-08-31\n"
     ]
    },
    {
     "name": "stderr",
     "output_type": "stream",
     "text": [
      "<suds.sax.document.Document object at 0x7f0709c1dc18>\n"
     ]
    },
    {
     "name": "stdout",
     "output_type": "stream",
     "text": [
      "Unable to fetch SCAN:WTEQ_D\n",
      "2221_AK_SCAN SCAN:WTEQ_D 1988-09-01 2019-08-31\n"
     ]
    },
    {
     "name": "stderr",
     "output_type": "stream",
     "text": [
      "<suds.sax.document.Document object at 0x7f072287e860>\n"
     ]
    },
    {
     "name": "stdout",
     "output_type": "stream",
     "text": [
      "Unable to fetch SCAN:WTEQ_D\n",
      "1234_AK_SCAN SCAN:WTEQ_D 1988-09-01 2019-08-31\n"
     ]
    },
    {
     "name": "stderr",
     "output_type": "stream",
     "text": [
      "<suds.sax.document.Document object at 0x7f072287c400>\n"
     ]
    },
    {
     "name": "stdout",
     "output_type": "stream",
     "text": [
      "Unable to fetch SCAN:WTEQ_D\n",
      "1266_AK_SNTL SNOTEL:SNWD_D 1988-09-01 2019-08-31\n",
      "1266_AK_SNTL SNOTEL:PRCP_D 1988-09-01 2019-08-31\n",
      "1266_AK_SNTL SNOTEL:TAVG_D 1988-09-01 2019-08-31\n",
      "1266_AK_SNTL SNOTEL:TMIN_D 1988-09-01 2019-08-31\n",
      "1266_AK_SNTL SNOTEL:TMAX_D 1988-09-01 2019-08-31\n",
      "CHUK\n",
      "1036_AK_SNTL SNOTEL:WTEQ_D 1988-09-01 2019-08-31\n"
     ]
    },
    {
     "name": "stderr",
     "output_type": "stream",
     "text": [
      "<suds.sax.document.Document object at 0x7f071a09c1d0>\n"
     ]
    },
    {
     "name": "stdout",
     "output_type": "stream",
     "text": [
      "Unable to fetch SNOTEL:WTEQ_D\n",
      "1175_AK_SNTL SNOTEL:WTEQ_D 1988-09-01 2019-08-31\n",
      "986_AK_SNTL SNOTEL:WTEQ_D 1988-09-01 2019-08-31\n"
     ]
    },
    {
     "name": "stderr",
     "output_type": "stream",
     "text": [
      "<suds.sax.document.Document object at 0x7f071a09c860>\n"
     ]
    },
    {
     "name": "stdout",
     "output_type": "stream",
     "text": [
      "Unable to fetch SNOTEL:WTEQ_D\n",
      "973_AK_SNTL SNOTEL:WTEQ_D 1988-09-01 2019-08-31\n"
     ]
    },
    {
     "name": "stderr",
     "output_type": "stream",
     "text": [
      "<suds.sax.document.Document object at 0x7f06ffbbc400>\n"
     ]
    },
    {
     "name": "stdout",
     "output_type": "stream",
     "text": [
      "Unable to fetch SNOTEL:WTEQ_D\n",
      "2213_AK_SCAN SCAN:WTEQ_D 1988-09-01 2019-08-31\n"
     ]
    },
    {
     "name": "stderr",
     "output_type": "stream",
     "text": [
      "<suds.sax.document.Document object at 0x7f07229c7be0>\n"
     ]
    },
    {
     "name": "stdout",
     "output_type": "stream",
     "text": [
      "Unable to fetch SCAN:WTEQ_D\n",
      "2211_AK_SCAN SCAN:WTEQ_D 1988-09-01 2019-08-31\n"
     ]
    },
    {
     "name": "stderr",
     "output_type": "stream",
     "text": [
      "<suds.sax.document.Document object at 0x7f0719ff9240>\n"
     ]
    },
    {
     "name": "stdout",
     "output_type": "stream",
     "text": [
      "Unable to fetch SCAN:WTEQ_D\n",
      "2221_AK_SCAN SCAN:WTEQ_D 1988-09-01 2019-08-31\n"
     ]
    },
    {
     "name": "stderr",
     "output_type": "stream",
     "text": [
      "<suds.sax.document.Document object at 0x7f0719ff9f98>\n"
     ]
    },
    {
     "name": "stdout",
     "output_type": "stream",
     "text": [
      "Unable to fetch SCAN:WTEQ_D\n",
      "JUNE\n",
      "1001_AK_SNTL SNOTEL:WTEQ_D 1988-09-01 2019-08-31\n",
      "1001_AK_SNTL SNOTEL:SNWD_D 1988-09-01 2019-08-31\n",
      "1001_AK_SNTL SNOTEL:PRCP_D 1988-09-01 2019-08-31\n",
      "1001_AK_SNTL SNOTEL:TAVG_D 1988-09-01 2019-08-31\n",
      "1001_AK_SNTL SNOTEL:TMIN_D 1988-09-01 2019-08-31\n",
      "1001_AK_SNTL SNOTEL:TMAX_D 1988-09-01 2019-08-31\n",
      "KLAW\n",
      "SITK\n",
      "TAKU\n",
      "1270_AK_SNTL SNOTEL:WTEQ_D 1988-09-01 2019-08-31\n",
      "1001_AK_SNTL SNOTEL:WTEQ_D 1988-09-01 2019-08-31\n",
      "1270_AK_SNTL SNOTEL:SNWD_D 1988-09-01 2019-08-31\n",
      "1001_AK_SNTL SNOTEL:SNWD_D 1988-09-01 2019-08-31\n",
      "1270_AK_SNTL SNOTEL:PRCP_D 1988-09-01 2019-08-31\n",
      "1001_AK_SNTL SNOTEL:PRCP_D 1988-09-01 2019-08-31\n",
      "1270_AK_SNTL SNOTEL:TAVG_D 1988-09-01 2019-08-31\n",
      "1001_AK_SNTL SNOTEL:TAVG_D 1988-09-01 2019-08-31\n",
      "1270_AK_SNTL SNOTEL:TMIN_D 1988-09-01 2019-08-31\n",
      "1001_AK_SNTL SNOTEL:TMIN_D 1988-09-01 2019-08-31\n",
      "1270_AK_SNTL SNOTEL:TMAX_D 1988-09-01 2019-08-31\n",
      "1001_AK_SNTL SNOTEL:TMAX_D 1988-09-01 2019-08-31\n",
      "YUKO\n",
      "1267_AK_SNTL SNOTEL:WTEQ_D 1988-09-01 2019-08-31\n",
      "1189_AK_SNTL SNOTEL:WTEQ_D 1988-09-01 2019-08-31\n",
      "1070_AK_SNTL SNOTEL:WTEQ_D 1988-09-01 2019-08-31\n",
      "957_AK_SNTL SNOTEL:WTEQ_D 1988-09-01 2019-08-31\n"
     ]
    },
    {
     "name": "stderr",
     "output_type": "stream",
     "text": [
      "<suds.sax.document.Document object at 0x7f0709e46da0>\n"
     ]
    },
    {
     "name": "stdout",
     "output_type": "stream",
     "text": [
      "Unable to fetch SNOTEL:WTEQ_D\n",
      "1086_AK_SNTL SNOTEL:WTEQ_D 1988-09-01 2019-08-31\n"
     ]
    },
    {
     "name": "stderr",
     "output_type": "stream",
     "text": [
      "<suds.sax.document.Document object at 0x7f0709c94780>\n"
     ]
    },
    {
     "name": "stdout",
     "output_type": "stream",
     "text": [
      "Unable to fetch SNOTEL:WTEQ_D\n",
      "1182_AK_SNTL SNOTEL:WTEQ_D 1988-09-01 2019-08-31\n",
      "1093_AK_SNTL SNOTEL:WTEQ_D 1988-09-01 2019-08-31\n",
      "958_AK_SNTL SNOTEL:WTEQ_D 1988-09-01 2019-08-31\n",
      "959_AK_SNTL SNOTEL:WTEQ_D 1988-09-01 2019-08-31\n",
      "960_AK_SNTL SNOTEL:WTEQ_D 1988-09-01 2019-08-31\n"
     ]
    },
    {
     "name": "stderr",
     "output_type": "stream",
     "text": [
      "<suds.sax.document.Document object at 0x7f0722c29f60>\n"
     ]
    },
    {
     "name": "stdout",
     "output_type": "stream",
     "text": [
      "Unable to fetch SNOTEL:WTEQ_D\n",
      "1071_AK_SNTL SNOTEL:WTEQ_D 1988-09-01 2019-08-31\n"
     ]
    },
    {
     "name": "stderr",
     "output_type": "stream",
     "text": [
      "<suds.sax.document.Document object at 0x7f0709e46d68>\n"
     ]
    },
    {
     "name": "stdout",
     "output_type": "stream",
     "text": [
      "Unable to fetch SNOTEL:WTEQ_D\n",
      "1092_AK_SNTL SNOTEL:WTEQ_D 1988-09-01 2019-08-31\n",
      "1174_AK_SNTL SNOTEL:WTEQ_D 1988-09-01 2019-08-31\n",
      "1268_AK_SNTL SNOTEL:WTEQ_D 1988-09-01 2019-08-31\n",
      "961_AK_SNTL SNOTEL:WTEQ_D 1988-09-01 2019-08-31\n"
     ]
    },
    {
     "name": "stderr",
     "output_type": "stream",
     "text": [
      "<suds.sax.document.Document object at 0x7f07229aa2b0>\n"
     ]
    },
    {
     "name": "stdout",
     "output_type": "stream",
     "text": [
      "Unable to fetch SNOTEL:WTEQ_D\n",
      "962_AK_SNTL SNOTEL:WTEQ_D 1988-09-01 2019-08-31\n"
     ]
    },
    {
     "name": "stderr",
     "output_type": "stream",
     "text": [
      "<suds.sax.document.Document object at 0x7f07229aa2e8>\n"
     ]
    },
    {
     "name": "stdout",
     "output_type": "stream",
     "text": [
      "Unable to fetch SNOTEL:WTEQ_D\n",
      "956_AK_SNTL SNOTEL:WTEQ_D 1988-09-01 2019-08-31\n",
      "963_AK_SNTL SNOTEL:WTEQ_D 1988-09-01 2019-08-31\n",
      "964_AK_SNTL SNOTEL:WTEQ_D 1988-09-01 2019-08-31\n",
      "1091_AK_SNTL SNOTEL:WTEQ_D 1988-09-01 2019-08-31\n",
      "946_AK_SNTL SNOTEL:WTEQ_D 1988-09-01 2019-08-31\n",
      "1275_AK_SNTL SNOTEL:WTEQ_D 1988-09-01 2019-08-31\n",
      "1036_AK_SNTL SNOTEL:WTEQ_D 1988-09-01 2019-08-31\n"
     ]
    },
    {
     "name": "stderr",
     "output_type": "stream",
     "text": [
      "<suds.sax.document.Document object at 0x7f071a2acf98>\n"
     ]
    },
    {
     "name": "stdout",
     "output_type": "stream",
     "text": [
      "Unable to fetch SNOTEL:WTEQ_D\n",
      "1072_AK_SNTL SNOTEL:WTEQ_D 1988-09-01 2019-08-31\n"
     ]
    },
    {
     "name": "stderr",
     "output_type": "stream",
     "text": [
      "<suds.sax.document.Document object at 0x7f071a224c88>\n"
     ]
    },
    {
     "name": "stdout",
     "output_type": "stream",
     "text": [
      "Unable to fetch SNOTEL:WTEQ_D\n",
      "1175_AK_SNTL SNOTEL:WTEQ_D 1988-09-01 2019-08-31\n",
      "966_AK_SNTL SNOTEL:WTEQ_D 1988-09-01 2019-08-31\n",
      "947_AK_SNTL SNOTEL:WTEQ_D 1988-09-01 2019-08-31\n",
      "1096_AK_SNTL SNOTEL:WTEQ_D 1988-09-01 2019-08-31\n",
      "1094_AK_SNTL SNOTEL:WTEQ_D 1988-09-01 2019-08-31\n",
      "949_AK_SNTL SNOTEL:WTEQ_D 1988-09-01 2019-08-31\n",
      "1035_AK_SNTL SNOTEL:WTEQ_D 1988-09-01 2019-08-31\n",
      "1103_AK_SNTL SNOTEL:WTEQ_D 1988-09-01 2019-08-31\n",
      "1073_AK_SNTL SNOTEL:WTEQ_D 1988-09-01 2019-08-31\n",
      "948_AK_SNTL SNOTEL:WTEQ_D 1988-09-01 2019-08-31\n",
      "950_AK_SNTL SNOTEL:WTEQ_D 1988-09-01 2019-08-31\n",
      "986_AK_SNTL SNOTEL:WTEQ_D 1988-09-01 2019-08-31\n"
     ]
    },
    {
     "name": "stderr",
     "output_type": "stream",
     "text": [
      "<suds.sax.document.Document object at 0x7f0722896a90>\n"
     ]
    },
    {
     "name": "stdout",
     "output_type": "stream",
     "text": [
      "Unable to fetch SNOTEL:WTEQ_D\n",
      "1002_AK_SNTL SNOTEL:WTEQ_D 1988-09-01 2019-08-31\n",
      "1178_AK_SNTL SNOTEL:WTEQ_D 1988-09-01 2019-08-31\n"
     ]
    },
    {
     "name": "stderr",
     "output_type": "stream",
     "text": [
      "<suds.sax.document.Document object at 0x7f0722896f60>\n"
     ]
    },
    {
     "name": "stdout",
     "output_type": "stream",
     "text": [
      "Unable to fetch SNOTEL:WTEQ_D\n",
      "973_AK_SNTL SNOTEL:WTEQ_D 1988-09-01 2019-08-31\n"
     ]
    },
    {
     "name": "stderr",
     "output_type": "stream",
     "text": [
      "<suds.sax.document.Document object at 0x7f0722941b38>\n"
     ]
    },
    {
     "name": "stdout",
     "output_type": "stream",
     "text": [
      "Unable to fetch SNOTEL:WTEQ_D\n",
      "1095_AK_SNTL SNOTEL:WTEQ_D 1988-09-01 2019-08-31\n"
     ]
    },
    {
     "name": "stderr",
     "output_type": "stream",
     "text": [
      "<suds.sax.document.Document object at 0x7f0709c6ab70>\n"
     ]
    },
    {
     "name": "stdout",
     "output_type": "stream",
     "text": [
      "Unable to fetch SNOTEL:WTEQ_D\n",
      "955_AK_SNTL SNOTEL:WTEQ_D 1988-09-01 2019-08-31\n",
      "967_AK_SNTL SNOTEL:WTEQ_D 1988-09-01 2019-08-31\n",
      "1266_AK_SNTL SNOTEL:WTEQ_D 1988-09-01 2019-08-31\n",
      "951_AK_SNTL SNOTEL:WTEQ_D 1988-09-01 2019-08-31\n",
      "1089_AK_SNTL SNOTEL:WTEQ_D 1988-09-01 2019-08-31\n",
      "954_AK_SNTL SNOTEL:WTEQ_D 1988-09-01 2019-08-31\n",
      "952_AK_SNTL SNOTEL:WTEQ_D 1988-09-01 2019-08-31\n",
      "1090_AK_SNTL SNOTEL:WTEQ_D 1988-09-01 2019-08-31\n"
     ]
    },
    {
     "name": "stderr",
     "output_type": "stream",
     "text": [
      "<suds.sax.document.Document object at 0x7f06ffc36128>\n"
     ]
    },
    {
     "name": "stdout",
     "output_type": "stream",
     "text": [
      "Unable to fetch SNOTEL:WTEQ_D\n",
      "1055_AK_SNTL SNOTEL:WTEQ_D 1988-09-01 2019-08-31\n",
      "2213_AK_SCAN SCAN:WTEQ_D 1988-09-01 2019-08-31\n"
     ]
    },
    {
     "name": "stderr",
     "output_type": "stream",
     "text": [
      "<suds.sax.document.Document object at 0x7f0709e8e320>\n"
     ]
    },
    {
     "name": "stdout",
     "output_type": "stream",
     "text": [
      "Unable to fetch SCAN:WTEQ_D\n",
      "2211_AK_SCAN SCAN:WTEQ_D 1988-09-01 2019-08-31\n"
     ]
    },
    {
     "name": "stderr",
     "output_type": "stream",
     "text": [
      "<suds.sax.document.Document object at 0x7f0709a5a710>\n"
     ]
    },
    {
     "name": "stdout",
     "output_type": "stream",
     "text": [
      "Unable to fetch SCAN:WTEQ_D\n",
      "2208_AK_SCAN SCAN:WTEQ_D 1988-09-01 2019-08-31\n"
     ]
    },
    {
     "name": "stderr",
     "output_type": "stream",
     "text": [
      "<suds.sax.document.Document object at 0x7f0722de8908>\n"
     ]
    },
    {
     "name": "stdout",
     "output_type": "stream",
     "text": [
      "Unable to fetch SCAN:WTEQ_D\n",
      "2212_AK_SCAN SCAN:WTEQ_D 1988-09-01 2019-08-31\n"
     ]
    },
    {
     "name": "stderr",
     "output_type": "stream",
     "text": [
      "<suds.sax.document.Document object at 0x7f0709a5a9b0>\n"
     ]
    },
    {
     "name": "stdout",
     "output_type": "stream",
     "text": [
      "Unable to fetch SCAN:WTEQ_D\n",
      "2221_AK_SCAN SCAN:WTEQ_D 1988-09-01 2019-08-31\n"
     ]
    },
    {
     "name": "stderr",
     "output_type": "stream",
     "text": [
      "<suds.sax.document.Document object at 0x7f0709a0ada0>\n"
     ]
    },
    {
     "name": "stdout",
     "output_type": "stream",
     "text": [
      "Unable to fetch SCAN:WTEQ_D\n",
      "1182_AK_SNTL SNOTEL:SNWD_D 1988-09-01 2019-08-31\n",
      "1093_AK_SNTL SNOTEL:SNWD_D 1988-09-01 2019-08-31\n",
      "958_AK_SNTL SNOTEL:SNWD_D 1988-09-01 2019-08-31\n",
      "959_AK_SNTL SNOTEL:SNWD_D 1988-09-01 2019-08-31\n",
      "1092_AK_SNTL SNOTEL:SNWD_D 1988-09-01 2019-08-31\n",
      "1174_AK_SNTL SNOTEL:SNWD_D 1988-09-01 2019-08-31\n",
      "1268_AK_SNTL SNOTEL:SNWD_D 1988-09-01 2019-08-31\n",
      "956_AK_SNTL SNOTEL:SNWD_D 1988-09-01 2019-08-31\n",
      "963_AK_SNTL SNOTEL:SNWD_D 1988-09-01 2019-08-31\n",
      "964_AK_SNTL SNOTEL:SNWD_D 1988-09-01 2019-08-31\n",
      "1091_AK_SNTL SNOTEL:SNWD_D 1988-09-01 2019-08-31\n",
      "946_AK_SNTL SNOTEL:SNWD_D 1988-09-01 2019-08-31\n",
      "1275_AK_SNTL SNOTEL:SNWD_D 1988-09-01 2019-08-31\n",
      "1175_AK_SNTL SNOTEL:SNWD_D 1988-09-01 2019-08-31\n",
      "966_AK_SNTL SNOTEL:SNWD_D 1988-09-01 2019-08-31\n",
      "947_AK_SNTL SNOTEL:SNWD_D 1988-09-01 2019-08-31\n",
      "1096_AK_SNTL SNOTEL:SNWD_D 1988-09-01 2019-08-31\n",
      "1094_AK_SNTL SNOTEL:SNWD_D 1988-09-01 2019-08-31\n",
      "949_AK_SNTL SNOTEL:SNWD_D 1988-09-01 2019-08-31\n",
      "1035_AK_SNTL SNOTEL:SNWD_D 1988-09-01 2019-08-31\n",
      "1103_AK_SNTL SNOTEL:SNWD_D 1988-09-01 2019-08-31\n",
      "1073_AK_SNTL SNOTEL:SNWD_D 1988-09-01 2019-08-31\n",
      "948_AK_SNTL SNOTEL:SNWD_D 1988-09-01 2019-08-31\n",
      "950_AK_SNTL SNOTEL:SNWD_D 1988-09-01 2019-08-31\n",
      "1002_AK_SNTL SNOTEL:SNWD_D 1988-09-01 2019-08-31\n"
     ]
    },
    {
     "name": "stderr",
     "output_type": "stream",
     "text": [
      "<suds.sax.document.Document object at 0x7f06ffd026a0>\n"
     ]
    },
    {
     "name": "stdout",
     "output_type": "stream",
     "text": [
      "Unable to fetch SNOTEL:SNWD_D\n",
      "955_AK_SNTL SNOTEL:SNWD_D 1988-09-01 2019-08-31\n",
      "967_AK_SNTL SNOTEL:SNWD_D 1988-09-01 2019-08-31\n",
      "1266_AK_SNTL SNOTEL:SNWD_D 1988-09-01 2019-08-31\n",
      "951_AK_SNTL SNOTEL:SNWD_D 1988-09-01 2019-08-31\n",
      "1089_AK_SNTL SNOTEL:SNWD_D 1988-09-01 2019-08-31\n",
      "954_AK_SNTL SNOTEL:SNWD_D 1988-09-01 2019-08-31\n",
      "952_AK_SNTL SNOTEL:SNWD_D 1988-09-01 2019-08-31\n",
      "1055_AK_SNTL SNOTEL:SNWD_D 1988-09-01 2019-08-31\n",
      "1182_AK_SNTL SNOTEL:PRCP_D 1988-09-01 2019-08-31\n",
      "1093_AK_SNTL SNOTEL:PRCP_D 1988-09-01 2019-08-31\n",
      "958_AK_SNTL SNOTEL:PRCP_D 1988-09-01 2019-08-31\n",
      "959_AK_SNTL SNOTEL:PRCP_D 1988-09-01 2019-08-31\n",
      "1092_AK_SNTL SNOTEL:PRCP_D 1988-09-01 2019-08-31\n",
      "1174_AK_SNTL SNOTEL:PRCP_D 1988-09-01 2019-08-31\n",
      "1268_AK_SNTL SNOTEL:PRCP_D 1988-09-01 2019-08-31\n",
      "956_AK_SNTL SNOTEL:PRCP_D 1988-09-01 2019-08-31\n",
      "963_AK_SNTL SNOTEL:PRCP_D 1988-09-01 2019-08-31\n",
      "964_AK_SNTL SNOTEL:PRCP_D 1988-09-01 2019-08-31\n",
      "1091_AK_SNTL SNOTEL:PRCP_D 1988-09-01 2019-08-31\n",
      "946_AK_SNTL SNOTEL:PRCP_D 1988-09-01 2019-08-31\n",
      "1275_AK_SNTL SNOTEL:PRCP_D 1988-09-01 2019-08-31\n",
      "1175_AK_SNTL SNOTEL:PRCP_D 1988-09-01 2019-08-31\n",
      "966_AK_SNTL SNOTEL:PRCP_D 1988-09-01 2019-08-31\n",
      "947_AK_SNTL SNOTEL:PRCP_D 1988-09-01 2019-08-31\n",
      "1096_AK_SNTL SNOTEL:PRCP_D 1988-09-01 2019-08-31\n",
      "1094_AK_SNTL SNOTEL:PRCP_D 1988-09-01 2019-08-31\n",
      "949_AK_SNTL SNOTEL:PRCP_D 1988-09-01 2019-08-31\n",
      "1035_AK_SNTL SNOTEL:PRCP_D 1988-09-01 2019-08-31\n",
      "1103_AK_SNTL SNOTEL:PRCP_D 1988-09-01 2019-08-31\n",
      "1073_AK_SNTL SNOTEL:PRCP_D 1988-09-01 2019-08-31\n",
      "948_AK_SNTL SNOTEL:PRCP_D 1988-09-01 2019-08-31\n",
      "950_AK_SNTL SNOTEL:PRCP_D 1988-09-01 2019-08-31\n",
      "955_AK_SNTL SNOTEL:PRCP_D 1988-09-01 2019-08-31\n",
      "967_AK_SNTL SNOTEL:PRCP_D 1988-09-01 2019-08-31\n",
      "1266_AK_SNTL SNOTEL:PRCP_D 1988-09-01 2019-08-31\n",
      "951_AK_SNTL SNOTEL:PRCP_D 1988-09-01 2019-08-31\n",
      "1089_AK_SNTL SNOTEL:PRCP_D 1988-09-01 2019-08-31\n",
      "954_AK_SNTL SNOTEL:PRCP_D 1988-09-01 2019-08-31\n",
      "952_AK_SNTL SNOTEL:PRCP_D 1988-09-01 2019-08-31\n",
      "1055_AK_SNTL SNOTEL:PRCP_D 1988-09-01 2019-08-31\n",
      "1182_AK_SNTL SNOTEL:TAVG_D 1988-09-01 2019-08-31\n",
      "1093_AK_SNTL SNOTEL:TAVG_D 1988-09-01 2019-08-31\n",
      "958_AK_SNTL SNOTEL:TAVG_D 1988-09-01 2019-08-31\n",
      "959_AK_SNTL SNOTEL:TAVG_D 1988-09-01 2019-08-31\n",
      "1092_AK_SNTL SNOTEL:TAVG_D 1988-09-01 2019-08-31\n",
      "1174_AK_SNTL SNOTEL:TAVG_D 1988-09-01 2019-08-31\n",
      "1268_AK_SNTL SNOTEL:TAVG_D 1988-09-01 2019-08-31\n",
      "956_AK_SNTL SNOTEL:TAVG_D 1988-09-01 2019-08-31\n",
      "963_AK_SNTL SNOTEL:TAVG_D 1988-09-01 2019-08-31\n",
      "964_AK_SNTL SNOTEL:TAVG_D 1988-09-01 2019-08-31\n",
      "1091_AK_SNTL SNOTEL:TAVG_D 1988-09-01 2019-08-31\n",
      "946_AK_SNTL SNOTEL:TAVG_D 1988-09-01 2019-08-31\n",
      "1275_AK_SNTL SNOTEL:TAVG_D 1988-09-01 2019-08-31\n",
      "1175_AK_SNTL SNOTEL:TAVG_D 1988-09-01 2019-08-31\n",
      "966_AK_SNTL SNOTEL:TAVG_D 1988-09-01 2019-08-31\n",
      "947_AK_SNTL SNOTEL:TAVG_D 1988-09-01 2019-08-31\n",
      "1096_AK_SNTL SNOTEL:TAVG_D 1988-09-01 2019-08-31\n",
      "1094_AK_SNTL SNOTEL:TAVG_D 1988-09-01 2019-08-31\n",
      "949_AK_SNTL SNOTEL:TAVG_D 1988-09-01 2019-08-31\n",
      "1035_AK_SNTL SNOTEL:TAVG_D 1988-09-01 2019-08-31\n",
      "1103_AK_SNTL SNOTEL:TAVG_D 1988-09-01 2019-08-31\n",
      "1073_AK_SNTL SNOTEL:TAVG_D 1988-09-01 2019-08-31\n",
      "948_AK_SNTL SNOTEL:TAVG_D 1988-09-01 2019-08-31\n",
      "950_AK_SNTL SNOTEL:TAVG_D 1988-09-01 2019-08-31\n",
      "955_AK_SNTL SNOTEL:TAVG_D 1988-09-01 2019-08-31\n",
      "967_AK_SNTL SNOTEL:TAVG_D 1988-09-01 2019-08-31\n",
      "1266_AK_SNTL SNOTEL:TAVG_D 1988-09-01 2019-08-31\n",
      "951_AK_SNTL SNOTEL:TAVG_D 1988-09-01 2019-08-31\n",
      "1089_AK_SNTL SNOTEL:TAVG_D 1988-09-01 2019-08-31\n",
      "954_AK_SNTL SNOTEL:TAVG_D 1988-09-01 2019-08-31\n",
      "952_AK_SNTL SNOTEL:TAVG_D 1988-09-01 2019-08-31\n",
      "1055_AK_SNTL SNOTEL:TAVG_D 1988-09-01 2019-08-31\n",
      "1182_AK_SNTL SNOTEL:TMIN_D 1988-09-01 2019-08-31\n",
      "1093_AK_SNTL SNOTEL:TMIN_D 1988-09-01 2019-08-31\n",
      "958_AK_SNTL SNOTEL:TMIN_D 1988-09-01 2019-08-31\n",
      "959_AK_SNTL SNOTEL:TMIN_D 1988-09-01 2019-08-31\n",
      "1092_AK_SNTL SNOTEL:TMIN_D 1988-09-01 2019-08-31\n",
      "1174_AK_SNTL SNOTEL:TMIN_D 1988-09-01 2019-08-31\n",
      "1268_AK_SNTL SNOTEL:TMIN_D 1988-09-01 2019-08-31\n",
      "956_AK_SNTL SNOTEL:TMIN_D 1988-09-01 2019-08-31\n",
      "963_AK_SNTL SNOTEL:TMIN_D 1988-09-01 2019-08-31\n",
      "964_AK_SNTL SNOTEL:TMIN_D 1988-09-01 2019-08-31\n",
      "1091_AK_SNTL SNOTEL:TMIN_D 1988-09-01 2019-08-31\n",
      "946_AK_SNTL SNOTEL:TMIN_D 1988-09-01 2019-08-31\n",
      "1275_AK_SNTL SNOTEL:TMIN_D 1988-09-01 2019-08-31\n",
      "1175_AK_SNTL SNOTEL:TMIN_D 1988-09-01 2019-08-31\n",
      "966_AK_SNTL SNOTEL:TMIN_D 1988-09-01 2019-08-31\n",
      "947_AK_SNTL SNOTEL:TMIN_D 1988-09-01 2019-08-31\n",
      "1096_AK_SNTL SNOTEL:TMIN_D 1988-09-01 2019-08-31\n",
      "1094_AK_SNTL SNOTEL:TMIN_D 1988-09-01 2019-08-31\n",
      "949_AK_SNTL SNOTEL:TMIN_D 1988-09-01 2019-08-31\n",
      "1035_AK_SNTL SNOTEL:TMIN_D 1988-09-01 2019-08-31\n",
      "1103_AK_SNTL SNOTEL:TMIN_D 1988-09-01 2019-08-31\n",
      "1073_AK_SNTL SNOTEL:TMIN_D 1988-09-01 2019-08-31\n",
      "948_AK_SNTL SNOTEL:TMIN_D 1988-09-01 2019-08-31\n",
      "950_AK_SNTL SNOTEL:TMIN_D 1988-09-01 2019-08-31\n",
      "955_AK_SNTL SNOTEL:TMIN_D 1988-09-01 2019-08-31\n",
      "967_AK_SNTL SNOTEL:TMIN_D 1988-09-01 2019-08-31\n",
      "1266_AK_SNTL SNOTEL:TMIN_D 1988-09-01 2019-08-31\n",
      "951_AK_SNTL SNOTEL:TMIN_D 1988-09-01 2019-08-31\n",
      "1089_AK_SNTL SNOTEL:TMIN_D 1988-09-01 2019-08-31\n",
      "954_AK_SNTL SNOTEL:TMIN_D 1988-09-01 2019-08-31\n",
      "952_AK_SNTL SNOTEL:TMIN_D 1988-09-01 2019-08-31\n",
      "1055_AK_SNTL SNOTEL:TMIN_D 1988-09-01 2019-08-31\n",
      "1182_AK_SNTL SNOTEL:TMAX_D 1988-09-01 2019-08-31\n",
      "1093_AK_SNTL SNOTEL:TMAX_D 1988-09-01 2019-08-31\n",
      "958_AK_SNTL SNOTEL:TMAX_D 1988-09-01 2019-08-31\n",
      "959_AK_SNTL SNOTEL:TMAX_D 1988-09-01 2019-08-31\n",
      "1092_AK_SNTL SNOTEL:TMAX_D 1988-09-01 2019-08-31\n",
      "1174_AK_SNTL SNOTEL:TMAX_D 1988-09-01 2019-08-31\n",
      "1268_AK_SNTL SNOTEL:TMAX_D 1988-09-01 2019-08-31\n",
      "956_AK_SNTL SNOTEL:TMAX_D 1988-09-01 2019-08-31\n",
      "963_AK_SNTL SNOTEL:TMAX_D 1988-09-01 2019-08-31\n",
      "964_AK_SNTL SNOTEL:TMAX_D 1988-09-01 2019-08-31\n",
      "1091_AK_SNTL SNOTEL:TMAX_D 1988-09-01 2019-08-31\n",
      "946_AK_SNTL SNOTEL:TMAX_D 1988-09-01 2019-08-31\n",
      "1275_AK_SNTL SNOTEL:TMAX_D 1988-09-01 2019-08-31\n",
      "1175_AK_SNTL SNOTEL:TMAX_D 1988-09-01 2019-08-31\n",
      "966_AK_SNTL SNOTEL:TMAX_D 1988-09-01 2019-08-31\n",
      "947_AK_SNTL SNOTEL:TMAX_D 1988-09-01 2019-08-31\n",
      "1096_AK_SNTL SNOTEL:TMAX_D 1988-09-01 2019-08-31\n",
      "1094_AK_SNTL SNOTEL:TMAX_D 1988-09-01 2019-08-31\n",
      "949_AK_SNTL SNOTEL:TMAX_D 1988-09-01 2019-08-31\n",
      "1035_AK_SNTL SNOTEL:TMAX_D 1988-09-01 2019-08-31\n",
      "1103_AK_SNTL SNOTEL:TMAX_D 1988-09-01 2019-08-31\n",
      "1073_AK_SNTL SNOTEL:TMAX_D 1988-09-01 2019-08-31\n",
      "948_AK_SNTL SNOTEL:TMAX_D 1988-09-01 2019-08-31\n",
      "950_AK_SNTL SNOTEL:TMAX_D 1988-09-01 2019-08-31\n",
      "955_AK_SNTL SNOTEL:TMAX_D 1988-09-01 2019-08-31\n",
      "967_AK_SNTL SNOTEL:TMAX_D 1988-09-01 2019-08-31\n",
      "1266_AK_SNTL SNOTEL:TMAX_D 1988-09-01 2019-08-31\n",
      "951_AK_SNTL SNOTEL:TMAX_D 1988-09-01 2019-08-31\n",
      "1089_AK_SNTL SNOTEL:TMAX_D 1988-09-01 2019-08-31\n",
      "954_AK_SNTL SNOTEL:TMAX_D 1988-09-01 2019-08-31\n",
      "952_AK_SNTL SNOTEL:TMAX_D 1988-09-01 2019-08-31\n",
      "1055_AK_SNTL SNOTEL:TMAX_D 1988-09-01 2019-08-31\n"
     ]
    }
   ],
   "source": [
    "# run all AK domains\n",
    "domain_list = ['BEAU','BRIS','CHUK','JUNE','KLAW','SITK','TAKU','YUKO']\n",
    "\n",
    "for domain in domain_list:\n",
    "    print(domain)\n",
    "    #where the data should be stored\n",
    "    dataPath = '/nfs/attic/dfh/2020_NPRB/data/snotel/'+domain+'/'\n",
    "\n",
    "    #get geodataframe of all SNOTEL sites in the domain\n",
    "    snotel_gdf = get_snotel_stns(domain)\n",
    "    \n",
    "    if len(snotel_gdf) > 0:\n",
    "\n",
    "        #get SWE timeseries \n",
    "        domain_gdf, swe = get_snotel_data(snotel_gdf,st_dt,ed_dt,'WTEQ')\n",
    "        #get snow depth timeseries \n",
    "        domain_gdf, hs = get_snotel_data(snotel_gdf,st_dt,ed_dt,'SNWD')\n",
    "        #get precipitation timeseries \n",
    "        domain_gdf, pr = get_snotel_data(snotel_gdf,st_dt,ed_dt,'PRCP')\n",
    "        #get av temp timeseries \n",
    "        domain_gdf, tav = get_snotel_data(snotel_gdf,st_dt, ed_dt,'TAVG')\n",
    "        #get min temp timeseries \n",
    "        domain_gdf, tmn = get_snotel_data(snotel_gdf,st_dt, ed_dt,'TMIN')\n",
    "        #get max temp timeseries \n",
    "        domain_gdf, tmx = get_snotel_data(snotel_gdf,st_dt, ed_dt,'TMAX')\n",
    "        \n",
    "        if len(domain_gdf) > 0:\n",
    "    \n",
    "            # save geojson\n",
    "            out = dataPath + 'Station_'+domain+'.geojson'\n",
    "            domain_gdf.to_file(out, driver='GeoJSON')\n",
    "\n",
    "            #save swe\n",
    "            out = dataPath + 'Station_data_SWEDmeters'+st_dt+'_'+ed_dt+'.csv'\n",
    "            swe.to_csv(out)\n",
    "\n",
    "            #save hs\n",
    "            out = dataPath + 'Station_data_HSmeters'+st_dt+'_'+ed_dt+'.csv'\n",
    "            hs.to_csv(out)\n",
    "\n",
    "            #save pr\n",
    "            out = dataPath + 'Station_data_PRmeters'+st_dt+'_'+ed_dt+'.csv'\n",
    "            pr.to_csv(out)\n",
    "\n",
    "            #save tav\n",
    "            out = dataPath + 'Station_data_TAVGcelsius'+st_dt+'_'+ed_dt+'.csv'\n",
    "            tav.to_csv(out)\n",
    "\n",
    "            #save tmn\n",
    "            out = dataPath + 'Station_data_TMINcelsius'+st_dt+'_'+ed_dt+'.csv'\n",
    "            tmn.to_csv(out)\n",
    "\n",
    "            #save tmx\n",
    "            out = dataPath + 'Station_data_TMAXcelsius'+st_dt+'_'+ed_dt+'.csv'\n",
    "            tmx.to_csv(out)"
   ]
  },
  {
   "cell_type": "markdown",
   "metadata": {},
   "source": [
    "# Subset data for calibration"
   ]
  },
  {
   "cell_type": "code",
   "execution_count": 16,
   "metadata": {},
   "outputs": [
    {
     "name": "stdout",
     "output_type": "stream",
     "text": [
      "BEAU\n",
      "saving data\n",
      "BRIS\n",
      "saving data\n",
      "CHUK\n",
      "no station in domain\n",
      "JUNE\n",
      "saving data\n",
      "KLAW\n",
      "no station in domain\n",
      "SITK\n",
      "no station in domain\n",
      "TAKU\n",
      "saving data\n",
      "YUKO\n",
      "saving data\n"
     ]
    }
   ],
   "source": [
    "# calibration information \n",
    "cal_st = pd.to_datetime('09012009', format='%m%d%Y')\n",
    "cal_ed = pd.to_datetime('09302014', format='%m%d%Y')\n",
    "\n",
    "\n",
    "# run all AK domains\n",
    "domain_list = ['BEAU','BRIS','CHUK','JUNE','KLAW','SITK','TAKU','YUKO']\n",
    "\n",
    "for domain in domain_list:\n",
    "    print(domain)\n",
    "    try:\n",
    "        #where the data should be stored\n",
    "        dataPath = '/nfs/attic/dfh/2020_NPRB/data/snotel/'+domain+'/'\n",
    "        #open swe file\n",
    "        path = dataPath + 'Station_data_SWEDmeters'+st_dt+'_'+ed_dt+'.csv'\n",
    "        swedata = pd.read_csv(path, parse_dates=[0], index_col=[0])\n",
    "        # clip data to time period of interest\n",
    "        df_clip=swedata[(swedata.index>cal_st) & (swedata.index<cal_ed)]\n",
    "        # drop all nans \n",
    "        df_clip2=df_clip.dropna(axis=1, how='all')\n",
    "        # save data if we have it \n",
    "        if np.shape(df_clip2)[1] < 1:\n",
    "            print('No data for this time period')\n",
    "        else:\n",
    "            print('saving data')\n",
    "            outP = dataPath+'/Station_'+domain+'_snod_m_'+str(cal_st.year)+'_'+str(cal_ed.year)+'.csv'\n",
    "            df_clip.to_csv(outP)  \n",
    "    except:\n",
    "        print('no station in domain')"
   ]
  },
  {
   "cell_type": "code",
   "execution_count": null,
   "metadata": {},
   "outputs": [],
   "source": []
  }
 ],
 "metadata": {
  "kernelspec": {
   "display_name": "Python [conda env:snowmodelcal]",
   "language": "python",
   "name": "conda-env-snowmodelcal-py"
  },
  "language_info": {
   "codemirror_mode": {
    "name": "ipython",
    "version": 3
   },
   "file_extension": ".py",
   "mimetype": "text/x-python",
   "name": "python",
   "nbconvert_exporter": "python",
   "pygments_lexer": "ipython3",
   "version": "3.6.10"
  }
 },
 "nbformat": 4,
 "nbformat_minor": 4
}
