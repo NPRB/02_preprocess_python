{
 "cells": [
  {
   "cell_type": "code",
   "execution_count": 1,
   "metadata": {},
   "outputs": [
    {
     "name": "stdout",
     "output_type": "stream",
     "text": [
      "[2001, 2002, 2003, 2004, 2005, 2006, 2007, 2008, 2009, 2010, 2011, 2012, 2013, 2014, 2015, 2016, 2017, 2018]\n"
     ]
    }
   ],
   "source": [
    "# Import all of the python packages used in this workflow.\n",
    "import scipy\n",
    "import numpy as np\n",
    "from collections import OrderedDict\n",
    "import os, sys\n",
    "from pylab import *\n",
    "import pandas as pd\n",
    "import numpy as np\n",
    "import xarray as xr\n",
    "import geopandas as gpd\n",
    "from datetime import date, datetime\n",
    "from datetime import timedelta  \n",
    "import json\n",
    "import itertools\n",
    "import os\n",
    "import requests\n",
    "\n",
    "\n",
    "######## USER INPUT HERE ONLY ##########\n",
    "\n",
    "# Use this for the 6-year SnowModel run info\n",
    "#start_years_list = [1988,1993,1998,2003,2008,2013]\n",
    "#end_years_list = [1994,1999,2004,2009,2014,2019]\n",
    "\n",
    "# Use this for the 2-year SnowModel run info\n",
    "# just do start years that have have a second year that overlaps with MODIS data\n",
    "start_years_list = list(range(2000,2020))\n",
    "print(start_years_list)\n",
    "\n",
    "###########################################\n",
    "\n",
    "# Define some variables that don't change throughout the snowmodel runs\n",
    "domain = 'BEAU'\n",
    "\n",
    "\n",
    "# SM filepath\n",
    "SMpath = '/nfs/attic/dfh/2020_NPRB/domain_'+domain+'/test/'\n",
    "\n",
    "#path to NPRB domains\n",
    "domains_resp = requests.get(\"https://raw.githubusercontent.com/NPRB/02_preprocess_python/main/NPRB_domains.json\")\n",
    "domains = domains_resp.json()\n",
    "\n",
    "# Other variables\n",
    "parFile = SMpath+'snowmodel.par'\n",
    "incFile = SMpath+'code/snowmodel.inc'\n",
    "compileFile = SMpath+'code/compile_snowmodel.script'\n",
    "ctlFile = SMpath+'ctl_files/wo_assim/swed.ctl'\n",
    "codepath = SMpath+'code'\n",
    "preprocessFile = SMpath+'code/preprocess_code.f'\n",
    "outputs_user = SMpath+'code/outputs_user.f'\n",
    "micrometFile = SMpath+'code/micromet_code.f'"
   ]
  },
  {
   "cell_type": "code",
   "execution_count": 2,
   "metadata": {},
   "outputs": [],
   "source": [
    "# ### Function to edit text files docs\n",
    "\n",
    "\n",
    "#function to edit SnowModel Files other than .par\n",
    "def replace_line(file_name, line_num, text):\n",
    "    lines = open(file_name, 'r').readlines()\n",
    "    lines[line_num] = text\n",
    "    out = open(file_name, 'w')\n",
    "    out.writelines(lines)\n",
    "    out.close()\n",
    "\n",
    "\n",
    "\n",
    "#Edit the par file to set parameters with new values\n",
    "def edit_par(par_dict,parameter,new_value,parFile):\n",
    "    lines = open(parFile, 'r').readlines()\n",
    "    if par_dict[parameter][2] == 14 or par_dict[parameter][2] == 17 \\\n",
    "    or par_dict[parameter][2] == 18 or par_dict[parameter][2] == 19 \\\n",
    "    or par_dict[parameter][2] == 93 or par_dict[parameter][2] == 95 \\\n",
    "    or par_dict[parameter][2] == 97 or par_dict[parameter][2] == 100 \\\n",
    "    or par_dict[parameter][2] == 102 or par_dict[parameter][2] == 104 \\\n",
    "    or par_dict[parameter][2] == 107 or par_dict[parameter][2] == 108 \\\n",
    "    or par_dict[parameter][2] == 147 or par_dict[parameter][2] == 148 \\\n",
    "    or par_dict[parameter][2] == 149:\n",
    "        text = str(new_value)+'\\n'\n",
    "    else:\n",
    "        text = str(new_value)+'\\t\\t\\t!'+par_dict[parameter][1]\n",
    "    lines[par_dict[parameter][2]] = text\n",
    "    out = open(parFile, 'w')\n",
    "    out.writelines(lines)\n",
    "    out.close()"
   ]
  },
  {
   "cell_type": "code",
   "execution_count": 3,
   "metadata": {},
   "outputs": [
    {
     "data": {
      "text/plain": [
       "dict_keys(['nx', 'ny', 'deltax', 'deltay', 'xmn', 'ymn', 'dt', 'iyear_init', 'imonth_init', 'iday_init', 'xhour_init', 'max_iter', 'isingle_stn_flag', 'igrads_metfile', 'met_input_fname', 'undef', 'ascii_topoveg', 'topoveg_grads_fname', 'topo_ascii_fname', 'veg_ascii_fname', 'ved_shd_25', 'ved_shd_26', 'ved_shd_27', 'ved_shd_28', 'ved_shd_29', 'ved_shd_30', 'const_veg_flag', 'iveg_ht_flag', 'xlat', 'lat_solar_flag', 'UTC_flag', 'run_micromet', 'run_enbal', 'run_snowpack', 'run_snowtran', 'irun_data_assim', 'ihrestart_flag', 'i_dataassim_loop', 'ihrestart_inc', 'i_tair_flag', 'i_rh_flag', 'i_wind_flag', 'i_solar_flag', 'i_longwave_flag', 'i_prec_flag', 'ifill', 'iobsint', 'dn', 'barnes_lg_domain', 'n_stns_used', 'snowmodel_line_flag', 'check_met_data', 'curve_len_scale', 'slopewt', 'curvewt', 'curve_lg_scale_flag', 'windspd_min', 'lapse_rate_user_flag', 'iprecip_lapse_rate_user_flag', 'iprecip_scheme', 'snowfall_frac', 'wind_lapse_rate', 'calc_subcanopy_met', 'gap_frac', 'cloud_frac_factor', 'use_shortwave_obs', 'use_longwave_obs', 'use_sfc_pressure_obs', 'cf_precip_flag', 'Utau_t_flag', 'Utau_t_const', 'subgrid_flag', 'tabler_dir', 'slope_adjust', 'twolayer_flag', 'bc_flag', 'ht_windobs', 'ht_rhobs', 'ro_snow', 'snow_d_init_const', 'topoflag', 'icond_flag', 'albedo_snow_forest', 'albedo_snow_clearing', 'albedo_glacier', 'sfc_sublim_flag', 'multilayer_snowpack', 'tsls_threshold', 'max_layers', 'dz_snow_min', 'izero_snow_date', 'seaice_run', 'print_micromet', 'micromet_output_fname', 'print_snowtran', 'snowtran_output_fname', 'Tabler_1_flag', 'tabler_sfc_path_name', 'Tabler_2_flag', 'print_enbal', 'enbal_output_fname', 'print_snowpack', 'snowpack_output_fname', 'print_multilayer', 'multilayer_output_fname', 'print_user', 'print_inc', 'output_path_wo_assim', 'output_path_wi_assim', 'print_var_01', 'print_var_02', 'print_var_03', 'print_var_04', 'print_var_05', 'print_var_06', 'print_var_07', 'print_var_08', 'print_var_09', 'print_var_10', 'print_var_11', 'print_var_12', 'print_var_13', 'print_var_14', 'print_var_15', 'print_var_16', 'print_var_17', 'print_var_18', 'print_var_19', 'print_var_20', 'print_var_21', 'print_var_22', 'print_var_23', 'print_var_24', 'print_var_25', 'print_var_26', 'print_var_27', 'print_var_28', 'print_var_29', 'print_var_30', 'ro_snowmax', 'ro_adjust', 'cf_precip_scalar', 'T_threshold', 'T_Left,', 'lapse_rate', 'am', 'prec_lapse_rate', 'lat_file_path', 'lon_file_path', 'snowmodel_line_file', 'ctlflag', 'delT'])"
      ]
     },
     "execution_count": 3,
     "metadata": {},
     "output_type": "execute_result"
    }
   ],
   "source": [
    "#import baseline .par parameters\n",
    "with open('/nfs/attic/dfh/2020_NPRB/data/json/par_base.json') as f:\n",
    "    base = json.load(f)\n",
    "\n",
    "base.keys()"
   ]
  },
  {
   "cell_type": "code",
   "execution_count": 11,
   "metadata": {},
   "outputs": [],
   "source": [
    "#edit snowmodel.par for variables that are constant between runs\n",
    "edit_par(base,'nx',domains[domain]['ncols'],parFile)\n",
    "edit_par(base,'ny',domains[domain]['nrows'],parFile)\n",
    "edit_par(base,'deltax',domains[domain]['cellsize'],parFile)\n",
    "edit_par(base,'deltay',domains[domain]['cellsize'],parFile)\n",
    "edit_par(base,'xmn',domains[domain]['xll'],parFile)\n",
    "edit_par(base,'ymn',domains[domain]['yll'],parFile)\n",
    "edit_par(base,'dt',21600,parFile) #seconds per model time step\n",
    "edit_par(base,'ascii_topoveg',1,parFile)\n",
    "edit_par(base,'topo_ascii_fname','topo_vege/'+domain+'_dem.asc',parFile)\n",
    "edit_par(base,'veg_ascii_fname','topo_vege/'+domain+'_veg.asc',parFile)\n",
    "edit_par(base,'lat_file_path','extra_met/'+domain+'_grid_lat.asc',parFile)\n",
    "edit_par(base,'lon_file_path','extra_met/'+domain+'_grid_lon.asc',parFile)\n",
    "edit_par(base,'xlat',round(domains[domain]['Bbox']['latmin']+(domains[domain]['Bbox']['latmax']-domains[domain]['Bbox']['latmin'])/2,2),parFile)\n",
    "edit_par(base,'UTC_flag',1,parFile)\n",
    "edit_par(base,'run_snowtran',0,parFile)\n",
    "edit_par(base,'barnes_lg_domain',1,parFile)\n",
    "edit_par(base,'print_inc',4,parFile)\n",
    "edit_par(base,'print_var_01','y',parFile)#tair\n",
    "edit_par(base,'print_var_09','y',parFile)#prec\n",
    "edit_par(base,'print_var_10','n',parFile)#rain\n",
    "edit_par(base,'print_var_11','n',parFile)#sprec\n",
    "edit_par(base,'print_var_12','y',parFile)#swemelt\n",
    "edit_par(base,'print_var_14','y',parFile)#runoff\n",
    "edit_par(base,'print_var_16','y',parFile)#snow depth\n",
    "edit_par(base,'print_var_18','y',parFile)#swed\n",
    "\n",
    "\n",
    "##edit snowmodel.inc\n",
    "replace_line(incFile, 12, '      parameter (nx_max='+str(int(domains[domain]['ncols'])+1)+',ny_max='+str(int(domains[domain]['nrows'])+1)+')\\n')\n",
    "replace_line(incFile, 41, '      parameter (nz_max=2)\\n') \n",
    "\n",
    "##edit compile_snowmodel.script\n",
    "#replace_line(compileFile, 16, '#pgf77 -O3 -mcmodel=medium -I$path -o ../snowmodel $path$filename1 $path$filename2 $path$filename3 $path$filename4 $path$filename5 $path$filename6 $path$filename7 $path$filename8 $path$filename9 $path$filename10\\n')\n",
    "replace_line(compileFile, 20, 'gfortran -O3 -mcmodel=medium -I$path -o ../snowmodel $path$filename1 $path$filename2 $path$filename3 $path$filename4 $path$filename5 $path$filename6 $path$filename7 $path$filename8 $path$filename9 $path$filename10\\n')"
   ]
  },
  {
   "cell_type": "code",
   "execution_count": 5,
   "metadata": {},
   "outputs": [],
   "source": [
    "#function to edit time-related parameters in .par \n",
    "def change_dates(styr):\n",
    "    st = pd.to_datetime(str(styr)+'-10-01',format=\"%Y-%m-%d\")\n",
    "    ed = pd.to_datetime(str(styr+2)+'-09-30',format=\"%Y-%m-%d\")\n",
    "    edit_par(base,'iyear_init',str(st.year),parFile)\n",
    "    edit_par(base,'imonth_init',str(st.month),parFile)\n",
    "    edit_par(base,'iday_init',str(st.day),parFile)\n",
    "    edit_par(base,'xhour_init',str(st.hour),parFile)\n",
    "    edit_par(base,'max_iter',str((ed-st).days*4+4),parFile)\n",
    "    edit_par(base,'met_input_fname','../../data/SMinputs/'+domain+'/mm_'+domain+'_'+str(st.year)+'-'+str(ed.year)+'.dat',parFile)\n",
    "    edit_par(base,'output_path_wo_assim','outputs/wo_assim_'+str(st.year)+'-'+str(ed.year)+'/',parFile)"
   ]
  },
  {
   "cell_type": "code",
   "execution_count": 6,
   "metadata": {},
   "outputs": [],
   "source": [
    "def compile_snowmodel():\n",
    "    # Move to code\n",
    "    %cd $codepath\n",
    "    # Run compile script \n",
    "    ! ./compile_snowmodel.script"
   ]
  },
  {
   "cell_type": "code",
   "execution_count": 7,
   "metadata": {},
   "outputs": [],
   "source": [
    "def run_snowmodel():\n",
    "    %cd $SMpath\n",
    "    ! nohup ./snowmodel\n"
   ]
  },
  {
   "cell_type": "code",
   "execution_count": 9,
   "metadata": {},
   "outputs": [
    {
     "name": "stdout",
     "output_type": "stream",
     "text": [
      "/nfs/attic/dfh/2020_NPRB/domain_BEAU/test/code\n",
      "/nfs/attic/dfh/2020_NPRB/domain_BEAU/test\n",
      "nohup: ignoring input and appending output to ‘nohup.out’\n"
     ]
    }
   ],
   "source": [
    "styr = start_years_list[-1]\n",
    "change_dates(styr)\n",
    "compile_snowmodel()\n",
    "run_snowmodel()"
   ]
  },
  {
   "cell_type": "code",
   "execution_count": 40,
   "metadata": {},
   "outputs": [
    {
     "name": "stdout",
     "output_type": "stream",
     "text": [
      "2001\n",
      "editing .par file\n",
      "compiling snowmodel\n",
      "running rnowmodel\n",
      "2002\n",
      "editing .par file\n",
      "compiling snowmodel\n",
      "running rnowmodel\n",
      "2003\n",
      "editing .par file\n",
      "compiling snowmodel\n",
      "running rnowmodel\n",
      "2004\n",
      "editing .par file\n",
      "compiling snowmodel\n",
      "running rnowmodel\n",
      "2005\n",
      "editing .par file\n",
      "compiling snowmodel\n",
      "running rnowmodel\n",
      "2006\n",
      "editing .par file\n",
      "compiling snowmodel\n",
      "running rnowmodel\n",
      "2007\n",
      "editing .par file\n",
      "compiling snowmodel\n",
      "running rnowmodel\n",
      "2008\n",
      "editing .par file\n",
      "compiling snowmodel\n",
      "running rnowmodel\n",
      "2009\n",
      "editing .par file\n",
      "compiling snowmodel\n",
      "running rnowmodel\n",
      "2010\n",
      "editing .par file\n",
      "compiling snowmodel\n",
      "running rnowmodel\n",
      "2011\n",
      "editing .par file\n",
      "compiling snowmodel\n",
      "running rnowmodel\n",
      "2012\n",
      "editing .par file\n",
      "compiling snowmodel\n",
      "running rnowmodel\n",
      "2013\n",
      "editing .par file\n",
      "compiling snowmodel\n",
      "running rnowmodel\n",
      "2014\n",
      "editing .par file\n",
      "compiling snowmodel\n",
      "running rnowmodel\n",
      "2015\n",
      "editing .par file\n",
      "compiling snowmodel\n",
      "running rnowmodel\n",
      "2016\n",
      "editing .par file\n",
      "compiling snowmodel\n",
      "running rnowmodel\n",
      "2017\n",
      "editing .par file\n",
      "compiling snowmodel\n",
      "running rnowmodel\n",
      "2018\n",
      "editing .par file\n",
      "compiling snowmodel\n",
      "running rnowmodel\n"
     ]
    }
   ],
   "source": [
    "for styr in start_years_list:\n",
    "    print(styr)\n",
    "    print('editing .par file')\n",
    "    change_dates(styr)\n",
    "    \n",
    "    # Compile snowmodel\n",
    "    print('compiling snowmodel')\n",
    "    compile_snowmodel()\n",
    "    \n",
    "    # run snowmodel\n",
    "    print('running rnowmodel')\n",
    "    run_snowmodel()"
   ]
  },
  {
   "cell_type": "code",
   "execution_count": null,
   "metadata": {},
   "outputs": [],
   "source": []
  }
 ],
 "metadata": {
  "kernelspec": {
   "display_name": "Python [conda env:nprb]",
   "language": "python",
   "name": "conda-env-nprb-py"
  },
  "language_info": {
   "codemirror_mode": {
    "name": "ipython",
    "version": 3
   },
   "file_extension": ".py",
   "mimetype": "text/x-python",
   "name": "python",
   "nbconvert_exporter": "python",
   "pygments_lexer": "ipython3",
   "version": "3.10.4"
  }
 },
 "nbformat": 4,
 "nbformat_minor": 4
}
