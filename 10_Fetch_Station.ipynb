{
 "cells": [
  {
   "cell_type": "markdown",
   "metadata": {},
   "source": [
    "# Fetch and export SNOTEL sites and daily time series data"
   ]
  },
  {
   "cell_type": "code",
   "execution_count": 2,
   "metadata": {},
   "outputs": [],
   "source": [
    "from collections import OrderedDict\n",
    "import numpy as np\n",
    "import pandas as pd\n",
    "import geopandas as gpd\n",
    "from shapely import geometry as sgeom\n",
    "import ulmo\n",
    "import json\n",
    "import requests"
   ]
  },
  {
   "cell_type": "code",
   "execution_count": 5,
   "metadata": {},
   "outputs": [],
   "source": [
    "#########################################################################\n",
    "############################ USER INPUTS ################################\n",
    "#########################################################################\n",
    "\n",
    "# DOMAIN\n",
    "# choose the modeling domain\n",
    "domain = 'BEAU'\n",
    "\n",
    "# PATHS\n",
    "dataPath = '/nfs/attic/dfh/2020_NPRB/data/snotel/'+domain+'/'\n",
    "\n",
    "#path to domains\n",
    "domains_resp = requests.get(\"https://raw.githubusercontent.com/NPRB/02_preprocess_python/main/NPRB_domains.json\")\n",
    "domains = domains_resp.json()\n",
    "\n",
    "# DATES\n",
    "st_dt = domains[domain]['st']\n",
    "ed_dt = domains[domain]['ed']\n",
    "# st_dt = \"1988-09-01\"\n",
    "# ed_dt = \"2019-08-31\"\n",
    "#########################################################################"
   ]
  },
  {
   "cell_type": "code",
   "execution_count": 6,
   "metadata": {},
   "outputs": [],
   "source": [
    "# functions to get SNOTEL stations as geodataframe\n",
    "def sites_asgdf(ulmo_getsites, stn_proj):\n",
    "    \"\"\" Convert ulmo.cuahsi.wof.get_sites response into a point GeoDataframe\n",
    "    \"\"\"\n",
    "    \n",
    "    # Note: Found one SNOTEL site that was missing the location key\n",
    "    sites_df = pd.DataFrame.from_records([\n",
    "        OrderedDict(code=s['code'], \n",
    "        longitude=float(s['location']['longitude']), \n",
    "        latitude=float(s['location']['latitude']), \n",
    "        name=s['name'], \n",
    "        elevation_m=s['elevation_m'])\n",
    "        for _,s in ulmo_getsites.items()\n",
    "        if 'location' in s\n",
    "    ])\n",
    "\n",
    "    sites_gdf = gpd.GeoDataFrame(\n",
    "        sites_df, \n",
    "        geometry=gpd.points_from_xy(sites_df['longitude'], sites_df['latitude']),\n",
    "        crs=stn_proj\n",
    "    )\n",
    "    return sites_gdf\n",
    "\n",
    "def get_snotel_stns(domain):\n",
    "    \n",
    "    #path to domains\n",
    "    domains_resp = requests.get(\"https://raw.githubusercontent.com/NPRB/02_preprocess_python/main/NPRB_domains.json\")\n",
    "    domains = domains_resp.json()\n",
    "\n",
    "    #Snotel bounding box\n",
    "    Bbox = domains[domain]['Bbox']\n",
    "\n",
    "    # Snotel projection\n",
    "    stn_proj = domains[domain]['stn_proj']\n",
    "    # model projection\n",
    "    mod_proj = domains[domain]['mod_proj']\n",
    "\n",
    "    # Convert the bounding box dictionary to a shapely Polygon geometry using sgeom.box\n",
    "    box_sgeom = sgeom.box(Bbox['lonmin'], Bbox['latmin'], Bbox['lonmax'], Bbox['latmax'])\n",
    "    box_gdf = gpd.GeoDataFrame(geometry=[box_sgeom], crs=stn_proj)\n",
    "    \n",
    "    # WaterML/WOF WSDL endpoint url \n",
    "    #snotel \n",
    "    wsdlurl = \"https://hydroportal.cuahsi.org/Snotel/cuahsi_1_1.asmx?WSDL\"\n",
    "\n",
    "    # get dictionary of snotel sites \n",
    "    sites = ulmo.cuahsi.wof.get_sites(wsdlurl,user_cache=True)\n",
    "\n",
    "    #turn sites to geodataframe \n",
    "    snotel_gdf = sites_asgdf(sites,stn_proj)\n",
    "    \n",
    "    #clip snotel sites to domain bounding box\n",
    "    gdf = gpd.sjoin(snotel_gdf, box_gdf, how=\"inner\")\n",
    "    gdf.drop(columns='index_right', inplace=True)\n",
    "    gdf.reset_index(drop=True, inplace=True)\n",
    "    \n",
    "    #scan (east coast)\n",
    "    wsdlurl_scan = \"https://hydroportal.cuahsi.org/Scan/cuahsi_1_1.asmx?WSDL\"\n",
    "    \n",
    "    # get dictionary of snotel sites \n",
    "    scan_sites = ulmo.cuahsi.wof.get_sites(wsdlurl_scan,user_cache=True)\n",
    "    \n",
    "    #turn sites to geodataframe \n",
    "    scan_gdf = sites_asgdf(scan_sites,stn_proj)\n",
    "    \n",
    "    #clip snotel sites to domain bounding box\n",
    "    gdf2 = gpd.sjoin(scan_gdf, box_gdf, how=\"inner\")\n",
    "    gdf2.drop(columns='index_right', inplace=True)\n",
    "    gdf2.reset_index(drop=True, inplace=True)\n",
    "    \n",
    "    # concatenate snotel and scan\n",
    "    frames = [gdf, gdf2]\n",
    "    gdfs = pd.concat(frames)\n",
    "\n",
    "    #add columns with projected coordinates \n",
    "    CSO_proj = gdfs.to_crs(mod_proj)\n",
    "    gdfs['easting'] = CSO_proj.geometry.x\n",
    "    gdfs['northing'] = CSO_proj.geometry.y\n",
    "    \n",
    "    return gdfs"
   ]
  },
  {
   "cell_type": "code",
   "execution_count": 7,
   "metadata": {},
   "outputs": [],
   "source": [
    "def fetch(sitecode, variablecode, start_date, end_date):\n",
    "    print(sitecode, variablecode, start_date, end_date)\n",
    "    values_df = None\n",
    "    #snotel \n",
    "    wsdlurl = \"https://hydroportal.cuahsi.org/Snotel/cuahsi_1_1.asmx?WSDL\"\n",
    "    try:\n",
    "        #Request data from the server\n",
    "        site_values = ulmo.cuahsi.wof.get_values(\n",
    "            wsdlurl, 'SNOTEL:'+sitecode, variablecode, start=start_date, end=end_date\n",
    "        )\n",
    "        #Convert to a Pandas DataFrame   \n",
    "        values_df = pd.DataFrame.from_dict(site_values['values'])\n",
    "        #Parse the datetime values to Pandas Timestamp objects\n",
    "        values_df['datetime'] = pd.to_datetime(values_df['datetime'])\n",
    "        #Set the DataFrame index to the Timestamps\n",
    "        values_df.set_index('datetime', inplace=True)\n",
    "        #Convert values to float and replace -9999 nodata values with NaN\n",
    "        values_df['value'] = pd.to_numeric(values_df['value']).replace(-9999, np.nan)\n",
    "        #Remove any records flagged with lower quality\n",
    "        values_df = values_df[values_df['quality_control_level_code'] == '1']\n",
    "    except:\n",
    "        print(\"Unable to fetch %s\" % variablecode)\n",
    "    \n",
    "    return values_df"
   ]
  },
  {
   "cell_type": "code",
   "execution_count": 18,
   "metadata": {},
   "outputs": [],
   "source": [
    "# returns daily timeseries\n",
    "# https://www.wcc.nrcs.usda.gov/web_service/AWDB_Web_Service_Reference.htm#commonlyUsedElementCodes\n",
    "# 'WTEQ': swe [in]\n",
    "# 'SNWD': snow depth [in]\n",
    "# 'PRCP': precipitation increment [in]\n",
    "# 'PREC': precipitation accumulation [in]\n",
    "# 'TAVG': average air temp [F]\n",
    "# 'TMIN': minimum air temp [F]\n",
    "# 'TMAX': maximum air temp [F]\n",
    "# 'TOBS': observered air temp [F]\n",
    "def get_snotel_data(gdf,sd_dt, ed_dt,var,units='metric'):\n",
    "    '''\n",
    "    gdf - pandas geodataframe of SNOTEL sites\n",
    "    st_dt - start date string 'yyyy-mm-dd'\n",
    "    ed_dt - end date string 'yyyy-mm-dd'\n",
    "    var - snotel variable of interest \n",
    "    units - 'metric' (default) or 'imperial'\n",
    "    '''\n",
    "    stn_data = pd.DataFrame(index=pd.date_range(start=st_dt, end=ed_dt))\n",
    "    \n",
    "\n",
    "    for sitecode in gdf.code:\n",
    "        try:\n",
    "            data = fetch(sitecode,'SNOTEL:'+var+'_D', start_date=st_dt, end_date=ed_dt)\n",
    "            #check for nan values\n",
    "#             if len(data.value[np.isnan(data.value)]) > 0:\n",
    "#                 #check if more than 15% of data is missing\n",
    "#                 if len(data.value[np.isnan(data.value)])/len(data) > .25:\n",
    "#                     print('More than 25% of days missing')\n",
    "#                     gdf.drop(gdf.loc[gdf['code']==sitecode].index, inplace=True)\n",
    "#                     continue\n",
    "            stn_data[sitecode] = data.value\n",
    "        except:\n",
    "            gdf.drop(gdf.loc[gdf['code']==sitecode].index, inplace=True)     \n",
    "    \n",
    "    gdf.reset_index(drop=True, inplace=True)\n",
    "    if units == 'metric':\n",
    "        if (var == 'WTEQ') |(var == 'SNWD') |(var == 'PRCP') |(var == 'PREC'):\n",
    "            #convert SNOTEL units[in] to [m]\n",
    "            for sitecode in gdf.code:\n",
    "                stn_data[sitecode] = 0.0254 * stn_data[sitecode]\n",
    "        elif (var == 'TAVG') |(var == 'TMIN') |(var == 'TMAX') |(var == 'TOBS'):\n",
    "            #convert SNOTEL units[F] to [C]\n",
    "            for sitecode in gdf.code:\n",
    "                stn_data[sitecode] = (stn_data[sitecode] - 32) * 5/9\n",
    "    return gdf, stn_data"
   ]
  },
  {
   "cell_type": "markdown",
   "metadata": {},
   "source": [
    "# Execute Functions"
   ]
  },
  {
   "cell_type": "code",
   "execution_count": 19,
   "metadata": {},
   "outputs": [
    {
     "name": "stdout",
     "output_type": "stream",
     "text": [
      "957_AK_SNTL SNOTEL:WTEQ_D 1988-10-01 2019-09-30\n"
     ]
    },
    {
     "name": "stderr",
     "output_type": "stream",
     "text": [
      "<suds.sax.document.Document object at 0x7f58264986d8>\n"
     ]
    },
    {
     "name": "stdout",
     "output_type": "stream",
     "text": [
      "Unable to fetch SNOTEL:WTEQ_D\n",
      "958_AK_SNTL SNOTEL:WTEQ_D 1988-10-01 2019-09-30\n",
      "968_AK_SNTL SNOTEL:WTEQ_D 1988-10-01 2019-09-30\n"
     ]
    },
    {
     "name": "stderr",
     "output_type": "stream",
     "text": [
      "<suds.sax.document.Document object at 0x7f5826498898>\n"
     ]
    },
    {
     "name": "stdout",
     "output_type": "stream",
     "text": [
      "Unable to fetch SNOTEL:WTEQ_D\n",
      "1175_AK_SNTL SNOTEL:WTEQ_D 1988-10-01 2019-09-30\n",
      "1177_AK_SNTL SNOTEL:WTEQ_D 1988-10-01 2019-09-30\n"
     ]
    },
    {
     "name": "stderr",
     "output_type": "stream",
     "text": [
      "<suds.sax.document.Document object at 0x7f57fc7e6f28>\n"
     ]
    },
    {
     "name": "stdout",
     "output_type": "stream",
     "text": [
      "Unable to fetch SNOTEL:WTEQ_D\n",
      "1183_AK_SNTL SNOTEL:WTEQ_D 1988-10-01 2019-09-30\n"
     ]
    },
    {
     "name": "stderr",
     "output_type": "stream",
     "text": [
      "<suds.sax.document.Document object at 0x7f58258def60>\n"
     ]
    },
    {
     "name": "stdout",
     "output_type": "stream",
     "text": [
      "Unable to fetch SNOTEL:WTEQ_D\n",
      "958_AK_SNTL SNOTEL:SNWD_D 1988-10-01 2019-09-30\n",
      "1175_AK_SNTL SNOTEL:SNWD_D 1988-10-01 2019-09-30\n",
      "958_AK_SNTL SNOTEL:PRCP_D 1988-10-01 2019-09-30\n",
      "1175_AK_SNTL SNOTEL:PRCP_D 1988-10-01 2019-09-30\n",
      "958_AK_SNTL SNOTEL:TAVG_D 1988-10-01 2019-09-30\n",
      "1175_AK_SNTL SNOTEL:TAVG_D 1988-10-01 2019-09-30\n",
      "958_AK_SNTL SNOTEL:TMIN_D 1988-10-01 2019-09-30\n",
      "1175_AK_SNTL SNOTEL:TMIN_D 1988-10-01 2019-09-30\n",
      "958_AK_SNTL SNOTEL:TMAX_D 1988-10-01 2019-09-30\n",
      "1175_AK_SNTL SNOTEL:TMAX_D 1988-10-01 2019-09-30\n"
     ]
    }
   ],
   "source": [
    "#get geodataframe of all SNOTEL sites in the domain\n",
    "snotel_gdf = get_snotel_stns(domain)\n",
    "\n",
    "#get SWE timeseries \n",
    "domain_gdf, swe = get_snotel_data(snotel_gdf,st_dt,ed_dt,'WTEQ')\n",
    "#get snow depth timeseries \n",
    "domain_gdf, hs = get_snotel_data(snotel_gdf,st_dt,ed_dt,'SNWD')\n",
    "#get precipitation timeseries \n",
    "domain_gdf, pr = get_snotel_data(snotel_gdf,st_dt,ed_dt,'PRCP')\n",
    "#get av temp timeseries \n",
    "domain_gdf, tav = get_snotel_data(snotel_gdf,st_dt, ed_dt,'TAVG')\n",
    "#get min temp timeseries \n",
    "domain_gdf, tmn = get_snotel_data(snotel_gdf,st_dt, ed_dt,'TMIN')\n",
    "#get max temp timeseries \n",
    "domain_gdf, tmx = get_snotel_data(snotel_gdf,st_dt, ed_dt,'TMAX')"
   ]
  },
  {
   "cell_type": "code",
   "execution_count": 24,
   "metadata": {},
   "outputs": [
    {
     "data": {
      "text/plain": [
       "<matplotlib.axes._subplots.AxesSubplot at 0x7f5825dd3898>"
      ]
     },
     "execution_count": 24,
     "metadata": {},
     "output_type": "execute_result"
    },
    {
     "data": {
      "image/png": "[encoded data removed]",
      "text/plain": [
       "<Figure size 432x288 with 1 Axes>"
      ]
     },
     "metadata": {
      "needs_background": "light"
     },
     "output_type": "display_data"
    }
   ],
   "source": [
    "swe.plot()"
   ]
  },
  {
   "cell_type": "code",
   "execution_count": 25,
   "metadata": {},
   "outputs": [
    {
     "data": {
      "text/html": [
       "<div>\n",
       "<style scoped>\n",
       "    .dataframe tbody tr th:only-of-type {\n",
       "        vertical-align: middle;\n",
       "    }\n",
       "\n",
       "    .dataframe tbody tr th {\n",
       "        vertical-align: top;\n",
       "    }\n",
       "\n",
       "    .dataframe thead th {\n",
       "        text-align: right;\n",
       "    }\n",
       "</style>\n",
       "<table border=\"1\" class=\"dataframe\">\n",
       "  <thead>\n",
       "    <tr style=\"text-align: right;\">\n",
       "      <th></th>\n",
       "      <th>958_AK_SNTL</th>\n",
       "      <th>1175_AK_SNTL</th>\n",
       "    </tr>\n",
       "  </thead>\n",
       "  <tbody>\n",
       "    <tr>\n",
       "      <th>1988-10-01</th>\n",
       "      <td>NaN</td>\n",
       "      <td>NaN</td>\n",
       "    </tr>\n",
       "    <tr>\n",
       "      <th>1988-10-02</th>\n",
       "      <td>NaN</td>\n",
       "      <td>NaN</td>\n",
       "    </tr>\n",
       "    <tr>\n",
       "      <th>1988-10-03</th>\n",
       "      <td>NaN</td>\n",
       "      <td>NaN</td>\n",
       "    </tr>\n",
       "    <tr>\n",
       "      <th>1988-10-04</th>\n",
       "      <td>NaN</td>\n",
       "      <td>NaN</td>\n",
       "    </tr>\n",
       "    <tr>\n",
       "      <th>1988-10-05</th>\n",
       "      <td>NaN</td>\n",
       "      <td>NaN</td>\n",
       "    </tr>\n",
       "    <tr>\n",
       "      <th>...</th>\n",
       "      <td>...</td>\n",
       "      <td>...</td>\n",
       "    </tr>\n",
       "    <tr>\n",
       "      <th>2019-09-26</th>\n",
       "      <td>0.0</td>\n",
       "      <td>0.0</td>\n",
       "    </tr>\n",
       "    <tr>\n",
       "      <th>2019-09-27</th>\n",
       "      <td>0.0</td>\n",
       "      <td>0.0</td>\n",
       "    </tr>\n",
       "    <tr>\n",
       "      <th>2019-09-28</th>\n",
       "      <td>0.0</td>\n",
       "      <td>0.0</td>\n",
       "    </tr>\n",
       "    <tr>\n",
       "      <th>2019-09-29</th>\n",
       "      <td>0.0</td>\n",
       "      <td>0.0</td>\n",
       "    </tr>\n",
       "    <tr>\n",
       "      <th>2019-09-30</th>\n",
       "      <td>0.0</td>\n",
       "      <td>0.0</td>\n",
       "    </tr>\n",
       "  </tbody>\n",
       "</table>\n",
       "<p>11322 rows × 2 columns</p>\n",
       "</div>"
      ],
      "text/plain": [
       "            958_AK_SNTL  1175_AK_SNTL\n",
       "1988-10-01          NaN           NaN\n",
       "1988-10-02          NaN           NaN\n",
       "1988-10-03          NaN           NaN\n",
       "1988-10-04          NaN           NaN\n",
       "1988-10-05          NaN           NaN\n",
       "...                 ...           ...\n",
       "2019-09-26          0.0           0.0\n",
       "2019-09-27          0.0           0.0\n",
       "2019-09-28          0.0           0.0\n",
       "2019-09-29          0.0           0.0\n",
       "2019-09-30          0.0           0.0\n",
       "\n",
       "[11322 rows x 2 columns]"
      ]
     },
     "execution_count": 25,
     "metadata": {},
     "output_type": "execute_result"
    }
   ],
   "source": [
    "swe"
   ]
  },
  {
   "cell_type": "markdown",
   "metadata": {},
   "source": [
    "# Save Data"
   ]
  },
  {
   "cell_type": "code",
   "execution_count": 23,
   "metadata": {},
   "outputs": [],
   "source": [
    "# save geojson\n",
    "out = dataPath + 'Station_'+domain+'.geojson'\n",
    "domain_gdf.to_file(out, driver='GeoJSON')\n",
    "\n",
    "#save swe\n",
    "out = dataPath + 'SNOTEL_data_SWEDmeters'+st_dt+'_'+ed_dt+'.csv'\n",
    "swe.to_csv(out)\n",
    "\n",
    "#save hs\n",
    "out = dataPath + 'SNOTEL_data_HSmeters'+st_dt+'_'+ed_dt+'.csv'\n",
    "hs.to_csv(out)\n",
    "\n",
    "#save pr\n",
    "out = dataPath + 'SNOTEL_data_PRmeters'+st_dt+'_'+ed_dt+'.csv'\n",
    "pr.to_csv(out)\n",
    "\n",
    "#save tav\n",
    "out = dataPath + 'SNOTEL_data_TAVGcelsius'+st_dt+'_'+ed_dt+'.csv'\n",
    "tav.to_csv(out)\n",
    "\n",
    "#save tmn\n",
    "out = dataPath + 'SNOTEL_data_TMINcelsius'+st_dt+'_'+ed_dt+'.csv'\n",
    "tmn.to_csv(out)\n",
    "\n",
    "#save tmx\n",
    "out = dataPath + 'SNOTEL_data_TMAXcelsius'+st_dt+'_'+ed_dt+'.csv'\n",
    "tmx.to_csv(out)"
   ]
  },
  {
   "cell_type": "code",
   "execution_count": null,
   "metadata": {},
   "outputs": [],
   "source": [
    "# Outfile path\n",
    "outpath = '/nfs/attic/dfh/2020_NPRB/results/calibration/'+domain+'/prep_files/'"
   ]
  },
  {
   "cell_type": "markdown",
   "metadata": {},
   "source": [
    "# run all domains"
   ]
  },
  {
   "cell_type": "code",
   "execution_count": 10,
   "metadata": {},
   "outputs": [
    {
     "name": "stdout",
     "output_type": "stream",
     "text": [
      "BEAU\n",
      "957_AK_SNTL SNOTEL:WTEQ_D 1988-09-01 2019-08-31\n"
     ]
    },
    {
     "name": "stderr",
     "output_type": "stream",
     "text": [
      "<suds.sax.document.Document object at 0x7f0709b17f28>\n"
     ]
    },
    {
     "name": "stdout",
     "output_type": "stream",
     "text": [
      "Unable to fetch SNOTEL:WTEQ_D\n",
      "968_AK_SNTL SNOTEL:WTEQ_D 1988-09-01 2019-08-31\n"
     ]
    },
    {
     "name": "stderr",
     "output_type": "stream",
     "text": [
      "<suds.sax.document.Document object at 0x7f0709b0f550>\n"
     ]
    },
    {
     "name": "stdout",
     "output_type": "stream",
     "text": [
      "Unable to fetch SNOTEL:WTEQ_D\n",
      "1175_AK_SNTL SNOTEL:WTEQ_D 1988-09-01 2019-08-31\n",
      "1177_AK_SNTL SNOTEL:WTEQ_D 1988-09-01 2019-08-31\n"
     ]
    },
    {
     "name": "stderr",
     "output_type": "stream",
     "text": [
      "<suds.sax.document.Document object at 0x7f071a60bba8>\n"
     ]
    },
    {
     "name": "stdout",
     "output_type": "stream",
     "text": [
      "Unable to fetch SNOTEL:WTEQ_D\n",
      "1183_AK_SNTL SNOTEL:WTEQ_D 1988-09-01 2019-08-31\n"
     ]
    },
    {
     "name": "stderr",
     "output_type": "stream",
     "text": [
      "<suds.sax.document.Document object at 0x7f071a6118d0>\n"
     ]
    },
    {
     "name": "stdout",
     "output_type": "stream",
     "text": [
      "Unable to fetch SNOTEL:WTEQ_D\n",
      "1175_AK_SNTL SNOTEL:SNWD_D 1988-09-01 2019-08-31\n",
      "1175_AK_SNTL SNOTEL:PRCP_D 1988-09-01 2019-08-31\n",
      "1175_AK_SNTL SNOTEL:TAVG_D 1988-09-01 2019-08-31\n",
      "1175_AK_SNTL SNOTEL:TMIN_D 1988-09-01 2019-08-31\n",
      "1175_AK_SNTL SNOTEL:TMAX_D 1988-09-01 2019-08-31\n",
      "BRIS\n",
      "1062_AK_SNTL SNOTEL:WTEQ_D 1988-09-01 2019-08-31\n",
      "1086_AK_SNTL SNOTEL:WTEQ_D 1988-09-01 2019-08-31\n"
     ]
    },
    {
     "name": "stderr",
     "output_type": "stream",
     "text": [
      "<suds.sax.document.Document object at 0x7f0709c779e8>\n"
     ]
    },
    {
     "name": "stdout",
     "output_type": "stream",
     "text": [
      "Unable to fetch SNOTEL:WTEQ_D\n",
      "1036_AK_SNTL SNOTEL:WTEQ_D 1988-09-01 2019-08-31\n"
     ]
    },
    {
     "name": "stderr",
     "output_type": "stream",
     "text": [
      "<suds.sax.document.Document object at 0x7f072296a2e8>\n"
     ]
    },
    {
     "name": "stdout",
     "output_type": "stream",
     "text": [
      "Unable to fetch SNOTEL:WTEQ_D\n",
      "1072_AK_SNTL SNOTEL:WTEQ_D 1988-09-01 2019-08-31\n"
     ]
    },
    {
     "name": "stderr",
     "output_type": "stream",
     "text": [
      "<suds.sax.document.Document object at 0x7f07232ad9e8>\n"
     ]
    },
    {
     "name": "stdout",
     "output_type": "stream",
     "text": [
      "Unable to fetch SNOTEL:WTEQ_D\n",
      "201_AK_SNTL SNOTEL:WTEQ_D 1988-09-01 2019-08-31\n"
     ]
    },
    {
     "name": "stderr",
     "output_type": "stream",
     "text": [
      "<suds.sax.document.Document object at 0x7f0709e1a048>\n"
     ]
    },
    {
     "name": "stdout",
     "output_type": "stream",
     "text": [
      "Unable to fetch SNOTEL:WTEQ_D\n",
      "1003_AK_SNTL SNOTEL:WTEQ_D 1988-09-01 2019-08-31\n",
      "1191_AK_SNTL SNOTEL:WTEQ_D 1988-09-01 2019-08-31\n"
     ]
    },
    {
     "name": "stderr",
     "output_type": "stream",
     "text": [
      "<suds.sax.document.Document object at 0x7f072296a240>\n"
     ]
    },
    {
     "name": "stdout",
     "output_type": "stream",
     "text": [
      "Unable to fetch SNOTEL:WTEQ_D\n",
      "987_AK_SNTL SNOTEL:WTEQ_D 1988-09-01 2019-08-31\n",
      "973_AK_SNTL SNOTEL:WTEQ_D 1988-09-01 2019-08-31\n"
     ]
    },
    {
     "name": "stderr",
     "output_type": "stream",
     "text": [
      "<suds.sax.document.Document object at 0x7f072296a550>\n"
     ]
    },
    {
     "name": "stdout",
     "output_type": "stream",
     "text": [
      "Unable to fetch SNOTEL:WTEQ_D\n",
      "1266_AK_SNTL SNOTEL:WTEQ_D 1988-09-01 2019-08-31\n",
      "1232_AK_SCAN SCAN:WTEQ_D 1988-09-01 2019-08-31\n"
     ]
    },
    {
     "name": "stderr",
     "output_type": "stream",
     "text": [
      "<suds.sax.document.Document object at 0x7f07099750b8>\n"
     ]
    },
    {
     "name": "stdout",
     "output_type": "stream",
     "text": [
      "Unable to fetch SCAN:WTEQ_D\n",
      "2211_AK_SCAN SCAN:WTEQ_D 1988-09-01 2019-08-31\n"
     ]
    },
    {
     "name": "stderr",
     "output_type": "stream",
     "text": [
      "<suds.sax.document.Document object at 0x7f0722874780>\n"
     ]
    },
    {
     "name": "stdout",
     "output_type": "stream",
     "text": [
      "Unable to fetch SCAN:WTEQ_D\n",
      "2208_AK_SCAN SCAN:WTEQ_D 1988-09-01 2019-08-31\n"
     ]
    },
    {
     "name": "stderr",
     "output_type": "stream",
     "text": [
      "<suds.sax.document.Document object at 0x7f0722850518>\n"
     ]
    },
    {
     "name": "stdout",
     "output_type": "stream",
     "text": [
      "Unable to fetch SCAN:WTEQ_D\n",
      "1233_AK_SCAN SCAN:WTEQ_D 1988-09-01 2019-08-31\n"
     ]
    },
    {
     "name": "stderr",
     "output_type": "stream",
     "text": [
      "<suds.sax.document.Document object at 0x7f072288e240>\n"
     ]
    },
    {
     "name": "stdout",
     "output_type": "stream",
     "text": [
      "Unable to fetch SCAN:WTEQ_D\n",
      "2062_AK_SCAN SCAN:WTEQ_D 1988-09-01 2019-08-31\n"
     ]
    },
    {
     "name": "stderr",
     "output_type": "stream",
     "text": [
      "<suds.sax.document.Document object at 0x7f071a57fdd8>\n"
     ]
    },
    {
     "name": "stdout",
     "output_type": "stream",
     "text": [
      "Unable to fetch SCAN:WTEQ_D\n",
      "2209_AK_SCAN SCAN:WTEQ_D 1988-09-01 2019-08-31\n"
     ]
    },
    {
     "name": "stderr",
     "output_type": "stream",
     "text": [
      "<suds.sax.document.Document object at 0x7f071a578588>\n"
     ]
    },
    {
     "name": "stdout",
     "output_type": "stream",
     "text": [
      "Unable to fetch SCAN:WTEQ_D\n",
      "2063_AK_SCAN SCAN:WTEQ_D 1988-09-01 2019-08-31\n"
     ]
    },
    {
     "name": "stderr",
     "output_type": "stream",
     "text": [
      "<suds.sax.document.Document object at 0x7f0709c1dc18>\n"
     ]
    },
    {
     "name": "stdout",
     "output_type": "stream",
     "text": [
      "Unable to fetch SCAN:WTEQ_D\n",
      "2221_AK_SCAN SCAN:WTEQ_D 1988-09-01 2019-08-31\n"
     ]
    },
    {
     "name": "stderr",
     "output_type": "stream",
     "text": [
      "<suds.sax.document.Document object at 0x7f072287e860>\n"
     ]
    },
    {
     "name": "stdout",
     "output_type": "stream",
     "text": [
      "Unable to fetch SCAN:WTEQ_D\n",
      "1234_AK_SCAN SCAN:WTEQ_D 1988-09-01 2019-08-31\n"
     ]
    },
    {
     "name": "stderr",
     "output_type": "stream",
     "text": [
      "<suds.sax.document.Document object at 0x7f072287c400>\n"
     ]
    },
    {
     "name": "stdout",
     "output_type": "stream",
     "text": [
      "Unable to fetch SCAN:WTEQ_D\n",
      "1266_AK_SNTL SNOTEL:SNWD_D 1988-09-01 2019-08-31\n",
      "1266_AK_SNTL SNOTEL:PRCP_D 1988-09-01 2019-08-31\n",
      "1266_AK_SNTL SNOTEL:TAVG_D 1988-09-01 2019-08-31\n",
      "1266_AK_SNTL SNOTEL:TMIN_D 1988-09-01 2019-08-31\n",
      "1266_AK_SNTL SNOTEL:TMAX_D 1988-09-01 2019-08-31\n",
      "CHUK\n",
      "1036_AK_SNTL SNOTEL:WTEQ_D 1988-09-01 2019-08-31\n"
     ]
    },
    {
     "name": "stderr",
     "output_type": "stream",
     "text": [
      "<suds.sax.document.Document object at 0x7f071a09c1d0>\n"
     ]
    },
    {
     "name": "stdout",
     "output_type": "stream",
     "text": [
      "Unable to fetch SNOTEL:WTEQ_D\n",
      "1175_AK_SNTL SNOTEL:WTEQ_D 1988-09-01 2019-08-31\n",
      "986_AK_SNTL SNOTEL:WTEQ_D 1988-09-01 2019-08-31\n"
     ]
    },
    {
     "name": "stderr",
     "output_type": "stream",
     "text": [
      "<suds.sax.document.Document object at 0x7f071a09c860>\n"
     ]
    },
    {
     "name": "stdout",
     "output_type": "stream",
     "text": [
      "Unable to fetch SNOTEL:WTEQ_D\n",
      "973_AK_SNTL SNOTEL:WTEQ_D 1988-09-01 2019-08-31\n"
     ]
    },
    {
     "name": "stderr",
     "output_type": "stream",
     "text": [
      "<suds.sax.document.Document object at 0x7f06ffbbc400>\n"
     ]
    },
    {
     "name": "stdout",
     "output_type": "stream",
     "text": [
      "Unable to fetch SNOTEL:WTEQ_D\n",
      "2213_AK_SCAN SCAN:WTEQ_D 1988-09-01 2019-08-31\n"
     ]
    },
    {
     "name": "stderr",
     "output_type": "stream",
     "text": [
      "<suds.sax.document.Document object at 0x7f07229c7be0>\n"
     ]
    },
    {
     "name": "stdout",
     "output_type": "stream",
     "text": [
      "Unable to fetch SCAN:WTEQ_D\n",
      "2211_AK_SCAN SCAN:WTEQ_D 1988-09-01 2019-08-31\n"
     ]
    },
    {
     "name": "stderr",
     "output_type": "stream",
     "text": [
      "<suds.sax.document.Document object at 0x7f0719ff9240>\n"
     ]
    },
    {
     "name": "stdout",
     "output_type": "stream",
     "text": [
      "Unable to fetch SCAN:WTEQ_D\n",
      "2221_AK_SCAN SCAN:WTEQ_D 1988-09-01 2019-08-31\n"
     ]
    },
    {
     "name": "stderr",
     "output_type": "stream",
     "text": [
      "<suds.sax.document.Document object at 0x7f0719ff9f98>\n"
     ]
    },
    {
     "name": "stdout",
     "output_type": "stream",
     "text": [
      "Unable to fetch SCAN:WTEQ_D\n",
      "JUNE\n",
      "1001_AK_SNTL SNOTEL:WTEQ_D 1988-09-01 2019-08-31\n",
      "1001_AK_SNTL SNOTEL:SNWD_D 1988-09-01 2019-08-31\n",
      "1001_AK_SNTL SNOTEL:PRCP_D 1988-09-01 2019-08-31\n",
      "1001_AK_SNTL SNOTEL:TAVG_D 1988-09-01 2019-08-31\n",
      "1001_AK_SNTL SNOTEL:TMIN_D 1988-09-01 2019-08-31\n",
      "1001_AK_SNTL SNOTEL:TMAX_D 1988-09-01 2019-08-31\n",
      "KLAW\n",
      "SITK\n",
      "TAKU\n",
      "1270_AK_SNTL SNOTEL:WTEQ_D 1988-09-01 2019-08-31\n",
      "1001_AK_SNTL SNOTEL:WTEQ_D 1988-09-01 2019-08-31\n",
      "1270_AK_SNTL SNOTEL:SNWD_D 1988-09-01 2019-08-31\n",
      "1001_AK_SNTL SNOTEL:SNWD_D 1988-09-01 2019-08-31\n",
      "1270_AK_SNTL SNOTEL:PRCP_D 1988-09-01 2019-08-31\n",
      "1001_AK_SNTL SNOTEL:PRCP_D 1988-09-01 2019-08-31\n",
      "1270_AK_SNTL SNOTEL:TAVG_D 1988-09-01 2019-08-31\n",
      "1001_AK_SNTL SNOTEL:TAVG_D 1988-09-01 2019-08-31\n",
      "1270_AK_SNTL SNOTEL:TMIN_D 1988-09-01 2019-08-31\n",
      "1001_AK_SNTL SNOTEL:TMIN_D 1988-09-01 2019-08-31\n",
      "1270_AK_SNTL SNOTEL:TMAX_D 1988-09-01 2019-08-31\n",
      "1001_AK_SNTL SNOTEL:TMAX_D 1988-09-01 2019-08-31\n",
      "YUKO\n",
      "1267_AK_SNTL SNOTEL:WTEQ_D 1988-09-01 2019-08-31\n",
      "1189_AK_SNTL SNOTEL:WTEQ_D 1988-09-01 2019-08-31\n",
      "1070_AK_SNTL SNOTEL:WTEQ_D 1988-09-01 2019-08-31\n",
      "957_AK_SNTL SNOTEL:WTEQ_D 1988-09-01 2019-08-31\n"
     ]
    },
    {
     "name": "stderr",
     "output_type": "stream",
     "text": [
      "<suds.sax.document.Document object at 0x7f0709e46da0>\n"
     ]
    },
    {
     "name": "stdout",
     "output_type": "stream",
     "text": [
      "Unable to fetch SNOTEL:WTEQ_D\n",
      "1086_AK_SNTL SNOTEL:WTEQ_D 1988-09-01 2019-08-31\n"
     ]
    },
    {
     "name": "stderr",
     "output_type": "stream",
     "text": [
      "<suds.sax.document.Document object at 0x7f0709c94780>\n"
     ]
    },
    {
     "name": "stdout",
     "output_type": "stream",
     "text": [
      "Unable to fetch SNOTEL:WTEQ_D\n",
      "1182_AK_SNTL SNOTEL:WTEQ_D 1988-09-01 2019-08-31\n",
      "1093_AK_SNTL SNOTEL:WTEQ_D 1988-09-01 2019-08-31\n",
      "958_AK_SNTL SNOTEL:WTEQ_D 1988-09-01 2019-08-31\n",
      "959_AK_SNTL SNOTEL:WTEQ_D 1988-09-01 2019-08-31\n",
      "960_AK_SNTL SNOTEL:WTEQ_D 1988-09-01 2019-08-31\n"
     ]
    },
    {
     "name": "stderr",
     "output_type": "stream",
     "text": [
      "<suds.sax.document.Document object at 0x7f0722c29f60>\n"
     ]
    },
    {
     "name": "stdout",
     "output_type": "stream",
     "text": [
      "Unable to fetch SNOTEL:WTEQ_D\n",
      "1071_AK_SNTL SNOTEL:WTEQ_D 1988-09-01 2019-08-31\n"
     ]
    },
    {
     "name": "stderr",
     "output_type": "stream",
     "text": [
      "<suds.sax.document.Document object at 0x7f0709e46d68>\n"
     ]
    },
    {
     "name": "stdout",
     "output_type": "stream",
     "text": [
      "Unable to fetch SNOTEL:WTEQ_D\n",
      "1092_AK_SNTL SNOTEL:WTEQ_D 1988-09-01 2019-08-31\n",
      "1174_AK_SNTL SNOTEL:WTEQ_D 1988-09-01 2019-08-31\n",
      "1268_AK_SNTL SNOTEL:WTEQ_D 1988-09-01 2019-08-31\n",
      "961_AK_SNTL SNOTEL:WTEQ_D 1988-09-01 2019-08-31\n"
     ]
    },
    {
     "name": "stderr",
     "output_type": "stream",
     "text": [
      "<suds.sax.document.Document object at 0x7f07229aa2b0>\n"
     ]
    },
    {
     "name": "stdout",
     "output_type": "stream",
     "text": [
      "Unable to fetch SNOTEL:WTEQ_D\n",
      "962_AK_SNTL SNOTEL:WTEQ_D 1988-09-01 2019-08-31\n"
     ]
    },
    {
     "name": "stderr",
     "output_type": "stream",
     "text": [
      "<suds.sax.document.Document object at 0x7f07229aa2e8>\n"
     ]
    },
    {
     "name": "stdout",
     "output_type": "stream",
     "text": [
      "Unable to fetch SNOTEL:WTEQ_D\n",
      "956_AK_SNTL SNOTEL:WTEQ_D 1988-09-01 2019-08-31\n",
      "963_AK_SNTL SNOTEL:WTEQ_D 1988-09-01 2019-08-31\n",
      "964_AK_SNTL SNOTEL:WTEQ_D 1988-09-01 2019-08-31\n",
      "1091_AK_SNTL SNOTEL:WTEQ_D 1988-09-01 2019-08-31\n",
      "946_AK_SNTL SNOTEL:WTEQ_D 1988-09-01 2019-08-31\n",
      "1275_AK_SNTL SNOTEL:WTEQ_D 1988-09-01 2019-08-31\n",
      "1036_AK_SNTL SNOTEL:WTEQ_D 1988-09-01 2019-08-31\n"
     ]
    },
    {
     "name": "stderr",
     "output_type": "stream",
     "text": [
      "<suds.sax.document.Document object at 0x7f071a2acf98>\n"
     ]
    },
    {
     "name": "stdout",
     "output_type": "stream",
     "text": [
      "Unable to fetch SNOTEL:WTEQ_D\n",
      "1072_AK_SNTL SNOTEL:WTEQ_D 1988-09-01 2019-08-31\n"
     ]
    },
    {
     "name": "stderr",
     "output_type": "stream",
     "text": [
      "<suds.sax.document.Document object at 0x7f071a224c88>\n"
     ]
    },
    {
     "name": "stdout",
     "output_type": "stream",
     "text": [
      "Unable to fetch SNOTEL:WTEQ_D\n",
      "1175_AK_SNTL SNOTEL:WTEQ_D 1988-09-01 2019-08-31\n",
      "966_AK_SNTL SNOTEL:WTEQ_D 1988-09-01 2019-08-31\n",
      "947_AK_SNTL SNOTEL:WTEQ_D 1988-09-01 2019-08-31\n",
      "1096_AK_SNTL SNOTEL:WTEQ_D 1988-09-01 2019-08-31\n",
      "1094_AK_SNTL SNOTEL:WTEQ_D 1988-09-01 2019-08-31\n",
      "949_AK_SNTL SNOTEL:WTEQ_D 1988-09-01 2019-08-31\n",
      "1035_AK_SNTL SNOTEL:WTEQ_D 1988-09-01 2019-08-31\n",
      "1103_AK_SNTL SNOTEL:WTEQ_D 1988-09-01 2019-08-31\n",
      "1073_AK_SNTL SNOTEL:WTEQ_D 1988-09-01 2019-08-31\n",
      "948_AK_SNTL SNOTEL:WTEQ_D 1988-09-01 2019-08-31\n",
      "950_AK_SNTL SNOTEL:WTEQ_D 1988-09-01 2019-08-31\n",
      "986_AK_SNTL SNOTEL:WTEQ_D 1988-09-01 2019-08-31\n"
     ]
    },
    {
     "name": "stderr",
     "output_type": "stream",
     "text": [
      "<suds.sax.document.Document object at 0x7f0722896a90>\n"
     ]
    },
    {
     "name": "stdout",
     "output_type": "stream",
     "text": [
      "Unable to fetch SNOTEL:WTEQ_D\n",
      "1002_AK_SNTL SNOTEL:WTEQ_D 1988-09-01 2019-08-31\n",
      "1178_AK_SNTL SNOTEL:WTEQ_D 1988-09-01 2019-08-31\n"
     ]
    },
    {
     "name": "stderr",
     "output_type": "stream",
     "text": [
      "<suds.sax.document.Document object at 0x7f0722896f60>\n"
     ]
    },
    {
     "name": "stdout",
     "output_type": "stream",
     "text": [
      "Unable to fetch SNOTEL:WTEQ_D\n",
      "973_AK_SNTL SNOTEL:WTEQ_D 1988-09-01 2019-08-31\n"
     ]
    },
    {
     "name": "stderr",
     "output_type": "stream",
     "text": [
      "<suds.sax.document.Document object at 0x7f0722941b38>\n"
     ]
    },
    {
     "name": "stdout",
     "output_type": "stream",
     "text": [
      "Unable to fetch SNOTEL:WTEQ_D\n",
      "1095_AK_SNTL SNOTEL:WTEQ_D 1988-09-01 2019-08-31\n"
     ]
    },
    {
     "name": "stderr",
     "output_type": "stream",
     "text": [
      "<suds.sax.document.Document object at 0x7f0709c6ab70>\n"
     ]
    },
    {
     "name": "stdout",
     "output_type": "stream",
     "text": [
      "Unable to fetch SNOTEL:WTEQ_D\n",
      "955_AK_SNTL SNOTEL:WTEQ_D 1988-09-01 2019-08-31\n",
      "967_AK_SNTL SNOTEL:WTEQ_D 1988-09-01 2019-08-31\n",
      "1266_AK_SNTL SNOTEL:WTEQ_D 1988-09-01 2019-08-31\n",
      "951_AK_SNTL SNOTEL:WTEQ_D 1988-09-01 2019-08-31\n",
      "1089_AK_SNTL SNOTEL:WTEQ_D 1988-09-01 2019-08-31\n",
      "954_AK_SNTL SNOTEL:WTEQ_D 1988-09-01 2019-08-31\n",
      "952_AK_SNTL SNOTEL:WTEQ_D 1988-09-01 2019-08-31\n",
      "1090_AK_SNTL SNOTEL:WTEQ_D 1988-09-01 2019-08-31\n"
     ]
    },
    {
     "name": "stderr",
     "output_type": "stream",
     "text": [
      "<suds.sax.document.Document object at 0x7f06ffc36128>\n"
     ]
    },
    {
     "name": "stdout",
     "output_type": "stream",
     "text": [
      "Unable to fetch SNOTEL:WTEQ_D\n",
      "1055_AK_SNTL SNOTEL:WTEQ_D 1988-09-01 2019-08-31\n",
      "2213_AK_SCAN SCAN:WTEQ_D 1988-09-01 2019-08-31\n"
     ]
    },
    {
     "name": "stderr",
     "output_type": "stream",
     "text": [
      "<suds.sax.document.Document object at 0x7f0709e8e320>\n"
     ]
    },
    {
     "name": "stdout",
     "output_type": "stream",
     "text": [
      "Unable to fetch SCAN:WTEQ_D\n",
      "2211_AK_SCAN SCAN:WTEQ_D 1988-09-01 2019-08-31\n"
     ]
    },
    {
     "name": "stderr",
     "output_type": "stream",
     "text": [
      "<suds.sax.document.Document object at 0x7f0709a5a710>\n"
     ]
    },
    {
     "name": "stdout",
     "output_type": "stream",
     "text": [
      "Unable to fetch SCAN:WTEQ_D\n",
      "2208_AK_SCAN SCAN:WTEQ_D 1988-09-01 2019-08-31\n"
     ]
    },
    {
     "name": "stderr",
     "output_type": "stream",
     "text": [
      "<suds.sax.document.Document object at 0x7f0722de8908>\n"
     ]
    },
    {
     "name": "stdout",
     "output_type": "stream",
     "text": [
      "Unable to fetch SCAN:WTEQ_D\n",
      "2212_AK_SCAN SCAN:WTEQ_D 1988-09-01 2019-08-31\n"
     ]
    },
    {
     "name": "stderr",
     "output_type": "stream",
     "text": [
      "<suds.sax.document.Document object at 0x7f0709a5a9b0>\n"
     ]
    },
    {
     "name": "stdout",
     "output_type": "stream",
     "text": [
      "Unable to fetch SCAN:WTEQ_D\n",
      "2221_AK_SCAN SCAN:WTEQ_D 1988-09-01 2019-08-31\n"
     ]
    },
    {
     "name": "stderr",
     "output_type": "stream",
     "text": [
      "<suds.sax.document.Document object at 0x7f0709a0ada0>\n"
     ]
    },
    {
     "name": "stdout",
     "output_type": "stream",
     "text": [
      "Unable to fetch SCAN:WTEQ_D\n",
      "1182_AK_SNTL SNOTEL:SNWD_D 1988-09-01 2019-08-31\n",
      "1093_AK_SNTL SNOTEL:SNWD_D 1988-09-01 2019-08-31\n",
      "958_AK_SNTL SNOTEL:SNWD_D 1988-09-01 2019-08-31\n",
      "959_AK_SNTL SNOTEL:SNWD_D 1988-09-01 2019-08-31\n",
      "1092_AK_SNTL SNOTEL:SNWD_D 1988-09-01 2019-08-31\n",
      "1174_AK_SNTL SNOTEL:SNWD_D 1988-09-01 2019-08-31\n",
      "1268_AK_SNTL SNOTEL:SNWD_D 1988-09-01 2019-08-31\n",
      "956_AK_SNTL SNOTEL:SNWD_D 1988-09-01 2019-08-31\n",
      "963_AK_SNTL SNOTEL:SNWD_D 1988-09-01 2019-08-31\n",
      "964_AK_SNTL SNOTEL:SNWD_D 1988-09-01 2019-08-31\n",
      "1091_AK_SNTL SNOTEL:SNWD_D 1988-09-01 2019-08-31\n",
      "946_AK_SNTL SNOTEL:SNWD_D 1988-09-01 2019-08-31\n",
      "1275_AK_SNTL SNOTEL:SNWD_D 1988-09-01 2019-08-31\n",
      "1175_AK_SNTL SNOTEL:SNWD_D 1988-09-01 2019-08-31\n",
      "966_AK_SNTL SNOTEL:SNWD_D 1988-09-01 2019-08-31\n",
      "947_AK_SNTL SNOTEL:SNWD_D 1988-09-01 2019-08-31\n",
      "1096_AK_SNTL SNOTEL:SNWD_D 1988-09-01 2019-08-31\n",
      "1094_AK_SNTL SNOTEL:SNWD_D 1988-09-01 2019-08-31\n",
      "949_AK_SNTL SNOTEL:SNWD_D 1988-09-01 2019-08-31\n",
      "1035_AK_SNTL SNOTEL:SNWD_D 1988-09-01 2019-08-31\n",
      "1103_AK_SNTL SNOTEL:SNWD_D 1988-09-01 2019-08-31\n",
      "1073_AK_SNTL SNOTEL:SNWD_D 1988-09-01 2019-08-31\n",
      "948_AK_SNTL SNOTEL:SNWD_D 1988-09-01 2019-08-31\n",
      "950_AK_SNTL SNOTEL:SNWD_D 1988-09-01 2019-08-31\n",
      "1002_AK_SNTL SNOTEL:SNWD_D 1988-09-01 2019-08-31\n"
     ]
    },
    {
     "name": "stderr",
     "output_type": "stream",
     "text": [
      "<suds.sax.document.Document object at 0x7f06ffd026a0>\n"
     ]
    },
    {
     "name": "stdout",
     "output_type": "stream",
     "text": [
      "Unable to fetch SNOTEL:SNWD_D\n",
      "955_AK_SNTL SNOTEL:SNWD_D 1988-09-01 2019-08-31\n",
      "967_AK_SNTL SNOTEL:SNWD_D 1988-09-01 2019-08-31\n",
      "1266_AK_SNTL SNOTEL:SNWD_D 1988-09-01 2019-08-31\n",
      "951_AK_SNTL SNOTEL:SNWD_D 1988-09-01 2019-08-31\n",
      "1089_AK_SNTL SNOTEL:SNWD_D 1988-09-01 2019-08-31\n",
      "954_AK_SNTL SNOTEL:SNWD_D 1988-09-01 2019-08-31\n",
      "952_AK_SNTL SNOTEL:SNWD_D 1988-09-01 2019-08-31\n",
      "1055_AK_SNTL SNOTEL:SNWD_D 1988-09-01 2019-08-31\n",
      "1182_AK_SNTL SNOTEL:PRCP_D 1988-09-01 2019-08-31\n",
      "1093_AK_SNTL SNOTEL:PRCP_D 1988-09-01 2019-08-31\n",
      "958_AK_SNTL SNOTEL:PRCP_D 1988-09-01 2019-08-31\n",
      "959_AK_SNTL SNOTEL:PRCP_D 1988-09-01 2019-08-31\n",
      "1092_AK_SNTL SNOTEL:PRCP_D 1988-09-01 2019-08-31\n",
      "1174_AK_SNTL SNOTEL:PRCP_D 1988-09-01 2019-08-31\n",
      "1268_AK_SNTL SNOTEL:PRCP_D 1988-09-01 2019-08-31\n",
      "956_AK_SNTL SNOTEL:PRCP_D 1988-09-01 2019-08-31\n",
      "963_AK_SNTL SNOTEL:PRCP_D 1988-09-01 2019-08-31\n",
      "964_AK_SNTL SNOTEL:PRCP_D 1988-09-01 2019-08-31\n",
      "1091_AK_SNTL SNOTEL:PRCP_D 1988-09-01 2019-08-31\n",
      "946_AK_SNTL SNOTEL:PRCP_D 1988-09-01 2019-08-31\n",
      "1275_AK_SNTL SNOTEL:PRCP_D 1988-09-01 2019-08-31\n",
      "1175_AK_SNTL SNOTEL:PRCP_D 1988-09-01 2019-08-31\n",
      "966_AK_SNTL SNOTEL:PRCP_D 1988-09-01 2019-08-31\n",
      "947_AK_SNTL SNOTEL:PRCP_D 1988-09-01 2019-08-31\n",
      "1096_AK_SNTL SNOTEL:PRCP_D 1988-09-01 2019-08-31\n",
      "1094_AK_SNTL SNOTEL:PRCP_D 1988-09-01 2019-08-31\n",
      "949_AK_SNTL SNOTEL:PRCP_D 1988-09-01 2019-08-31\n",
      "1035_AK_SNTL SNOTEL:PRCP_D 1988-09-01 2019-08-31\n",
      "1103_AK_SNTL SNOTEL:PRCP_D 1988-09-01 2019-08-31\n",
      "1073_AK_SNTL SNOTEL:PRCP_D 1988-09-01 2019-08-31\n",
      "948_AK_SNTL SNOTEL:PRCP_D 1988-09-01 2019-08-31\n",
      "950_AK_SNTL SNOTEL:PRCP_D 1988-09-01 2019-08-31\n",
      "955_AK_SNTL SNOTEL:PRCP_D 1988-09-01 2019-08-31\n",
      "967_AK_SNTL SNOTEL:PRCP_D 1988-09-01 2019-08-31\n",
      "1266_AK_SNTL SNOTEL:PRCP_D 1988-09-01 2019-08-31\n",
      "951_AK_SNTL SNOTEL:PRCP_D 1988-09-01 2019-08-31\n",
      "1089_AK_SNTL SNOTEL:PRCP_D 1988-09-01 2019-08-31\n",
      "954_AK_SNTL SNOTEL:PRCP_D 1988-09-01 2019-08-31\n",
      "952_AK_SNTL SNOTEL:PRCP_D 1988-09-01 2019-08-31\n",
      "1055_AK_SNTL SNOTEL:PRCP_D 1988-09-01 2019-08-31\n",
      "1182_AK_SNTL SNOTEL:TAVG_D 1988-09-01 2019-08-31\n",
      "1093_AK_SNTL SNOTEL:TAVG_D 1988-09-01 2019-08-31\n",
      "958_AK_SNTL SNOTEL:TAVG_D 1988-09-01 2019-08-31\n",
      "959_AK_SNTL SNOTEL:TAVG_D 1988-09-01 2019-08-31\n",
      "1092_AK_SNTL SNOTEL:TAVG_D 1988-09-01 2019-08-31\n",
      "1174_AK_SNTL SNOTEL:TAVG_D 1988-09-01 2019-08-31\n",
      "1268_AK_SNTL SNOTEL:TAVG_D 1988-09-01 2019-08-31\n",
      "956_AK_SNTL SNOTEL:TAVG_D 1988-09-01 2019-08-31\n",
      "963_AK_SNTL SNOTEL:TAVG_D 1988-09-01 2019-08-31\n",
      "964_AK_SNTL SNOTEL:TAVG_D 1988-09-01 2019-08-31\n",
      "1091_AK_SNTL SNOTEL:TAVG_D 1988-09-01 2019-08-31\n",
      "946_AK_SNTL SNOTEL:TAVG_D 1988-09-01 2019-08-31\n",
      "1275_AK_SNTL SNOTEL:TAVG_D 1988-09-01 2019-08-31\n",
      "1175_AK_SNTL SNOTEL:TAVG_D 1988-09-01 2019-08-31\n",
      "966_AK_SNTL SNOTEL:TAVG_D 1988-09-01 2019-08-31\n",
      "947_AK_SNTL SNOTEL:TAVG_D 1988-09-01 2019-08-31\n",
      "1096_AK_SNTL SNOTEL:TAVG_D 1988-09-01 2019-08-31\n",
      "1094_AK_SNTL SNOTEL:TAVG_D 1988-09-01 2019-08-31\n",
      "949_AK_SNTL SNOTEL:TAVG_D 1988-09-01 2019-08-31\n",
      "1035_AK_SNTL SNOTEL:TAVG_D 1988-09-01 2019-08-31\n",
      "1103_AK_SNTL SNOTEL:TAVG_D 1988-09-01 2019-08-31\n",
      "1073_AK_SNTL SNOTEL:TAVG_D 1988-09-01 2019-08-31\n",
      "948_AK_SNTL SNOTEL:TAVG_D 1988-09-01 2019-08-31\n",
      "950_AK_SNTL SNOTEL:TAVG_D 1988-09-01 2019-08-31\n",
      "955_AK_SNTL SNOTEL:TAVG_D 1988-09-01 2019-08-31\n",
      "967_AK_SNTL SNOTEL:TAVG_D 1988-09-01 2019-08-31\n",
      "1266_AK_SNTL SNOTEL:TAVG_D 1988-09-01 2019-08-31\n",
      "951_AK_SNTL SNOTEL:TAVG_D 1988-09-01 2019-08-31\n",
      "1089_AK_SNTL SNOTEL:TAVG_D 1988-09-01 2019-08-31\n",
      "954_AK_SNTL SNOTEL:TAVG_D 1988-09-01 2019-08-31\n",
      "952_AK_SNTL SNOTEL:TAVG_D 1988-09-01 2019-08-31\n",
      "1055_AK_SNTL SNOTEL:TAVG_D 1988-09-01 2019-08-31\n",
      "1182_AK_SNTL SNOTEL:TMIN_D 1988-09-01 2019-08-31\n",
      "1093_AK_SNTL SNOTEL:TMIN_D 1988-09-01 2019-08-31\n",
      "958_AK_SNTL SNOTEL:TMIN_D 1988-09-01 2019-08-31\n",
      "959_AK_SNTL SNOTEL:TMIN_D 1988-09-01 2019-08-31\n",
      "1092_AK_SNTL SNOTEL:TMIN_D 1988-09-01 2019-08-31\n",
      "1174_AK_SNTL SNOTEL:TMIN_D 1988-09-01 2019-08-31\n",
      "1268_AK_SNTL SNOTEL:TMIN_D 1988-09-01 2019-08-31\n",
      "956_AK_SNTL SNOTEL:TMIN_D 1988-09-01 2019-08-31\n",
      "963_AK_SNTL SNOTEL:TMIN_D 1988-09-01 2019-08-31\n",
      "964_AK_SNTL SNOTEL:TMIN_D 1988-09-01 2019-08-31\n",
      "1091_AK_SNTL SNOTEL:TMIN_D 1988-09-01 2019-08-31\n",
      "946_AK_SNTL SNOTEL:TMIN_D 1988-09-01 2019-08-31\n",
      "1275_AK_SNTL SNOTEL:TMIN_D 1988-09-01 2019-08-31\n",
      "1175_AK_SNTL SNOTEL:TMIN_D 1988-09-01 2019-08-31\n",
      "966_AK_SNTL SNOTEL:TMIN_D 1988-09-01 2019-08-31\n",
      "947_AK_SNTL SNOTEL:TMIN_D 1988-09-01 2019-08-31\n",
      "1096_AK_SNTL SNOTEL:TMIN_D 1988-09-01 2019-08-31\n",
      "1094_AK_SNTL SNOTEL:TMIN_D 1988-09-01 2019-08-31\n",
      "949_AK_SNTL SNOTEL:TMIN_D 1988-09-01 2019-08-31\n",
      "1035_AK_SNTL SNOTEL:TMIN_D 1988-09-01 2019-08-31\n",
      "1103_AK_SNTL SNOTEL:TMIN_D 1988-09-01 2019-08-31\n",
      "1073_AK_SNTL SNOTEL:TMIN_D 1988-09-01 2019-08-31\n",
      "948_AK_SNTL SNOTEL:TMIN_D 1988-09-01 2019-08-31\n",
      "950_AK_SNTL SNOTEL:TMIN_D 1988-09-01 2019-08-31\n",
      "955_AK_SNTL SNOTEL:TMIN_D 1988-09-01 2019-08-31\n",
      "967_AK_SNTL SNOTEL:TMIN_D 1988-09-01 2019-08-31\n",
      "1266_AK_SNTL SNOTEL:TMIN_D 1988-09-01 2019-08-31\n",
      "951_AK_SNTL SNOTEL:TMIN_D 1988-09-01 2019-08-31\n",
      "1089_AK_SNTL SNOTEL:TMIN_D 1988-09-01 2019-08-31\n",
      "954_AK_SNTL SNOTEL:TMIN_D 1988-09-01 2019-08-31\n",
      "952_AK_SNTL SNOTEL:TMIN_D 1988-09-01 2019-08-31\n",
      "1055_AK_SNTL SNOTEL:TMIN_D 1988-09-01 2019-08-31\n",
      "1182_AK_SNTL SNOTEL:TMAX_D 1988-09-01 2019-08-31\n",
      "1093_AK_SNTL SNOTEL:TMAX_D 1988-09-01 2019-08-31\n",
      "958_AK_SNTL SNOTEL:TMAX_D 1988-09-01 2019-08-31\n",
      "959_AK_SNTL SNOTEL:TMAX_D 1988-09-01 2019-08-31\n",
      "1092_AK_SNTL SNOTEL:TMAX_D 1988-09-01 2019-08-31\n",
      "1174_AK_SNTL SNOTEL:TMAX_D 1988-09-01 2019-08-31\n",
      "1268_AK_SNTL SNOTEL:TMAX_D 1988-09-01 2019-08-31\n",
      "956_AK_SNTL SNOTEL:TMAX_D 1988-09-01 2019-08-31\n",
      "963_AK_SNTL SNOTEL:TMAX_D 1988-09-01 2019-08-31\n",
      "964_AK_SNTL SNOTEL:TMAX_D 1988-09-01 2019-08-31\n",
      "1091_AK_SNTL SNOTEL:TMAX_D 1988-09-01 2019-08-31\n",
      "946_AK_SNTL SNOTEL:TMAX_D 1988-09-01 2019-08-31\n",
      "1275_AK_SNTL SNOTEL:TMAX_D 1988-09-01 2019-08-31\n",
      "1175_AK_SNTL SNOTEL:TMAX_D 1988-09-01 2019-08-31\n",
      "966_AK_SNTL SNOTEL:TMAX_D 1988-09-01 2019-08-31\n",
      "947_AK_SNTL SNOTEL:TMAX_D 1988-09-01 2019-08-31\n",
      "1096_AK_SNTL SNOTEL:TMAX_D 1988-09-01 2019-08-31\n",
      "1094_AK_SNTL SNOTEL:TMAX_D 1988-09-01 2019-08-31\n",
      "949_AK_SNTL SNOTEL:TMAX_D 1988-09-01 2019-08-31\n",
      "1035_AK_SNTL SNOTEL:TMAX_D 1988-09-01 2019-08-31\n",
      "1103_AK_SNTL SNOTEL:TMAX_D 1988-09-01 2019-08-31\n",
      "1073_AK_SNTL SNOTEL:TMAX_D 1988-09-01 2019-08-31\n",
      "948_AK_SNTL SNOTEL:TMAX_D 1988-09-01 2019-08-31\n",
      "950_AK_SNTL SNOTEL:TMAX_D 1988-09-01 2019-08-31\n",
      "955_AK_SNTL SNOTEL:TMAX_D 1988-09-01 2019-08-31\n",
      "967_AK_SNTL SNOTEL:TMAX_D 1988-09-01 2019-08-31\n",
      "1266_AK_SNTL SNOTEL:TMAX_D 1988-09-01 2019-08-31\n",
      "951_AK_SNTL SNOTEL:TMAX_D 1988-09-01 2019-08-31\n",
      "1089_AK_SNTL SNOTEL:TMAX_D 1988-09-01 2019-08-31\n",
      "954_AK_SNTL SNOTEL:TMAX_D 1988-09-01 2019-08-31\n",
      "952_AK_SNTL SNOTEL:TMAX_D 1988-09-01 2019-08-31\n",
      "1055_AK_SNTL SNOTEL:TMAX_D 1988-09-01 2019-08-31\n"
     ]
    }
   ],
   "source": [
    "# run all AK domains\n",
    "domain_list = ['BEAU','BRIS','CHUK','JUNE','KLAW','SITK','TAKU','YUKO']\n",
    "\n",
    "for domain in domain_list:\n",
    "    print(domain)\n",
    "    #where the data should be stored\n",
    "    dataPath = '/nfs/attic/dfh/2020_NPRB/data/snotel/'+domain+'/'\n",
    "\n",
    "    #get geodataframe of all SNOTEL sites in the domain\n",
    "    snotel_gdf = get_snotel_stns(domain)\n",
    "    \n",
    "    if len(snotel_gdf) > 0:\n",
    "\n",
    "        #get SWE timeseries \n",
    "        domain_gdf, swe = get_snotel_data(snotel_gdf,st_dt,ed_dt,'WTEQ')\n",
    "        #get snow depth timeseries \n",
    "        domain_gdf, hs = get_snotel_data(snotel_gdf,st_dt,ed_dt,'SNWD')\n",
    "        #get precipitation timeseries \n",
    "        domain_gdf, pr = get_snotel_data(snotel_gdf,st_dt,ed_dt,'PRCP')\n",
    "        #get av temp timeseries \n",
    "        domain_gdf, tav = get_snotel_data(snotel_gdf,st_dt, ed_dt,'TAVG')\n",
    "        #get min temp timeseries \n",
    "        domain_gdf, tmn = get_snotel_data(snotel_gdf,st_dt, ed_dt,'TMIN')\n",
    "        #get max temp timeseries \n",
    "        domain_gdf, tmx = get_snotel_data(snotel_gdf,st_dt, ed_dt,'TMAX')\n",
    "        \n",
    "        if len(domain_gdf) > 0:\n",
    "    \n",
    "            # save geojson\n",
    "            out = dataPath + 'Station_'+domain+'.geojson'\n",
    "            domain_gdf.to_file(out, driver='GeoJSON')\n",
    "\n",
    "            #save swe\n",
    "            out = dataPath + 'Station_data_SWEDmeters'+st_dt+'_'+ed_dt+'.csv'\n",
    "            swe.to_csv(out)\n",
    "\n",
    "            #save hs\n",
    "            out = dataPath + 'Station_data_HSmeters'+st_dt+'_'+ed_dt+'.csv'\n",
    "            hs.to_csv(out)\n",
    "\n",
    "            #save pr\n",
    "            out = dataPath + 'Station_data_PRmeters'+st_dt+'_'+ed_dt+'.csv'\n",
    "            pr.to_csv(out)\n",
    "\n",
    "            #save tav\n",
    "            out = dataPath + 'Station_data_TAVGcelsius'+st_dt+'_'+ed_dt+'.csv'\n",
    "            tav.to_csv(out)\n",
    "\n",
    "            #save tmn\n",
    "            out = dataPath + 'Station_data_TMINcelsius'+st_dt+'_'+ed_dt+'.csv'\n",
    "            tmn.to_csv(out)\n",
    "\n",
    "            #save tmx\n",
    "            out = dataPath + 'Station_data_TMAXcelsius'+st_dt+'_'+ed_dt+'.csv'\n",
    "            tmx.to_csv(out)"
   ]
  },
  {
   "cell_type": "markdown",
   "metadata": {},
   "source": [
    "# old"
   ]
  },
  {
   "cell_type": "code",
   "execution_count": 8,
   "metadata": {},
   "outputs": [],
   "source": [
    "def fetch_scan(sitecode, variablecode, start_date, end_date):\n",
    "    print(sitecode, variablecode, start_date, end_date)\n",
    "    values_df = None\n",
    "    #scan\n",
    "    wsdlurl = \"https://hydroportal.cuahsi.org/Scan/cuahsi_1_1.asmx?WSDL\"\n",
    "    try:\n",
    "        #Request data from the server\n",
    "        site_values = ulmo.cuahsi.wof.get_values(\n",
    "            wsdlurl, 'SCAN:'+sitecode, variablecode, start=start_date, end=end_date\n",
    "        )\n",
    "        #Convert to a Pandas DataFrame   \n",
    "        values_df = pd.DataFrame.from_dict(site_values['values'])\n",
    "        #Parse the datetime values to Pandas Timestamp objects\n",
    "        values_df['datetime'] = pd.to_datetime(values_df['datetime'])\n",
    "        #Set the DataFrame index to the Timestamps\n",
    "        values_df.set_index('datetime', inplace=True)\n",
    "        #Convert values to float and replace -9999 nodata values with NaN\n",
    "        values_df['value'] = pd.to_numeric(values_df['value']).replace(-9999, np.nan)\n",
    "        #Remove any records flagged with lower quality\n",
    "        values_df = values_df[values_df['quality_control_level_code'] == '1']\n",
    "    except:\n",
    "        print(\"Unable to fetch %s\" % variablecode)\n",
    "    \n",
    "    return values_df"
   ]
  },
  {
   "cell_type": "code",
   "execution_count": 9,
   "metadata": {},
   "outputs": [],
   "source": [
    "# returns daily timeseries\n",
    "# https://www.wcc.nrcs.usda.gov/web_service/AWDB_Web_Service_Reference.htm#commonlyUsedElementCodes\n",
    "# 'WTEQ': swe [in]\n",
    "# 'SNWD': snow depth [in]\n",
    "# 'PRCP': precipitation increment [in]\n",
    "# 'PREC': precipitation accumulation [in]\n",
    "# 'TAVG': average air temp [F]\n",
    "# 'TMIN': minimum air temp [F]\n",
    "# 'TMAX': maximum air temp [F]\n",
    "# 'TOBS': observered air temp [F]\n",
    "def get_snotel_data(gdf,sd_dt, ed_dt,var,units='metric'):\n",
    "    '''\n",
    "    gdf - pandas geodataframe of SNOTEL sites\n",
    "    st_dt - start date string 'yyyy-mm-dd'\n",
    "    ed_dt - end date string 'yyyy-mm-dd'\n",
    "    var - snotel variable of interest \n",
    "    units - 'metric' (default) or 'imperial'\n",
    "    '''\n",
    "    stn_data = pd.DataFrame(index=pd.date_range(start=st_dt, end=ed_dt))\n",
    "    \n",
    "\n",
    "    for sitecode in gdf.code:\n",
    "        if sitecode[-4:] == 'SNTL':\n",
    "            try:\n",
    "                data = fetch(sitecode,'SNOTEL:'+var+'_D', start_date=st_dt, end_date=ed_dt)\n",
    "                #check for nan values\n",
    "    ### uncomment this if you want to drop stations with x % missing data\n",
    "    #             if len(data.value[np.isnan(data.value)]) > 0:\n",
    "    #                 #check if more than 10% of data is missing\n",
    "    #                 if len(data.value[np.isnan(data.value)])/len(data) > .15:\n",
    "    #                     print('More than 15% of days missing')\n",
    "    #                     gdf.drop(gdf.loc[gdf['code']==sitecode].index, inplace=True)\n",
    "    #                     continue\n",
    "                stn_data[sitecode] = data.value\n",
    "            except:\n",
    "                gdf.drop(gdf.loc[gdf['code']==sitecode].index, inplace=True)  \n",
    "                \n",
    "        if sitecode[-4:] == 'SCAN':\n",
    "            try:\n",
    "                data = fetch_scan(sitecode,'SCAN:'+var+'_D', start_date=st_dt, end_date=ed_dt)\n",
    "                stn_data[sitecode] = data.value\n",
    "            except:\n",
    "                gdf.drop(gdf.loc[gdf['code']==sitecode].index, inplace=True)  \n",
    "                \n",
    "    gdf.reset_index(drop=True, inplace=True)\n",
    "    if units == 'metric':\n",
    "        if (var == 'WTEQ') |(var == 'SNWD') |(var == 'PRCP') |(var == 'PREC'):\n",
    "            #convert SNOTEL units[in] to [m]\n",
    "            for sitecode in gdf.code:\n",
    "                stn_data[sitecode] = 0.0254 * stn_data[sitecode]\n",
    "        elif (var == 'TAVG') |(var == 'TMIN') |(var == 'TMAX') |(var == 'TOBS'):\n",
    "            #convert SNOTEL units[F] to [C]\n",
    "            for sitecode in gdf.code:\n",
    "                stn_data[sitecode] = (stn_data[sitecode] - 32) * 5/9\n",
    "    return gdf, stn_data"
   ]
  },
  {
   "cell_type": "code",
   "execution_count": null,
   "metadata": {},
   "outputs": [],
   "source": []
  },
  {
   "cell_type": "code",
   "execution_count": null,
   "metadata": {},
   "outputs": [],
   "source": [
    "# returns daily timeseries\n",
    "# https://www.wcc.nrcs.usda.gov/web_service/AWDB_Web_Service_Reference.htm#commonlyUsedElementCodes\n",
    "# 'WTEQ': swe [in]\n",
    "# 'SNWD': snow depth [in]\n",
    "# 'PRCP': precipitation increment [in]\n",
    "# 'PREC': precipitation accumulation [in]\n",
    "# 'TAVG': average air temp [F]\n",
    "# 'TMIN': minimum air temp [F]\n",
    "# 'TMAX': maximum air temp [F]\n",
    "# 'TOBS': observered air temp [F]\n",
    "def get_snotel_data(gdf,sd_dt, ed_dt,var,units='metric'):\n",
    "    '''\n",
    "    gdf - pandas geodataframe of SNOTEL sites\n",
    "    st_dt - start date string 'yyyy-mm-dd'\n",
    "    ed_dt - end date string 'yyyy-mm-dd'\n",
    "    var - snotel variable of interest \n",
    "    units - 'metric' (default) or 'imperial'\n",
    "    '''\n",
    "    stn_data = pd.DataFrame(index=pd.date_range(start=st_dt, end=ed_dt))\n",
    "    \n",
    "\n",
    "    for sitecode in gdf.code:\n",
    "        if sitecode[-4:] == 'SNTL':\n",
    "            try:\n",
    "                data = fetch(sitecode,'SNOTEL:'+var+'_D', start_date=st_dt, end_date=ed_dt)\n",
    "                #check for nan values\n",
    "    ### uncomment this if you want to drop stations with x % missing data\n",
    "    #             if len(data.value[np.isnan(data.value)]) > 0:\n",
    "    #                 #check if more than 10% of data is missing\n",
    "    #                 if len(data.value[np.isnan(data.value)])/len(data) > .15:\n",
    "    #                     print('More than 15% of days missing')\n",
    "    #                     gdf.drop(gdf.loc[gdf['code']==sitecode].index, inplace=True)\n",
    "    #                     continue\n",
    "                stn_data[sitecode] = data.value\n",
    "            except:\n",
    "                gdf.drop(gdf.loc[gdf['code']==sitecode].index, inplace=True)  \n",
    "                \n",
    "        if sitecode[-4:] == 'SCAN':\n",
    "            try:\n",
    "                data = fetch_scan(sitecode,'SCAN:'+var+'_D', start_date=st_dt, end_date=ed_dt)\n",
    "                stn_data[sitecode] = data.value\n",
    "            except:\n",
    "                gdf.drop(gdf.loc[gdf['code']==sitecode].index, inplace=True)  \n",
    "                \n",
    "    gdf.reset_index(drop=True, inplace=True)\n",
    "    if units == 'metric':\n",
    "        if (var == 'WTEQ') |(var == 'SNWD') |(var == 'PRCP') |(var == 'PREC'):\n",
    "            #convert SNOTEL units[in] to [m]\n",
    "            for sitecode in gdf.code:\n",
    "                stn_data[sitecode] = 0.0254 * stn_data[sitecode]\n",
    "        elif (var == 'TAVG') |(var == 'TMIN') |(var == 'TMAX') |(var == 'TOBS'):\n",
    "            #convert SNOTEL units[F] to [C]\n",
    "            for sitecode in gdf.code:\n",
    "                stn_data[sitecode] = (stn_data[sitecode] - 32) * 5/9\n",
    "    return gdf, stn_data"
   ]
  },
  {
   "cell_type": "code",
   "execution_count": 23,
   "metadata": {},
   "outputs": [
    {
     "name": "stdout",
     "output_type": "stream",
     "text": [
      "chena\n",
      "9\n",
      "0     960_AK_SNTL\n",
      "1    1174_AK_SNTL\n",
      "2     947_AK_SNTL\n",
      "3     949_AK_SNTL\n",
      "4     948_AK_SNTL\n",
      "5     950_AK_SNTL\n",
      "6     951_AK_SNTL\n",
      "7     952_AK_SNTL\n",
      "8    1090_AK_SNTL\n",
      "Name: code, dtype: object\n"
     ]
    },
    {
     "data": {
      "image/png": "[encoded data removed]",
      "text/plain": [
       "<Figure size 432x288 with 1 Axes>"
      ]
     },
     "metadata": {
      "needs_background": "light"
     },
     "output_type": "display_data"
    }
   ],
   "source": [
    "import matplotlib.pyplot as plt\n",
    "# run all AK domains\n",
    "domain_list = ['chena']\n",
    "\n",
    "for domain in domain_list:\n",
    "    print(domain)\n",
    "    #get geodataframe of all SNOTEL sites in the domain\n",
    "    snotel_gdf = get_snotel_stns(domain)\n",
    "    print(len(snotel_gdf))\n",
    "    print(snotel_gdf.code)\n",
    "    if len(snotel_gdf)>0:\n",
    "        fig, ax = plt.subplots()\n",
    "        snotel_gdf.plot(ax=ax)"
   ]
  },
  {
   "cell_type": "code",
   "execution_count": 7,
   "metadata": {
    "collapsed": true,
    "jupyter": {
     "outputs_hidden": true
    }
   },
   "outputs": [
    {
     "name": "stdout",
     "output_type": "stream",
     "text": [
      "BEAU\n"
     ]
    },
    {
     "ename": "KeyboardInterrupt",
     "evalue": "",
     "output_type": "error",
     "traceback": [
      "\u001b[0;31m---------------------------------------------------------------------------\u001b[0m",
      "\u001b[0;31mKeyboardInterrupt\u001b[0m                         Traceback (most recent call last)",
      "\u001b[0;32m<ipython-input-7-01f168e6735c>\u001b[0m in \u001b[0;36m<module>\u001b[0;34m\u001b[0m\n\u001b[1;32m      6\u001b[0m     \u001b[0mprint\u001b[0m\u001b[0;34m(\u001b[0m\u001b[0mdomain\u001b[0m\u001b[0;34m)\u001b[0m\u001b[0;34m\u001b[0m\u001b[0;34m\u001b[0m\u001b[0m\n\u001b[1;32m      7\u001b[0m     \u001b[0;31m#get geodataframe of all SNOTEL sites in the domain\u001b[0m\u001b[0;34m\u001b[0m\u001b[0;34m\u001b[0m\u001b[0;34m\u001b[0m\u001b[0m\n\u001b[0;32m----> 8\u001b[0;31m     \u001b[0msnotel_gdf\u001b[0m \u001b[0;34m=\u001b[0m \u001b[0mget_snotel_stns\u001b[0m\u001b[0;34m(\u001b[0m\u001b[0mdomain\u001b[0m\u001b[0;34m)\u001b[0m\u001b[0;34m\u001b[0m\u001b[0;34m\u001b[0m\u001b[0m\n\u001b[0m\u001b[1;32m      9\u001b[0m     \u001b[0mprint\u001b[0m\u001b[0;34m(\u001b[0m\u001b[0mlen\u001b[0m\u001b[0;34m(\u001b[0m\u001b[0msnotel_gdf\u001b[0m\u001b[0;34m)\u001b[0m\u001b[0;34m)\u001b[0m\u001b[0;34m\u001b[0m\u001b[0;34m\u001b[0m\u001b[0m\n\u001b[1;32m     10\u001b[0m     \u001b[0mprint\u001b[0m\u001b[0;34m(\u001b[0m\u001b[0msnotel_gdf\u001b[0m\u001b[0;34m.\u001b[0m\u001b[0mcode\u001b[0m\u001b[0;34m)\u001b[0m\u001b[0;34m\u001b[0m\u001b[0;34m\u001b[0m\u001b[0m\n",
      "\u001b[0;32m<ipython-input-3-42cff7c17c1c>\u001b[0m in \u001b[0;36mget_snotel_stns\u001b[0;34m(domain)\u001b[0m\n\u001b[1;32m     59\u001b[0m \u001b[0;34m\u001b[0m\u001b[0m\n\u001b[1;32m     60\u001b[0m     \u001b[0;31m# get dictionary of snotel sites\u001b[0m\u001b[0;34m\u001b[0m\u001b[0;34m\u001b[0m\u001b[0;34m\u001b[0m\u001b[0m\n\u001b[0;32m---> 61\u001b[0;31m     \u001b[0mscan_sites\u001b[0m \u001b[0;34m=\u001b[0m \u001b[0mulmo\u001b[0m\u001b[0;34m.\u001b[0m\u001b[0mcuahsi\u001b[0m\u001b[0;34m.\u001b[0m\u001b[0mwof\u001b[0m\u001b[0;34m.\u001b[0m\u001b[0mget_sites\u001b[0m\u001b[0;34m(\u001b[0m\u001b[0mwsdlurl_scan\u001b[0m\u001b[0;34m,\u001b[0m\u001b[0muser_cache\u001b[0m\u001b[0;34m=\u001b[0m\u001b[0;32mTrue\u001b[0m\u001b[0;34m)\u001b[0m\u001b[0;34m\u001b[0m\u001b[0;34m\u001b[0m\u001b[0m\n\u001b[0m\u001b[1;32m     62\u001b[0m \u001b[0;34m\u001b[0m\u001b[0m\n\u001b[1;32m     63\u001b[0m     \u001b[0;31m#turn sites to geodataframe\u001b[0m\u001b[0;34m\u001b[0m\u001b[0;34m\u001b[0m\u001b[0;34m\u001b[0m\u001b[0m\n",
      "\u001b[0;32m/nfs/attic/dfh/miniconda/envs/snowmodelcal/lib/python3.6/site-packages/ulmo/cuahsi/wof/core.py\u001b[0m in \u001b[0;36mget_sites\u001b[0;34m(wsdl_url, suds_cache, timeout, user_cache)\u001b[0m\n\u001b[1;32m     54\u001b[0m         \u001b[0ma\u001b[0m \u001b[0mpython\u001b[0m \u001b[0mdict\u001b[0m \u001b[0;32mwith\u001b[0m \u001b[0msite\u001b[0m \u001b[0mcodes\u001b[0m \u001b[0mmapped\u001b[0m \u001b[0mto\u001b[0m \u001b[0msite\u001b[0m \u001b[0minformation\u001b[0m\u001b[0;34m\u001b[0m\u001b[0;34m\u001b[0m\u001b[0m\n\u001b[1;32m     55\u001b[0m     \"\"\"\n\u001b[0;32m---> 56\u001b[0;31m     \u001b[0msuds_client\u001b[0m \u001b[0;34m=\u001b[0m \u001b[0m_get_client\u001b[0m\u001b[0;34m(\u001b[0m\u001b[0mwsdl_url\u001b[0m\u001b[0;34m,\u001b[0m \u001b[0msuds_cache\u001b[0m\u001b[0;34m,\u001b[0m \u001b[0mtimeout\u001b[0m\u001b[0;34m,\u001b[0m \u001b[0muser_cache\u001b[0m\u001b[0;34m)\u001b[0m\u001b[0;34m\u001b[0m\u001b[0;34m\u001b[0m\u001b[0m\n\u001b[0m\u001b[1;32m     57\u001b[0m \u001b[0;34m\u001b[0m\u001b[0m\n\u001b[1;32m     58\u001b[0m     \u001b[0mwaterml_version\u001b[0m \u001b[0;34m=\u001b[0m \u001b[0m_waterml_version\u001b[0m\u001b[0;34m(\u001b[0m\u001b[0msuds_client\u001b[0m\u001b[0;34m)\u001b[0m\u001b[0;34m\u001b[0m\u001b[0;34m\u001b[0m\u001b[0m\n",
      "\u001b[0;32m/nfs/attic/dfh/miniconda/envs/snowmodelcal/lib/python3.6/site-packages/ulmo/cuahsi/wof/core.py\u001b[0m in \u001b[0;36m_get_client\u001b[0;34m(wsdl_url, suds_cache, suds_timeout, user_cache)\u001b[0m\n\u001b[1;32m    328\u001b[0m             \u001b[0mcache_dir\u001b[0m \u001b[0;34m=\u001b[0m \u001b[0mos\u001b[0m\u001b[0;34m.\u001b[0m\u001b[0mpath\u001b[0m\u001b[0;34m.\u001b[0m\u001b[0mjoin\u001b[0m\u001b[0;34m(\u001b[0m\u001b[0mutil\u001b[0m\u001b[0;34m.\u001b[0m\u001b[0mget_ulmo_dir\u001b[0m\u001b[0;34m(\u001b[0m\u001b[0;34m)\u001b[0m\u001b[0;34m,\u001b[0m \u001b[0;34m'suds'\u001b[0m\u001b[0;34m)\u001b[0m\u001b[0;34m\u001b[0m\u001b[0;34m\u001b[0m\u001b[0m\n\u001b[1;32m    329\u001b[0m             \u001b[0mutil\u001b[0m\u001b[0;34m.\u001b[0m\u001b[0mmkdir_if_doesnt_exist\u001b[0m\u001b[0;34m(\u001b[0m\u001b[0mcache_dir\u001b[0m\u001b[0;34m)\u001b[0m\u001b[0;34m\u001b[0m\u001b[0;34m\u001b[0m\u001b[0m\n\u001b[0;32m--> 330\u001b[0;31m             \u001b[0m_suds_client\u001b[0m \u001b[0;34m=\u001b[0m \u001b[0msuds\u001b[0m\u001b[0;34m.\u001b[0m\u001b[0mclient\u001b[0m\u001b[0;34m.\u001b[0m\u001b[0mClient\u001b[0m\u001b[0;34m(\u001b[0m\u001b[0mwsdl_url\u001b[0m\u001b[0;34m,\u001b[0m \u001b[0mcache\u001b[0m\u001b[0;34m=\u001b[0m\u001b[0mObjectCache\u001b[0m\u001b[0;34m(\u001b[0m\u001b[0mlocation\u001b[0m\u001b[0;34m=\u001b[0m\u001b[0mcache_dir\u001b[0m\u001b[0;34m)\u001b[0m\u001b[0;34m)\u001b[0m\u001b[0;34m\u001b[0m\u001b[0;34m\u001b[0m\u001b[0m\n\u001b[0m\u001b[1;32m    331\u001b[0m         \u001b[0;32melse\u001b[0m\u001b[0;34m:\u001b[0m\u001b[0;34m\u001b[0m\u001b[0;34m\u001b[0m\u001b[0m\n\u001b[1;32m    332\u001b[0m             \u001b[0m_suds_client\u001b[0m \u001b[0;34m=\u001b[0m \u001b[0msuds\u001b[0m\u001b[0;34m.\u001b[0m\u001b[0mclient\u001b[0m\u001b[0;34m.\u001b[0m\u001b[0mClient\u001b[0m\u001b[0;34m(\u001b[0m\u001b[0mwsdl_url\u001b[0m\u001b[0;34m)\u001b[0m\u001b[0;34m\u001b[0m\u001b[0;34m\u001b[0m\u001b[0m\n",
      "\u001b[0;32m/nfs/attic/dfh/miniconda/envs/snowmodelcal/lib/python3.6/site-packages/suds/client.py\u001b[0m in \u001b[0;36m__init__\u001b[0;34m(self, url, **kwargs)\u001b[0m\n\u001b[1;32m    113\u001b[0m         \u001b[0mself\u001b[0m\u001b[0;34m.\u001b[0m\u001b[0mset_options\u001b[0m\u001b[0;34m(\u001b[0m\u001b[0;34m**\u001b[0m\u001b[0mkwargs\u001b[0m\u001b[0;34m)\u001b[0m\u001b[0;34m\u001b[0m\u001b[0;34m\u001b[0m\u001b[0m\n\u001b[1;32m    114\u001b[0m         \u001b[0mreader\u001b[0m \u001b[0;34m=\u001b[0m \u001b[0mDefinitionsReader\u001b[0m\u001b[0;34m(\u001b[0m\u001b[0moptions\u001b[0m\u001b[0;34m,\u001b[0m \u001b[0mDefinitions\u001b[0m\u001b[0;34m)\u001b[0m\u001b[0;34m\u001b[0m\u001b[0;34m\u001b[0m\u001b[0m\n\u001b[0;32m--> 115\u001b[0;31m         \u001b[0mself\u001b[0m\u001b[0;34m.\u001b[0m\u001b[0mwsdl\u001b[0m \u001b[0;34m=\u001b[0m \u001b[0mreader\u001b[0m\u001b[0;34m.\u001b[0m\u001b[0mopen\u001b[0m\u001b[0;34m(\u001b[0m\u001b[0murl\u001b[0m\u001b[0;34m)\u001b[0m\u001b[0;34m\u001b[0m\u001b[0;34m\u001b[0m\u001b[0m\n\u001b[0m\u001b[1;32m    116\u001b[0m         \u001b[0mplugins\u001b[0m \u001b[0;34m=\u001b[0m \u001b[0mPluginContainer\u001b[0m\u001b[0;34m(\u001b[0m\u001b[0moptions\u001b[0m\u001b[0;34m.\u001b[0m\u001b[0mplugins\u001b[0m\u001b[0;34m)\u001b[0m\u001b[0;34m\u001b[0m\u001b[0;34m\u001b[0m\u001b[0m\n\u001b[1;32m    117\u001b[0m         \u001b[0mplugins\u001b[0m\u001b[0;34m.\u001b[0m\u001b[0minit\u001b[0m\u001b[0;34m.\u001b[0m\u001b[0minitialized\u001b[0m\u001b[0;34m(\u001b[0m\u001b[0mwsdl\u001b[0m\u001b[0;34m=\u001b[0m\u001b[0mself\u001b[0m\u001b[0;34m.\u001b[0m\u001b[0mwsdl\u001b[0m\u001b[0;34m)\u001b[0m\u001b[0;34m\u001b[0m\u001b[0;34m\u001b[0m\u001b[0m\n",
      "\u001b[0;32m/nfs/attic/dfh/miniconda/envs/snowmodelcal/lib/python3.6/site-packages/suds/reader.py\u001b[0m in \u001b[0;36mopen\u001b[0;34m(self, url)\u001b[0m\n\u001b[1;32m    148\u001b[0m         \u001b[0md\u001b[0m \u001b[0;34m=\u001b[0m \u001b[0mcache\u001b[0m\u001b[0;34m.\u001b[0m\u001b[0mget\u001b[0m\u001b[0;34m(\u001b[0m\u001b[0mid\u001b[0m\u001b[0;34m)\u001b[0m\u001b[0;34m\u001b[0m\u001b[0;34m\u001b[0m\u001b[0m\n\u001b[1;32m    149\u001b[0m         \u001b[0;32mif\u001b[0m \u001b[0md\u001b[0m \u001b[0;32mis\u001b[0m \u001b[0;32mNone\u001b[0m\u001b[0;34m:\u001b[0m\u001b[0;34m\u001b[0m\u001b[0;34m\u001b[0m\u001b[0m\n\u001b[0;32m--> 150\u001b[0;31m             \u001b[0md\u001b[0m \u001b[0;34m=\u001b[0m \u001b[0mself\u001b[0m\u001b[0;34m.\u001b[0m\u001b[0mfn\u001b[0m\u001b[0;34m(\u001b[0m\u001b[0murl\u001b[0m\u001b[0;34m,\u001b[0m \u001b[0mself\u001b[0m\u001b[0;34m.\u001b[0m\u001b[0moptions\u001b[0m\u001b[0;34m)\u001b[0m\u001b[0;34m\u001b[0m\u001b[0;34m\u001b[0m\u001b[0m\n\u001b[0m\u001b[1;32m    151\u001b[0m             \u001b[0mcache\u001b[0m\u001b[0;34m.\u001b[0m\u001b[0mput\u001b[0m\u001b[0;34m(\u001b[0m\u001b[0mid\u001b[0m\u001b[0;34m,\u001b[0m \u001b[0md\u001b[0m\u001b[0;34m)\u001b[0m\u001b[0;34m\u001b[0m\u001b[0;34m\u001b[0m\u001b[0m\n\u001b[1;32m    152\u001b[0m         \u001b[0;32melse\u001b[0m\u001b[0;34m:\u001b[0m\u001b[0;34m\u001b[0m\u001b[0;34m\u001b[0m\u001b[0m\n",
      "\u001b[0;32m/nfs/attic/dfh/miniconda/envs/snowmodelcal/lib/python3.6/site-packages/suds/wsdl.py\u001b[0m in \u001b[0;36m__init__\u001b[0;34m(self, url, options)\u001b[0m\n\u001b[1;32m    134\u001b[0m         \u001b[0mlog\u001b[0m\u001b[0;34m.\u001b[0m\u001b[0mdebug\u001b[0m\u001b[0;34m(\u001b[0m\u001b[0;34m'reading WSDL at: %s ...'\u001b[0m\u001b[0;34m,\u001b[0m \u001b[0murl\u001b[0m\u001b[0;34m)\u001b[0m\u001b[0;34m\u001b[0m\u001b[0;34m\u001b[0m\u001b[0m\n\u001b[1;32m    135\u001b[0m         \u001b[0mreader\u001b[0m \u001b[0;34m=\u001b[0m \u001b[0mDocumentReader\u001b[0m\u001b[0;34m(\u001b[0m\u001b[0moptions\u001b[0m\u001b[0;34m)\u001b[0m\u001b[0;34m\u001b[0m\u001b[0;34m\u001b[0m\u001b[0m\n\u001b[0;32m--> 136\u001b[0;31m         \u001b[0md\u001b[0m \u001b[0;34m=\u001b[0m \u001b[0mreader\u001b[0m\u001b[0;34m.\u001b[0m\u001b[0mopen\u001b[0m\u001b[0;34m(\u001b[0m\u001b[0murl\u001b[0m\u001b[0;34m)\u001b[0m\u001b[0;34m\u001b[0m\u001b[0;34m\u001b[0m\u001b[0m\n\u001b[0m\u001b[1;32m    137\u001b[0m         \u001b[0mroot\u001b[0m \u001b[0;34m=\u001b[0m \u001b[0md\u001b[0m\u001b[0;34m.\u001b[0m\u001b[0mroot\u001b[0m\u001b[0;34m(\u001b[0m\u001b[0;34m)\u001b[0m\u001b[0;34m\u001b[0m\u001b[0;34m\u001b[0m\u001b[0m\n\u001b[1;32m    138\u001b[0m         \u001b[0mWObject\u001b[0m\u001b[0;34m.\u001b[0m\u001b[0m__init__\u001b[0m\u001b[0;34m(\u001b[0m\u001b[0mself\u001b[0m\u001b[0;34m,\u001b[0m \u001b[0mroot\u001b[0m\u001b[0;34m)\u001b[0m\u001b[0;34m\u001b[0m\u001b[0;34m\u001b[0m\u001b[0m\n",
      "\u001b[0;32m/nfs/attic/dfh/miniconda/envs/snowmodelcal/lib/python3.6/site-packages/suds/reader.py\u001b[0m in \u001b[0;36mopen\u001b[0;34m(self, url)\u001b[0m\n\u001b[1;32m     72\u001b[0m         \u001b[0md\u001b[0m \u001b[0;34m=\u001b[0m \u001b[0mcache\u001b[0m\u001b[0;34m.\u001b[0m\u001b[0mget\u001b[0m\u001b[0;34m(\u001b[0m\u001b[0mid\u001b[0m\u001b[0;34m)\u001b[0m\u001b[0;34m\u001b[0m\u001b[0;34m\u001b[0m\u001b[0m\n\u001b[1;32m     73\u001b[0m         \u001b[0;32mif\u001b[0m \u001b[0md\u001b[0m \u001b[0;32mis\u001b[0m \u001b[0;32mNone\u001b[0m\u001b[0;34m:\u001b[0m\u001b[0;34m\u001b[0m\u001b[0;34m\u001b[0m\u001b[0m\n\u001b[0;32m---> 74\u001b[0;31m             \u001b[0md\u001b[0m \u001b[0;34m=\u001b[0m \u001b[0mself\u001b[0m\u001b[0;34m.\u001b[0m\u001b[0mdownload\u001b[0m\u001b[0;34m(\u001b[0m\u001b[0murl\u001b[0m\u001b[0;34m)\u001b[0m\u001b[0;34m\u001b[0m\u001b[0;34m\u001b[0m\u001b[0m\n\u001b[0m\u001b[1;32m     75\u001b[0m             \u001b[0mcache\u001b[0m\u001b[0;34m.\u001b[0m\u001b[0mput\u001b[0m\u001b[0;34m(\u001b[0m\u001b[0mid\u001b[0m\u001b[0;34m,\u001b[0m \u001b[0md\u001b[0m\u001b[0;34m)\u001b[0m\u001b[0;34m\u001b[0m\u001b[0;34m\u001b[0m\u001b[0m\n\u001b[1;32m     76\u001b[0m         \u001b[0mself\u001b[0m\u001b[0;34m.\u001b[0m\u001b[0mplugins\u001b[0m\u001b[0;34m.\u001b[0m\u001b[0mdocument\u001b[0m\u001b[0;34m.\u001b[0m\u001b[0mparsed\u001b[0m\u001b[0;34m(\u001b[0m\u001b[0murl\u001b[0m\u001b[0;34m=\u001b[0m\u001b[0murl\u001b[0m\u001b[0;34m,\u001b[0m \u001b[0mdocument\u001b[0m\u001b[0;34m=\u001b[0m\u001b[0md\u001b[0m\u001b[0;34m.\u001b[0m\u001b[0mroot\u001b[0m\u001b[0;34m(\u001b[0m\u001b[0;34m)\u001b[0m\u001b[0;34m)\u001b[0m\u001b[0;34m\u001b[0m\u001b[0;34m\u001b[0m\u001b[0m\n",
      "\u001b[0;32m/nfs/attic/dfh/miniconda/envs/snowmodelcal/lib/python3.6/site-packages/suds/reader.py\u001b[0m in \u001b[0;36mdownload\u001b[0;34m(self, url)\u001b[0m\n\u001b[1;32m     90\u001b[0m             \u001b[0mcontent\u001b[0m \u001b[0;34m=\u001b[0m \u001b[0mstore\u001b[0m\u001b[0;34m.\u001b[0m\u001b[0mopen\u001b[0m\u001b[0;34m(\u001b[0m\u001b[0murl\u001b[0m\u001b[0;34m)\u001b[0m\u001b[0;34m\u001b[0m\u001b[0;34m\u001b[0m\u001b[0m\n\u001b[1;32m     91\u001b[0m         \u001b[0;32mif\u001b[0m \u001b[0mcontent\u001b[0m \u001b[0;32mis\u001b[0m \u001b[0;32mNone\u001b[0m\u001b[0;34m:\u001b[0m\u001b[0;34m\u001b[0m\u001b[0;34m\u001b[0m\u001b[0m\n\u001b[0;32m---> 92\u001b[0;31m             \u001b[0mfp\u001b[0m \u001b[0;34m=\u001b[0m \u001b[0mself\u001b[0m\u001b[0;34m.\u001b[0m\u001b[0moptions\u001b[0m\u001b[0;34m.\u001b[0m\u001b[0mtransport\u001b[0m\u001b[0;34m.\u001b[0m\u001b[0mopen\u001b[0m\u001b[0;34m(\u001b[0m\u001b[0mRequest\u001b[0m\u001b[0;34m(\u001b[0m\u001b[0murl\u001b[0m\u001b[0;34m)\u001b[0m\u001b[0;34m)\u001b[0m\u001b[0;34m\u001b[0m\u001b[0;34m\u001b[0m\u001b[0m\n\u001b[0m\u001b[1;32m     93\u001b[0m             \u001b[0;32mtry\u001b[0m\u001b[0;34m:\u001b[0m\u001b[0;34m\u001b[0m\u001b[0;34m\u001b[0m\u001b[0m\n\u001b[1;32m     94\u001b[0m                 \u001b[0mcontent\u001b[0m \u001b[0;34m=\u001b[0m \u001b[0mfp\u001b[0m\u001b[0;34m.\u001b[0m\u001b[0mread\u001b[0m\u001b[0;34m(\u001b[0m\u001b[0;34m)\u001b[0m\u001b[0;34m\u001b[0m\u001b[0;34m\u001b[0m\u001b[0m\n",
      "\u001b[0;32m/nfs/attic/dfh/miniconda/envs/snowmodelcal/lib/python3.6/site-packages/suds/transport/https.py\u001b[0m in \u001b[0;36mopen\u001b[0;34m(self, request)\u001b[0m\n\u001b[1;32m     60\u001b[0m     \u001b[0;32mdef\u001b[0m \u001b[0mopen\u001b[0m\u001b[0;34m(\u001b[0m\u001b[0mself\u001b[0m\u001b[0;34m,\u001b[0m \u001b[0mrequest\u001b[0m\u001b[0;34m)\u001b[0m\u001b[0;34m:\u001b[0m\u001b[0;34m\u001b[0m\u001b[0;34m\u001b[0m\u001b[0m\n\u001b[1;32m     61\u001b[0m         \u001b[0mself\u001b[0m\u001b[0;34m.\u001b[0m\u001b[0maddcredentials\u001b[0m\u001b[0;34m(\u001b[0m\u001b[0mrequest\u001b[0m\u001b[0;34m)\u001b[0m\u001b[0;34m\u001b[0m\u001b[0;34m\u001b[0m\u001b[0m\n\u001b[0;32m---> 62\u001b[0;31m         \u001b[0;32mreturn\u001b[0m \u001b[0mHttpTransport\u001b[0m\u001b[0;34m.\u001b[0m\u001b[0mopen\u001b[0m\u001b[0;34m(\u001b[0m\u001b[0mself\u001b[0m\u001b[0;34m,\u001b[0m \u001b[0mrequest\u001b[0m\u001b[0;34m)\u001b[0m\u001b[0;34m\u001b[0m\u001b[0;34m\u001b[0m\u001b[0m\n\u001b[0m\u001b[1;32m     63\u001b[0m \u001b[0;34m\u001b[0m\u001b[0m\n\u001b[1;32m     64\u001b[0m     \u001b[0;32mdef\u001b[0m \u001b[0msend\u001b[0m\u001b[0;34m(\u001b[0m\u001b[0mself\u001b[0m\u001b[0;34m,\u001b[0m \u001b[0mrequest\u001b[0m\u001b[0;34m)\u001b[0m\u001b[0;34m:\u001b[0m\u001b[0;34m\u001b[0m\u001b[0;34m\u001b[0m\u001b[0m\n",
      "\u001b[0;32m/nfs/attic/dfh/miniconda/envs/snowmodelcal/lib/python3.6/site-packages/suds/transport/http.py\u001b[0m in \u001b[0;36mopen\u001b[0;34m(self, request)\u001b[0m\n\u001b[1;32m     65\u001b[0m             \u001b[0mu2request\u001b[0m \u001b[0;34m=\u001b[0m \u001b[0murllib\u001b[0m\u001b[0;34m.\u001b[0m\u001b[0mrequest\u001b[0m\u001b[0;34m.\u001b[0m\u001b[0mRequest\u001b[0m\u001b[0;34m(\u001b[0m\u001b[0murl\u001b[0m\u001b[0;34m)\u001b[0m\u001b[0;34m\u001b[0m\u001b[0;34m\u001b[0m\u001b[0m\n\u001b[1;32m     66\u001b[0m             \u001b[0mself\u001b[0m\u001b[0;34m.\u001b[0m\u001b[0mproxy\u001b[0m \u001b[0;34m=\u001b[0m \u001b[0mself\u001b[0m\u001b[0;34m.\u001b[0m\u001b[0moptions\u001b[0m\u001b[0;34m.\u001b[0m\u001b[0mproxy\u001b[0m\u001b[0;34m\u001b[0m\u001b[0;34m\u001b[0m\u001b[0m\n\u001b[0;32m---> 67\u001b[0;31m             \u001b[0;32mreturn\u001b[0m \u001b[0mself\u001b[0m\u001b[0;34m.\u001b[0m\u001b[0mu2open\u001b[0m\u001b[0;34m(\u001b[0m\u001b[0mu2request\u001b[0m\u001b[0;34m)\u001b[0m\u001b[0;34m\u001b[0m\u001b[0;34m\u001b[0m\u001b[0m\n\u001b[0m\u001b[1;32m     68\u001b[0m         \u001b[0;32mexcept\u001b[0m \u001b[0murllib\u001b[0m\u001b[0;34m.\u001b[0m\u001b[0merror\u001b[0m\u001b[0;34m.\u001b[0m\u001b[0mHTTPError\u001b[0m \u001b[0;32mas\u001b[0m \u001b[0me\u001b[0m\u001b[0;34m:\u001b[0m\u001b[0;34m\u001b[0m\u001b[0;34m\u001b[0m\u001b[0m\n\u001b[1;32m     69\u001b[0m             \u001b[0;32mraise\u001b[0m \u001b[0mTransportError\u001b[0m\u001b[0;34m(\u001b[0m\u001b[0mstr\u001b[0m\u001b[0;34m(\u001b[0m\u001b[0me\u001b[0m\u001b[0;34m)\u001b[0m\u001b[0;34m,\u001b[0m \u001b[0me\u001b[0m\u001b[0;34m.\u001b[0m\u001b[0mcode\u001b[0m\u001b[0;34m,\u001b[0m \u001b[0me\u001b[0m\u001b[0;34m.\u001b[0m\u001b[0mfp\u001b[0m\u001b[0;34m)\u001b[0m\u001b[0;34m\u001b[0m\u001b[0;34m\u001b[0m\u001b[0m\n",
      "\u001b[0;32m/nfs/attic/dfh/miniconda/envs/snowmodelcal/lib/python3.6/site-packages/suds/transport/http.py\u001b[0m in \u001b[0;36mu2open\u001b[0;34m(self, u2request)\u001b[0m\n\u001b[1;32m    130\u001b[0m             \u001b[0msocket\u001b[0m\u001b[0;34m.\u001b[0m\u001b[0msetdefaulttimeout\u001b[0m\u001b[0;34m(\u001b[0m\u001b[0mtm\u001b[0m\u001b[0;34m)\u001b[0m\u001b[0;34m\u001b[0m\u001b[0;34m\u001b[0m\u001b[0m\n\u001b[1;32m    131\u001b[0m             \u001b[0;32mreturn\u001b[0m \u001b[0murl\u001b[0m\u001b[0;34m.\u001b[0m\u001b[0mopen\u001b[0m\u001b[0;34m(\u001b[0m\u001b[0mu2request\u001b[0m\u001b[0;34m)\u001b[0m\u001b[0;34m\u001b[0m\u001b[0;34m\u001b[0m\u001b[0m\n\u001b[0;32m--> 132\u001b[0;31m         \u001b[0;32mreturn\u001b[0m \u001b[0murl\u001b[0m\u001b[0;34m.\u001b[0m\u001b[0mopen\u001b[0m\u001b[0;34m(\u001b[0m\u001b[0mu2request\u001b[0m\u001b[0;34m,\u001b[0m \u001b[0mtimeout\u001b[0m\u001b[0;34m=\u001b[0m\u001b[0mtm\u001b[0m\u001b[0;34m)\u001b[0m\u001b[0;34m\u001b[0m\u001b[0;34m\u001b[0m\u001b[0m\n\u001b[0m\u001b[1;32m    133\u001b[0m \u001b[0;34m\u001b[0m\u001b[0m\n\u001b[1;32m    134\u001b[0m     \u001b[0;32mdef\u001b[0m \u001b[0mu2opener\u001b[0m\u001b[0;34m(\u001b[0m\u001b[0mself\u001b[0m\u001b[0;34m)\u001b[0m\u001b[0;34m:\u001b[0m\u001b[0;34m\u001b[0m\u001b[0;34m\u001b[0m\u001b[0m\n",
      "\u001b[0;32m/nfs/attic/dfh/miniconda/envs/snowmodelcal/lib/python3.6/urllib/request.py\u001b[0m in \u001b[0;36mopen\u001b[0;34m(self, fullurl, data, timeout)\u001b[0m\n\u001b[1;32m    524\u001b[0m             \u001b[0mreq\u001b[0m \u001b[0;34m=\u001b[0m \u001b[0mmeth\u001b[0m\u001b[0;34m(\u001b[0m\u001b[0mreq\u001b[0m\u001b[0;34m)\u001b[0m\u001b[0;34m\u001b[0m\u001b[0;34m\u001b[0m\u001b[0m\n\u001b[1;32m    525\u001b[0m \u001b[0;34m\u001b[0m\u001b[0m\n\u001b[0;32m--> 526\u001b[0;31m         \u001b[0mresponse\u001b[0m \u001b[0;34m=\u001b[0m \u001b[0mself\u001b[0m\u001b[0;34m.\u001b[0m\u001b[0m_open\u001b[0m\u001b[0;34m(\u001b[0m\u001b[0mreq\u001b[0m\u001b[0;34m,\u001b[0m \u001b[0mdata\u001b[0m\u001b[0;34m)\u001b[0m\u001b[0;34m\u001b[0m\u001b[0;34m\u001b[0m\u001b[0m\n\u001b[0m\u001b[1;32m    527\u001b[0m \u001b[0;34m\u001b[0m\u001b[0m\n\u001b[1;32m    528\u001b[0m         \u001b[0;31m# post-process response\u001b[0m\u001b[0;34m\u001b[0m\u001b[0;34m\u001b[0m\u001b[0;34m\u001b[0m\u001b[0m\n",
      "\u001b[0;32m/nfs/attic/dfh/miniconda/envs/snowmodelcal/lib/python3.6/urllib/request.py\u001b[0m in \u001b[0;36m_open\u001b[0;34m(self, req, data)\u001b[0m\n\u001b[1;32m    542\u001b[0m         \u001b[0mprotocol\u001b[0m \u001b[0;34m=\u001b[0m \u001b[0mreq\u001b[0m\u001b[0;34m.\u001b[0m\u001b[0mtype\u001b[0m\u001b[0;34m\u001b[0m\u001b[0;34m\u001b[0m\u001b[0m\n\u001b[1;32m    543\u001b[0m         result = self._call_chain(self.handle_open, protocol, protocol +\n\u001b[0;32m--> 544\u001b[0;31m                                   '_open', req)\n\u001b[0m\u001b[1;32m    545\u001b[0m         \u001b[0;32mif\u001b[0m \u001b[0mresult\u001b[0m\u001b[0;34m:\u001b[0m\u001b[0;34m\u001b[0m\u001b[0;34m\u001b[0m\u001b[0m\n\u001b[1;32m    546\u001b[0m             \u001b[0;32mreturn\u001b[0m \u001b[0mresult\u001b[0m\u001b[0;34m\u001b[0m\u001b[0;34m\u001b[0m\u001b[0m\n",
      "\u001b[0;32m/nfs/attic/dfh/miniconda/envs/snowmodelcal/lib/python3.6/urllib/request.py\u001b[0m in \u001b[0;36m_call_chain\u001b[0;34m(self, chain, kind, meth_name, *args)\u001b[0m\n\u001b[1;32m    502\u001b[0m         \u001b[0;32mfor\u001b[0m \u001b[0mhandler\u001b[0m \u001b[0;32min\u001b[0m \u001b[0mhandlers\u001b[0m\u001b[0;34m:\u001b[0m\u001b[0;34m\u001b[0m\u001b[0;34m\u001b[0m\u001b[0m\n\u001b[1;32m    503\u001b[0m             \u001b[0mfunc\u001b[0m \u001b[0;34m=\u001b[0m \u001b[0mgetattr\u001b[0m\u001b[0;34m(\u001b[0m\u001b[0mhandler\u001b[0m\u001b[0;34m,\u001b[0m \u001b[0mmeth_name\u001b[0m\u001b[0;34m)\u001b[0m\u001b[0;34m\u001b[0m\u001b[0;34m\u001b[0m\u001b[0m\n\u001b[0;32m--> 504\u001b[0;31m             \u001b[0mresult\u001b[0m \u001b[0;34m=\u001b[0m \u001b[0mfunc\u001b[0m\u001b[0;34m(\u001b[0m\u001b[0;34m*\u001b[0m\u001b[0margs\u001b[0m\u001b[0;34m)\u001b[0m\u001b[0;34m\u001b[0m\u001b[0;34m\u001b[0m\u001b[0m\n\u001b[0m\u001b[1;32m    505\u001b[0m             \u001b[0;32mif\u001b[0m \u001b[0mresult\u001b[0m \u001b[0;32mis\u001b[0m \u001b[0;32mnot\u001b[0m \u001b[0;32mNone\u001b[0m\u001b[0;34m:\u001b[0m\u001b[0;34m\u001b[0m\u001b[0;34m\u001b[0m\u001b[0m\n\u001b[1;32m    506\u001b[0m                 \u001b[0;32mreturn\u001b[0m \u001b[0mresult\u001b[0m\u001b[0;34m\u001b[0m\u001b[0;34m\u001b[0m\u001b[0m\n",
      "\u001b[0;32m/nfs/attic/dfh/miniconda/envs/snowmodelcal/lib/python3.6/urllib/request.py\u001b[0m in \u001b[0;36mhttps_open\u001b[0;34m(self, req)\u001b[0m\n\u001b[1;32m   1359\u001b[0m         \u001b[0;32mdef\u001b[0m \u001b[0mhttps_open\u001b[0m\u001b[0;34m(\u001b[0m\u001b[0mself\u001b[0m\u001b[0;34m,\u001b[0m \u001b[0mreq\u001b[0m\u001b[0;34m)\u001b[0m\u001b[0;34m:\u001b[0m\u001b[0;34m\u001b[0m\u001b[0;34m\u001b[0m\u001b[0m\n\u001b[1;32m   1360\u001b[0m             return self.do_open(http.client.HTTPSConnection, req,\n\u001b[0;32m-> 1361\u001b[0;31m                 context=self._context, check_hostname=self._check_hostname)\n\u001b[0m\u001b[1;32m   1362\u001b[0m \u001b[0;34m\u001b[0m\u001b[0m\n\u001b[1;32m   1363\u001b[0m         \u001b[0mhttps_request\u001b[0m \u001b[0;34m=\u001b[0m \u001b[0mAbstractHTTPHandler\u001b[0m\u001b[0;34m.\u001b[0m\u001b[0mdo_request_\u001b[0m\u001b[0;34m\u001b[0m\u001b[0;34m\u001b[0m\u001b[0m\n",
      "\u001b[0;32m/nfs/attic/dfh/miniconda/envs/snowmodelcal/lib/python3.6/urllib/request.py\u001b[0m in \u001b[0;36mdo_open\u001b[0;34m(self, http_class, req, **http_conn_args)\u001b[0m\n\u001b[1;32m   1319\u001b[0m             \u001b[0;32mexcept\u001b[0m \u001b[0mOSError\u001b[0m \u001b[0;32mas\u001b[0m \u001b[0merr\u001b[0m\u001b[0;34m:\u001b[0m \u001b[0;31m# timeout error\u001b[0m\u001b[0;34m\u001b[0m\u001b[0;34m\u001b[0m\u001b[0m\n\u001b[1;32m   1320\u001b[0m                 \u001b[0;32mraise\u001b[0m \u001b[0mURLError\u001b[0m\u001b[0;34m(\u001b[0m\u001b[0merr\u001b[0m\u001b[0;34m)\u001b[0m\u001b[0;34m\u001b[0m\u001b[0;34m\u001b[0m\u001b[0m\n\u001b[0;32m-> 1321\u001b[0;31m             \u001b[0mr\u001b[0m \u001b[0;34m=\u001b[0m \u001b[0mh\u001b[0m\u001b[0;34m.\u001b[0m\u001b[0mgetresponse\u001b[0m\u001b[0;34m(\u001b[0m\u001b[0;34m)\u001b[0m\u001b[0;34m\u001b[0m\u001b[0;34m\u001b[0m\u001b[0m\n\u001b[0m\u001b[1;32m   1322\u001b[0m         \u001b[0;32mexcept\u001b[0m\u001b[0;34m:\u001b[0m\u001b[0;34m\u001b[0m\u001b[0;34m\u001b[0m\u001b[0m\n\u001b[1;32m   1323\u001b[0m             \u001b[0mh\u001b[0m\u001b[0;34m.\u001b[0m\u001b[0mclose\u001b[0m\u001b[0;34m(\u001b[0m\u001b[0;34m)\u001b[0m\u001b[0;34m\u001b[0m\u001b[0;34m\u001b[0m\u001b[0m\n",
      "\u001b[0;32m/nfs/attic/dfh/miniconda/envs/snowmodelcal/lib/python3.6/http/client.py\u001b[0m in \u001b[0;36mgetresponse\u001b[0;34m(self)\u001b[0m\n\u001b[1;32m   1352\u001b[0m         \u001b[0;32mtry\u001b[0m\u001b[0;34m:\u001b[0m\u001b[0;34m\u001b[0m\u001b[0;34m\u001b[0m\u001b[0m\n\u001b[1;32m   1353\u001b[0m             \u001b[0;32mtry\u001b[0m\u001b[0;34m:\u001b[0m\u001b[0;34m\u001b[0m\u001b[0;34m\u001b[0m\u001b[0m\n\u001b[0;32m-> 1354\u001b[0;31m                 \u001b[0mresponse\u001b[0m\u001b[0;34m.\u001b[0m\u001b[0mbegin\u001b[0m\u001b[0;34m(\u001b[0m\u001b[0;34m)\u001b[0m\u001b[0;34m\u001b[0m\u001b[0;34m\u001b[0m\u001b[0m\n\u001b[0m\u001b[1;32m   1355\u001b[0m             \u001b[0;32mexcept\u001b[0m \u001b[0mConnectionError\u001b[0m\u001b[0;34m:\u001b[0m\u001b[0;34m\u001b[0m\u001b[0;34m\u001b[0m\u001b[0m\n\u001b[1;32m   1356\u001b[0m                 \u001b[0mself\u001b[0m\u001b[0;34m.\u001b[0m\u001b[0mclose\u001b[0m\u001b[0;34m(\u001b[0m\u001b[0;34m)\u001b[0m\u001b[0;34m\u001b[0m\u001b[0;34m\u001b[0m\u001b[0m\n",
      "\u001b[0;32m/nfs/attic/dfh/miniconda/envs/snowmodelcal/lib/python3.6/http/client.py\u001b[0m in \u001b[0;36mbegin\u001b[0;34m(self)\u001b[0m\n\u001b[1;32m    305\u001b[0m         \u001b[0;31m# read until we get a non-100 response\u001b[0m\u001b[0;34m\u001b[0m\u001b[0;34m\u001b[0m\u001b[0;34m\u001b[0m\u001b[0m\n\u001b[1;32m    306\u001b[0m         \u001b[0;32mwhile\u001b[0m \u001b[0;32mTrue\u001b[0m\u001b[0;34m:\u001b[0m\u001b[0;34m\u001b[0m\u001b[0;34m\u001b[0m\u001b[0m\n\u001b[0;32m--> 307\u001b[0;31m             \u001b[0mversion\u001b[0m\u001b[0;34m,\u001b[0m \u001b[0mstatus\u001b[0m\u001b[0;34m,\u001b[0m \u001b[0mreason\u001b[0m \u001b[0;34m=\u001b[0m \u001b[0mself\u001b[0m\u001b[0;34m.\u001b[0m\u001b[0m_read_status\u001b[0m\u001b[0;34m(\u001b[0m\u001b[0;34m)\u001b[0m\u001b[0;34m\u001b[0m\u001b[0;34m\u001b[0m\u001b[0m\n\u001b[0m\u001b[1;32m    308\u001b[0m             \u001b[0;32mif\u001b[0m \u001b[0mstatus\u001b[0m \u001b[0;34m!=\u001b[0m \u001b[0mCONTINUE\u001b[0m\u001b[0;34m:\u001b[0m\u001b[0;34m\u001b[0m\u001b[0;34m\u001b[0m\u001b[0m\n\u001b[1;32m    309\u001b[0m                 \u001b[0;32mbreak\u001b[0m\u001b[0;34m\u001b[0m\u001b[0;34m\u001b[0m\u001b[0m\n",
      "\u001b[0;32m/nfs/attic/dfh/miniconda/envs/snowmodelcal/lib/python3.6/http/client.py\u001b[0m in \u001b[0;36m_read_status\u001b[0;34m(self)\u001b[0m\n\u001b[1;32m    266\u001b[0m \u001b[0;34m\u001b[0m\u001b[0m\n\u001b[1;32m    267\u001b[0m     \u001b[0;32mdef\u001b[0m \u001b[0m_read_status\u001b[0m\u001b[0;34m(\u001b[0m\u001b[0mself\u001b[0m\u001b[0;34m)\u001b[0m\u001b[0;34m:\u001b[0m\u001b[0;34m\u001b[0m\u001b[0;34m\u001b[0m\u001b[0m\n\u001b[0;32m--> 268\u001b[0;31m         \u001b[0mline\u001b[0m \u001b[0;34m=\u001b[0m \u001b[0mstr\u001b[0m\u001b[0;34m(\u001b[0m\u001b[0mself\u001b[0m\u001b[0;34m.\u001b[0m\u001b[0mfp\u001b[0m\u001b[0;34m.\u001b[0m\u001b[0mreadline\u001b[0m\u001b[0;34m(\u001b[0m\u001b[0m_MAXLINE\u001b[0m \u001b[0;34m+\u001b[0m \u001b[0;36m1\u001b[0m\u001b[0;34m)\u001b[0m\u001b[0;34m,\u001b[0m \u001b[0;34m\"iso-8859-1\"\u001b[0m\u001b[0;34m)\u001b[0m\u001b[0;34m\u001b[0m\u001b[0;34m\u001b[0m\u001b[0m\n\u001b[0m\u001b[1;32m    269\u001b[0m         \u001b[0;32mif\u001b[0m \u001b[0mlen\u001b[0m\u001b[0;34m(\u001b[0m\u001b[0mline\u001b[0m\u001b[0;34m)\u001b[0m \u001b[0;34m>\u001b[0m \u001b[0m_MAXLINE\u001b[0m\u001b[0;34m:\u001b[0m\u001b[0;34m\u001b[0m\u001b[0;34m\u001b[0m\u001b[0m\n\u001b[1;32m    270\u001b[0m             \u001b[0;32mraise\u001b[0m \u001b[0mLineTooLong\u001b[0m\u001b[0;34m(\u001b[0m\u001b[0;34m\"status line\"\u001b[0m\u001b[0;34m)\u001b[0m\u001b[0;34m\u001b[0m\u001b[0;34m\u001b[0m\u001b[0m\n",
      "\u001b[0;32m/nfs/attic/dfh/miniconda/envs/snowmodelcal/lib/python3.6/socket.py\u001b[0m in \u001b[0;36mreadinto\u001b[0;34m(self, b)\u001b[0m\n\u001b[1;32m    584\u001b[0m         \u001b[0;32mwhile\u001b[0m \u001b[0;32mTrue\u001b[0m\u001b[0;34m:\u001b[0m\u001b[0;34m\u001b[0m\u001b[0;34m\u001b[0m\u001b[0m\n\u001b[1;32m    585\u001b[0m             \u001b[0;32mtry\u001b[0m\u001b[0;34m:\u001b[0m\u001b[0;34m\u001b[0m\u001b[0;34m\u001b[0m\u001b[0m\n\u001b[0;32m--> 586\u001b[0;31m                 \u001b[0;32mreturn\u001b[0m \u001b[0mself\u001b[0m\u001b[0;34m.\u001b[0m\u001b[0m_sock\u001b[0m\u001b[0;34m.\u001b[0m\u001b[0mrecv_into\u001b[0m\u001b[0;34m(\u001b[0m\u001b[0mb\u001b[0m\u001b[0;34m)\u001b[0m\u001b[0;34m\u001b[0m\u001b[0;34m\u001b[0m\u001b[0m\n\u001b[0m\u001b[1;32m    587\u001b[0m             \u001b[0;32mexcept\u001b[0m \u001b[0mtimeout\u001b[0m\u001b[0;34m:\u001b[0m\u001b[0;34m\u001b[0m\u001b[0;34m\u001b[0m\u001b[0m\n\u001b[1;32m    588\u001b[0m                 \u001b[0mself\u001b[0m\u001b[0;34m.\u001b[0m\u001b[0m_timeout_occurred\u001b[0m \u001b[0;34m=\u001b[0m \u001b[0;32mTrue\u001b[0m\u001b[0;34m\u001b[0m\u001b[0;34m\u001b[0m\u001b[0m\n",
      "\u001b[0;32m/nfs/attic/dfh/miniconda/envs/snowmodelcal/lib/python3.6/ssl.py\u001b[0m in \u001b[0;36mrecv_into\u001b[0;34m(self, buffer, nbytes, flags)\u001b[0m\n\u001b[1;32m   1010\u001b[0m                   \u001b[0;34m\"non-zero flags not allowed in calls to recv_into() on %s\"\u001b[0m \u001b[0;34m%\u001b[0m\u001b[0;34m\u001b[0m\u001b[0;34m\u001b[0m\u001b[0m\n\u001b[1;32m   1011\u001b[0m                   self.__class__)\n\u001b[0;32m-> 1012\u001b[0;31m             \u001b[0;32mreturn\u001b[0m \u001b[0mself\u001b[0m\u001b[0;34m.\u001b[0m\u001b[0mread\u001b[0m\u001b[0;34m(\u001b[0m\u001b[0mnbytes\u001b[0m\u001b[0;34m,\u001b[0m \u001b[0mbuffer\u001b[0m\u001b[0;34m)\u001b[0m\u001b[0;34m\u001b[0m\u001b[0;34m\u001b[0m\u001b[0m\n\u001b[0m\u001b[1;32m   1013\u001b[0m         \u001b[0;32melse\u001b[0m\u001b[0;34m:\u001b[0m\u001b[0;34m\u001b[0m\u001b[0;34m\u001b[0m\u001b[0m\n\u001b[1;32m   1014\u001b[0m             \u001b[0;32mreturn\u001b[0m \u001b[0msocket\u001b[0m\u001b[0;34m.\u001b[0m\u001b[0mrecv_into\u001b[0m\u001b[0;34m(\u001b[0m\u001b[0mself\u001b[0m\u001b[0;34m,\u001b[0m \u001b[0mbuffer\u001b[0m\u001b[0;34m,\u001b[0m \u001b[0mnbytes\u001b[0m\u001b[0;34m,\u001b[0m \u001b[0mflags\u001b[0m\u001b[0;34m)\u001b[0m\u001b[0;34m\u001b[0m\u001b[0;34m\u001b[0m\u001b[0m\n",
      "\u001b[0;32m/nfs/attic/dfh/miniconda/envs/snowmodelcal/lib/python3.6/ssl.py\u001b[0m in \u001b[0;36mread\u001b[0;34m(self, len, buffer)\u001b[0m\n\u001b[1;32m    872\u001b[0m             \u001b[0;32mraise\u001b[0m \u001b[0mValueError\u001b[0m\u001b[0;34m(\u001b[0m\u001b[0;34m\"Read on closed or unwrapped SSL socket.\"\u001b[0m\u001b[0;34m)\u001b[0m\u001b[0;34m\u001b[0m\u001b[0;34m\u001b[0m\u001b[0m\n\u001b[1;32m    873\u001b[0m         \u001b[0;32mtry\u001b[0m\u001b[0;34m:\u001b[0m\u001b[0;34m\u001b[0m\u001b[0;34m\u001b[0m\u001b[0m\n\u001b[0;32m--> 874\u001b[0;31m             \u001b[0;32mreturn\u001b[0m \u001b[0mself\u001b[0m\u001b[0;34m.\u001b[0m\u001b[0m_sslobj\u001b[0m\u001b[0;34m.\u001b[0m\u001b[0mread\u001b[0m\u001b[0;34m(\u001b[0m\u001b[0mlen\u001b[0m\u001b[0;34m,\u001b[0m \u001b[0mbuffer\u001b[0m\u001b[0;34m)\u001b[0m\u001b[0;34m\u001b[0m\u001b[0;34m\u001b[0m\u001b[0m\n\u001b[0m\u001b[1;32m    875\u001b[0m         \u001b[0;32mexcept\u001b[0m \u001b[0mSSLError\u001b[0m \u001b[0;32mas\u001b[0m \u001b[0mx\u001b[0m\u001b[0;34m:\u001b[0m\u001b[0;34m\u001b[0m\u001b[0;34m\u001b[0m\u001b[0m\n\u001b[1;32m    876\u001b[0m             \u001b[0;32mif\u001b[0m \u001b[0mx\u001b[0m\u001b[0;34m.\u001b[0m\u001b[0margs\u001b[0m\u001b[0;34m[\u001b[0m\u001b[0;36m0\u001b[0m\u001b[0;34m]\u001b[0m \u001b[0;34m==\u001b[0m \u001b[0mSSL_ERROR_EOF\u001b[0m \u001b[0;32mand\u001b[0m \u001b[0mself\u001b[0m\u001b[0;34m.\u001b[0m\u001b[0msuppress_ragged_eofs\u001b[0m\u001b[0;34m:\u001b[0m\u001b[0;34m\u001b[0m\u001b[0;34m\u001b[0m\u001b[0m\n",
      "\u001b[0;32m/nfs/attic/dfh/miniconda/envs/snowmodelcal/lib/python3.6/ssl.py\u001b[0m in \u001b[0;36mread\u001b[0;34m(self, len, buffer)\u001b[0m\n\u001b[1;32m    629\u001b[0m         \"\"\"\n\u001b[1;32m    630\u001b[0m         \u001b[0;32mif\u001b[0m \u001b[0mbuffer\u001b[0m \u001b[0;32mis\u001b[0m \u001b[0;32mnot\u001b[0m \u001b[0;32mNone\u001b[0m\u001b[0;34m:\u001b[0m\u001b[0;34m\u001b[0m\u001b[0;34m\u001b[0m\u001b[0m\n\u001b[0;32m--> 631\u001b[0;31m             \u001b[0mv\u001b[0m \u001b[0;34m=\u001b[0m \u001b[0mself\u001b[0m\u001b[0;34m.\u001b[0m\u001b[0m_sslobj\u001b[0m\u001b[0;34m.\u001b[0m\u001b[0mread\u001b[0m\u001b[0;34m(\u001b[0m\u001b[0mlen\u001b[0m\u001b[0;34m,\u001b[0m \u001b[0mbuffer\u001b[0m\u001b[0;34m)\u001b[0m\u001b[0;34m\u001b[0m\u001b[0;34m\u001b[0m\u001b[0m\n\u001b[0m\u001b[1;32m    632\u001b[0m         \u001b[0;32melse\u001b[0m\u001b[0;34m:\u001b[0m\u001b[0;34m\u001b[0m\u001b[0;34m\u001b[0m\u001b[0m\n\u001b[1;32m    633\u001b[0m             \u001b[0mv\u001b[0m \u001b[0;34m=\u001b[0m \u001b[0mself\u001b[0m\u001b[0;34m.\u001b[0m\u001b[0m_sslobj\u001b[0m\u001b[0;34m.\u001b[0m\u001b[0mread\u001b[0m\u001b[0;34m(\u001b[0m\u001b[0mlen\u001b[0m\u001b[0;34m)\u001b[0m\u001b[0;34m\u001b[0m\u001b[0;34m\u001b[0m\u001b[0m\n",
      "\u001b[0;31mKeyboardInterrupt\u001b[0m: "
     ]
    }
   ],
   "source": [
    "import matplotlib.pyplot as plt\n",
    "# run all AK domains\n",
    "domain_list = ['BEAU','BRIS','CHUK','JUNE','KLAW','SITK','TAKU','YUKO']\n",
    "\n",
    "for domain in domain_list:\n",
    "    print(domain)\n",
    "    #get geodataframe of all SNOTEL sites in the domain\n",
    "    snotel_gdf = get_snotel_stns(domain)\n",
    "    print(len(snotel_gdf))\n",
    "    print(snotel_gdf.code)\n",
    "    if len(snotel_gdf)>0:\n",
    "        fig, ax = plt.subplots()\n",
    "        snotel_gdf.plot(ax=ax)"
   ]
  },
  {
   "cell_type": "code",
   "execution_count": 8,
   "metadata": {},
   "outputs": [
    {
     "name": "stdout",
     "output_type": "stream",
     "text": [
      "0    1001_AK_SNTL\n",
      "Name: code, dtype: object\n",
      "1001_AK_SNTL SNOTEL:WTEQ_D 1988-09-01 2019-08-31\n"
     ]
    }
   ],
   "source": [
    "# domain = 'JUNE'\n",
    "# #get geodataframe of all SNOTEL sites in the domain\n",
    "# snotel_gdf = get_snotel_stns(domain)\n",
    "# print(snotel_gdf.code)\n",
    "\n",
    "# #get xy coordinates of stations in gdf \n",
    "\n",
    "# #get SWE timeseries \n",
    "# domain_gdf, swe = get_snotel_data(snotel_gdf,st_dt,ed_dt,'WTEQ')"
   ]
  }
 ],
 "metadata": {
  "kernelspec": {
   "display_name": "Python [conda env:snowmodelcal]",
   "language": "python",
   "name": "conda-env-snowmodelcal-py"
  },
  "language_info": {
   "codemirror_mode": {
    "name": "ipython",
    "version": 3
   },
   "file_extension": ".py",
   "mimetype": "text/x-python",
   "name": "python",
   "nbconvert_exporter": "python",
   "pygments_lexer": "ipython3",
   "version": "3.6.10"
  }
 },
 "nbformat": 4,
 "nbformat_minor": 4
}
